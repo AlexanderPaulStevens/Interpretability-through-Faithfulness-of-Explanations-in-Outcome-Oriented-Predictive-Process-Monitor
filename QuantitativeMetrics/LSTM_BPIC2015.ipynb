{
 "cells": [
  {
   "cell_type": "markdown",
   "metadata": {
    "id": "3Y3PAY3qbT4x"
   },
   "source": [
    "# Analyzing the Spectrum of Explainability in Outcome-Oriented Predictive Process Monitoring"
   ]
  },
  {
   "cell_type": "markdown",
   "metadata": {
    "id": "4nfPTuq9bT4y"
   },
   "source": [
    "## BPIC2015_2_f2"
   ]
  },
  {
   "cell_type": "markdown",
   "metadata": {
    "id": "Cug_bCFubT4y"
   },
   "source": [
    "### data preprocessing"
   ]
  },
  {
   "cell_type": "markdown",
   "metadata": {
    "heading_collapsed": true,
    "id": "mJD4mKi1bT4y"
   },
   "source": [
    "#### importing libraries and terminology"
   ]
  },
  {
   "cell_type": "code",
   "execution_count": 1,
   "metadata": {
    "hidden": true,
    "id": "u5IiUd7lbT4y"
   },
   "outputs": [],
   "source": [
    "#import libraries"
   ]
  },
  {
   "cell_type": "code",
   "execution_count": 2,
   "metadata": {
    "hidden": true,
    "id": "MQDp4i8Tm61-"
   },
   "outputs": [],
   "source": [
    "import pandas as pd\n",
    "import numpy as np\n",
    "import time\n",
    "import os\n",
    "import random\n",
    "import pickle\n",
    "from sklearn.tree import DecisionTreeClassifier\n",
    "from sklearn.linear_model import LogisticRegression\n",
    "from sklearn.preprocessing import StandardScaler, MinMaxScaler\n",
    "from tabulate import tabulate\n",
    "from sklearn.metrics import roc_auc_score\n",
    "from sklearn.pipeline import FeatureUnion\n",
    "import xgboost as xgb"
   ]
  },
  {
   "cell_type": "code",
   "execution_count": 3,
   "metadata": {
    "hidden": true,
    "id": "FZHxcgUJtEBm"
   },
   "outputs": [],
   "source": [
    "#user specified packages from Teinemaa\n",
    "from DatasetManager import DatasetManager"
   ]
  },
  {
   "cell_type": "code",
   "execution_count": 4,
   "metadata": {
    "hidden": true,
    "id": "oBMyjQ5Vnn17"
   },
   "outputs": [
    {
     "name": "stderr",
     "output_type": "stream",
     "text": [
      "C:\\Users\\u0138175\\Anaconda3\\envs\\aix360\\lib\\site-packages\\tensorflow\\python\\framework\\dtypes.py:516: FutureWarning: Passing (type, 1) or '1type' as a synonym of type is deprecated; in a future version of numpy, it will be understood as (type, (1,)) / '(1,)type'.\n",
      "  _np_qint8 = np.dtype([(\"qint8\", np.int8, 1)])\n",
      "C:\\Users\\u0138175\\Anaconda3\\envs\\aix360\\lib\\site-packages\\tensorflow\\python\\framework\\dtypes.py:517: FutureWarning: Passing (type, 1) or '1type' as a synonym of type is deprecated; in a future version of numpy, it will be understood as (type, (1,)) / '(1,)type'.\n",
      "  _np_quint8 = np.dtype([(\"quint8\", np.uint8, 1)])\n",
      "C:\\Users\\u0138175\\Anaconda3\\envs\\aix360\\lib\\site-packages\\tensorflow\\python\\framework\\dtypes.py:518: FutureWarning: Passing (type, 1) or '1type' as a synonym of type is deprecated; in a future version of numpy, it will be understood as (type, (1,)) / '(1,)type'.\n",
      "  _np_qint16 = np.dtype([(\"qint16\", np.int16, 1)])\n",
      "C:\\Users\\u0138175\\Anaconda3\\envs\\aix360\\lib\\site-packages\\tensorflow\\python\\framework\\dtypes.py:519: FutureWarning: Passing (type, 1) or '1type' as a synonym of type is deprecated; in a future version of numpy, it will be understood as (type, (1,)) / '(1,)type'.\n",
      "  _np_quint16 = np.dtype([(\"quint16\", np.uint16, 1)])\n",
      "C:\\Users\\u0138175\\Anaconda3\\envs\\aix360\\lib\\site-packages\\tensorflow\\python\\framework\\dtypes.py:520: FutureWarning: Passing (type, 1) or '1type' as a synonym of type is deprecated; in a future version of numpy, it will be understood as (type, (1,)) / '(1,)type'.\n",
      "  _np_qint32 = np.dtype([(\"qint32\", np.int32, 1)])\n",
      "C:\\Users\\u0138175\\Anaconda3\\envs\\aix360\\lib\\site-packages\\tensorflow\\python\\framework\\dtypes.py:525: FutureWarning: Passing (type, 1) or '1type' as a synonym of type is deprecated; in a future version of numpy, it will be understood as (type, (1,)) / '(1,)type'.\n",
      "  np_resource = np.dtype([(\"resource\", np.ubyte, 1)])\n",
      "C:\\Users\\u0138175\\Anaconda3\\envs\\aix360\\lib\\site-packages\\tensorboard\\compat\\tensorflow_stub\\dtypes.py:541: FutureWarning: Passing (type, 1) or '1type' as a synonym of type is deprecated; in a future version of numpy, it will be understood as (type, (1,)) / '(1,)type'.\n",
      "  _np_qint8 = np.dtype([(\"qint8\", np.int8, 1)])\n",
      "C:\\Users\\u0138175\\Anaconda3\\envs\\aix360\\lib\\site-packages\\tensorboard\\compat\\tensorflow_stub\\dtypes.py:542: FutureWarning: Passing (type, 1) or '1type' as a synonym of type is deprecated; in a future version of numpy, it will be understood as (type, (1,)) / '(1,)type'.\n",
      "  _np_quint8 = np.dtype([(\"quint8\", np.uint8, 1)])\n",
      "C:\\Users\\u0138175\\Anaconda3\\envs\\aix360\\lib\\site-packages\\tensorboard\\compat\\tensorflow_stub\\dtypes.py:543: FutureWarning: Passing (type, 1) or '1type' as a synonym of type is deprecated; in a future version of numpy, it will be understood as (type, (1,)) / '(1,)type'.\n",
      "  _np_qint16 = np.dtype([(\"qint16\", np.int16, 1)])\n",
      "C:\\Users\\u0138175\\Anaconda3\\envs\\aix360\\lib\\site-packages\\tensorboard\\compat\\tensorflow_stub\\dtypes.py:544: FutureWarning: Passing (type, 1) or '1type' as a synonym of type is deprecated; in a future version of numpy, it will be understood as (type, (1,)) / '(1,)type'.\n",
      "  _np_quint16 = np.dtype([(\"quint16\", np.uint16, 1)])\n",
      "C:\\Users\\u0138175\\Anaconda3\\envs\\aix360\\lib\\site-packages\\tensorboard\\compat\\tensorflow_stub\\dtypes.py:545: FutureWarning: Passing (type, 1) or '1type' as a synonym of type is deprecated; in a future version of numpy, it will be understood as (type, (1,)) / '(1,)type'.\n",
      "  _np_qint32 = np.dtype([(\"qint32\", np.int32, 1)])\n",
      "C:\\Users\\u0138175\\Anaconda3\\envs\\aix360\\lib\\site-packages\\tensorboard\\compat\\tensorflow_stub\\dtypes.py:550: FutureWarning: Passing (type, 1) or '1type' as a synonym of type is deprecated; in a future version of numpy, it will be understood as (type, (1,)) / '(1,)type'.\n",
      "  np_resource = np.dtype([(\"resource\", np.ubyte, 1)])\n"
     ]
    }
   ],
   "source": [
    "#tree packages\n",
    "import graphviz\n",
    "from sklearn import tree\n",
    "\n",
    "#LSTM\n",
    "import numpy as np\n",
    "import pandas as pd\n",
    "from pandas import Series\n",
    "import tensorflow as tf\n",
    "import matplotlib.pyplot as plt\n",
    "import seaborn as sns\n",
    "import logging\n",
    "plt.style.use('fivethirtyeight')\n",
    "\n",
    "from tensorflow.keras.preprocessing.text import Tokenizer\n",
    "from tensorflow.keras.preprocessing.sequence import pad_sequences\n",
    "from tensorflow.keras.layers import Dense, Flatten, Embedding, LSTM, GRU\n",
    "from tensorflow.keras.models import Sequential\n",
    "from tensorflow.keras.models import model_from_json\n",
    "\n",
    "from collections import OrderedDict\n",
    "from collections import defaultdict\n",
    "\n",
    "import tensorflow.keras\n",
    "import tensorflow as tf \n",
    "from tensorflow.keras.layers import Dense, Conv2D, Flatten, MaxPool2D, Dropout, Input, Reshape, Activation, Multiply, TimeDistributed, concatenate, BatchNormalization, Add\n",
    "from tensorflow.keras.models import Model\n",
    "from tensorflow.keras.optimizers import Nadam\n",
    "from tensorflow.keras.callbacks import EarlyStopping, ModelCheckpoint, ReduceLROnPlateau\n",
    "from sklearn.preprocessing import OrdinalEncoder"
   ]
  },
  {
   "cell_type": "markdown",
   "metadata": {
    "hidden": true,
    "id": "uxzIiPCxsxaj"
   },
   "source": [
    "Terminology"
   ]
  },
  {
   "cell_type": "code",
   "execution_count": 5,
   "metadata": {
    "hidden": true,
    "id": "tGpBNe_xm62A"
   },
   "outputs": [],
   "source": [
    "params_dir = './params_dir'\n",
    "results_dir = './results' \n",
    "cls_encoding = 'agg'\n",
    "\n",
    "gap = 1\n",
    "n_iter = 1\n",
    "\n",
    "bucket_encoding = \"agg\"\n",
    "\n",
    "dataset_ref_to_datasets = {\n",
    "    \"bpic2011\": [\"bpic2011_f%s\"%formula for formula in range(1,5)],\n",
    "    \"bpic2015\": [\"bpic2015_%s_f2\"%(municipality) for municipality in range(1,6)],\n",
    "    \"insurance\": [\"insurance_activity\", \"insurance_followup\"],\n",
    "    \"sepsis_cases\": [\"sepsis_cases_1\", \"sepsis_cases_2\", \"sepsis_cases_4\"]\n",
    "}\n",
    "\n",
    "encoding_dict = {\n",
    "    \"laststate\": [\"static\", \"last\"],\n",
    "    \"agg\": [\"static\", \"agg\"],\n",
    "    \"index\": [\"static\", \"index\"],\n",
    "    \"combined\": [\"static\", \"last\", \"agg\"],\n",
    "    \"onehot\": [\"static\", \"onehot\"]\n",
    "}"
   ]
  },
  {
   "cell_type": "code",
   "execution_count": 6,
   "metadata": {
    "hidden": true,
    "id": "LIh5L8EQm62B"
   },
   "outputs": [],
   "source": [
    "#terminology"
   ]
  },
  {
   "cell_type": "code",
   "execution_count": 7,
   "metadata": {
    "hidden": true,
    "id": "i8y0UarLm62B"
   },
   "outputs": [],
   "source": [
    "dataset_ref = 'bpic2015_2_f2'"
   ]
  },
  {
   "cell_type": "code",
   "execution_count": 8,
   "metadata": {
    "hidden": true,
    "id": "qqNZ9a0Qm62B"
   },
   "outputs": [],
   "source": [
    "datasets = [dataset_ref] if dataset_ref not in dataset_ref_to_datasets else dataset_ref_to_datasets[dataset_ref]\n",
    "methods = encoding_dict[cls_encoding]\n",
    "    \n",
    "train_ratio = 0.8\n",
    "random_state = 22"
   ]
  },
  {
   "cell_type": "code",
   "execution_count": null,
   "metadata": {
    "hidden": true,
    "id": "6W218XZjm62C"
   },
   "outputs": [],
   "source": []
  },
  {
   "cell_type": "code",
   "execution_count": 9,
   "metadata": {
    "hidden": true,
    "id": "MtmVGYqzm62C"
   },
   "outputs": [],
   "source": [
    "# print dataset name"
   ]
  },
  {
   "cell_type": "code",
   "execution_count": 10,
   "metadata": {
    "colab": {
     "base_uri": "https://localhost:8080/"
    },
    "hidden": true,
    "id": "LFg7YhYxm62C",
    "outputId": "e9023251-53f0-4038-ead6-1e65bb96b7b7"
   },
   "outputs": [
    {
     "name": "stdout",
     "output_type": "stream",
     "text": [
      "Dataset: bpic2015_2_f2\n"
     ]
    }
   ],
   "source": [
    "for dataset_name in datasets:\n",
    "    print('Dataset:', dataset_name)"
   ]
  },
  {
   "cell_type": "code",
   "execution_count": null,
   "metadata": {
    "hidden": true,
    "id": "ls-Lee7pm62D"
   },
   "outputs": [],
   "source": []
  },
  {
   "cell_type": "code",
   "execution_count": 11,
   "metadata": {
    "hidden": true,
    "id": "q4iSr4inm62D"
   },
   "outputs": [],
   "source": [
    "# read the data"
   ]
  },
  {
   "cell_type": "code",
   "execution_count": 12,
   "metadata": {
    "hidden": true,
    "id": "KHiDYGSLuwm-"
   },
   "outputs": [],
   "source": [
    "dataset_manager = DatasetManager(dataset_name)"
   ]
  },
  {
   "cell_type": "code",
   "execution_count": 13,
   "metadata": {
    "colab": {
     "base_uri": "https://localhost:8080/",
     "height": 231
    },
    "hidden": true,
    "id": "vvYE2Ig2m62D",
    "outputId": "5f7919c1-9dd4-44e1-c3c7-d695cd6e08c4"
   },
   "outputs": [],
   "source": [
    "data = dataset_manager.read_dataset()\n",
    "cls_encoder_args = {'case_id_col': dataset_manager.case_id_col, \n",
    "                        'static_cat_cols': dataset_manager.static_cat_cols,\n",
    "                        'static_num_cols': dataset_manager.static_num_cols, \n",
    "                        'dynamic_cat_cols': dataset_manager.dynamic_cat_cols,\n",
    "                        'dynamic_num_cols': dataset_manager.dynamic_num_cols, \n",
    "                        'fillna': True}"
   ]
  },
  {
   "cell_type": "code",
   "execution_count": null,
   "metadata": {
    "hidden": true,
    "id": "D2oAVuW-bT40"
   },
   "outputs": [],
   "source": []
  },
  {
   "cell_type": "code",
   "execution_count": 14,
   "metadata": {
    "hidden": true,
    "id": "LpE1uKqxbT40"
   },
   "outputs": [],
   "source": [
    "#terminology"
   ]
  },
  {
   "cell_type": "code",
   "execution_count": 15,
   "metadata": {
    "hidden": true,
    "id": "p2ay4PnXbT40"
   },
   "outputs": [],
   "source": [
    "params_dir = './params_dir'\n",
    "results_dir = './results' \n",
    "DT_dir = './DT_dir'\n",
    "cls_encoding = 'agg'\n",
    "\n",
    "gap = 1\n",
    "n_iter = 1\n",
    "\n",
    "dataset_ref_to_datasets = {\n",
    "    \"bpic2011\": [\"bpic2011_f%s\"%formula for formula in range(1,5)],\n",
    "    \"bpic2015\": [\"bpic2015_%s_f2\"%(municipality) for municipality in range(1,6)],\n",
    "    \"insurance\": [\"insurance_activity\", \"insurance_followup\"],\n",
    "    \"sepsis_cases\": [\"sepsis_cases_1\", \"sepsis_cases_2\", \"sepsis_cases_4\"]\n",
    "}\n",
    "\n",
    "encoding_dict = {\n",
    "    \"laststate\": [\"static\", \"last\"],\n",
    "    \"agg\": [\"static\", \"agg\"],\n",
    "    \"index\": [\"static\", \"index\"],\n",
    "    \"combined\": [\"static\", \"last\", \"agg\"],\n",
    "    \"onehot\": [\"static\", \"onehot\"]\n",
    "}\n",
    "\n",
    "train_ratio = 0.8\n",
    "random_state = 22"
   ]
  },
  {
   "cell_type": "code",
   "execution_count": null,
   "metadata": {
    "hidden": true,
    "id": "CHSFGVSVbT41"
   },
   "outputs": [],
   "source": []
  },
  {
   "cell_type": "code",
   "execution_count": 16,
   "metadata": {
    "hidden": true,
    "id": "OL-Uy69UbT44"
   },
   "outputs": [],
   "source": [
    "# determine min and max (truncated) prefix lengths"
   ]
  },
  {
   "cell_type": "code",
   "execution_count": 17,
   "metadata": {
    "hidden": true,
    "id": "Ebg7rz1dbT44"
   },
   "outputs": [],
   "source": [
    "min_prefix_length = 1\n",
    "if \"traffic_fines\" in dataset_name:\n",
    "    max_prefix_length = 10\n",
    "elif \"bpic2017\" in dataset_name:\n",
    "    max_prefix_length = min(20, dataset_manager.get_pos_case_length_quantile(data, 0.90))\n",
    "else:\n",
    "    max_prefix_length = min(40, dataset_manager.get_pos_case_length_quantile(data, 0.90))"
   ]
  },
  {
   "cell_type": "code",
   "execution_count": null,
   "metadata": {
    "hidden": true,
    "id": "DFpiBH4IbT45"
   },
   "outputs": [],
   "source": []
  },
  {
   "cell_type": "markdown",
   "metadata": {
    "heading_collapsed": true,
    "id": "F1ule9jQbT4-"
   },
   "source": [
    "#### data preprocessing"
   ]
  },
  {
   "cell_type": "code",
   "execution_count": 18,
   "metadata": {
    "hidden": true,
    "id": "CoaTLjvGbT4_"
   },
   "outputs": [],
   "source": [
    "# split into training and test\n",
    "train, test = dataset_manager.split_data_strict(data, train_ratio, split=\"temporal\")"
   ]
  },
  {
   "cell_type": "code",
   "execution_count": null,
   "metadata": {
    "hidden": true,
    "id": "t_XIVPrBbT4_"
   },
   "outputs": [],
   "source": []
  },
  {
   "cell_type": "code",
   "execution_count": 19,
   "metadata": {
    "hidden": true,
    "id": "t5MSiJ4ubT4_"
   },
   "outputs": [],
   "source": [
    "#prefix generation of train and test data"
   ]
  },
  {
   "cell_type": "code",
   "execution_count": 20,
   "metadata": {
    "colab": {
     "base_uri": "https://localhost:8080/"
    },
    "hidden": true,
    "id": "um56lzYwbT4_",
    "outputId": "42bb86ed-2c3c-46ff-aef6-9e34ff1bfaa5"
   },
   "outputs": [
    {
     "name": "stdout",
     "output_type": "stream",
     "text": [
      "prefixing started\n"
     ]
    }
   ],
   "source": [
    "print('prefixing started')\n",
    "dt_train_prefixes = dataset_manager.generate_prefix_data(train, min_prefix_length, max_prefix_length)\n",
    "dt_test_prefixes = dataset_manager.generate_prefix_data(test, min_prefix_length, max_prefix_length)"
   ]
  },
  {
   "cell_type": "code",
   "execution_count": 21,
   "metadata": {
    "hidden": true,
    "id": "_XA08ShvbT5A"
   },
   "outputs": [],
   "source": [
    "dt_train_prefixes_original = dt_train_prefixes.copy()\n",
    "dt_test_prefixes_original = dt_test_prefixes.copy()"
   ]
  },
  {
   "cell_type": "code",
   "execution_count": 22,
   "metadata": {
    "hidden": true,
    "id": "ffvhh9dybT5A"
   },
   "outputs": [],
   "source": [
    "#get the label of the train and test set\n",
    "test_y = dataset_manager.get_label_numeric(dt_test_prefixes)\n",
    "train_y = dataset_manager.get_label_numeric(dt_train_prefixes)   "
   ]
  },
  {
   "cell_type": "code",
   "execution_count": 23,
   "metadata": {
    "hidden": true,
    "id": "7455vq80bT5A"
   },
   "outputs": [],
   "source": [
    "auc_totals = []\n",
    "preds_all = []\n",
    "test_y_all = []\n",
    "nr_events_all = []\n",
    "offline_total_times = []\n",
    "online_event_times = []"
   ]
  },
  {
   "cell_type": "code",
   "execution_count": 24,
   "metadata": {
    "hidden": true,
    "id": "_099Nah8bT5B"
   },
   "outputs": [],
   "source": [
    "nr_events_all.extend(list(dataset_manager.get_prefix_lengths(dt_test_prefixes)))  \n",
    "test_y_all.extend(test_y)"
   ]
  },
  {
   "cell_type": "markdown",
   "metadata": {
    "id": "VJzBGCe7bT5s"
   },
   "source": [
    "### LSTM"
   ]
  },
  {
   "cell_type": "markdown",
   "metadata": {
    "heading_collapsed": true,
    "id": "hSDOMFk0bT6q"
   },
   "source": [
    "#### poging 5"
   ]
  },
  {
   "cell_type": "code",
   "execution_count": 25,
   "metadata": {
    "hidden": true,
    "id": "40mw3Q1Aq0eO"
   },
   "outputs": [],
   "source": [
    "#functions\n",
    "\n",
    "def prepare_inputs(X_train, X_test, data):    \n",
    "    oe = OrdinalEncoder()\n",
    "    oe.fit(data)\n",
    "    X_train_enc = oe.transform(X_train)\n",
    "    X_test_enc = oe.transform(X_test)\n",
    "    return X_train_enc, X_test_enc\n",
    "\n",
    "def numeric_padding(sequences, maxlen=None, value=0):\n",
    "    num_samples = len(sequences)\n",
    "    sample_shape = np.asarray(sequences[0]).shape[1:]\n",
    "    x = np.full((num_samples, maxlen) + sample_shape, value)\n",
    "    for idx, s in enumerate(sequences):\n",
    "        trunc = s[:maxlen]\n",
    "        x[idx, :maxlen] = trunc[0]\n",
    "        \n",
    "def normalist(lst):\n",
    "    s = sum(lst)\n",
    "    norm = [float(i)/s for i in lst]\n",
    "    return norm\n",
    "\n",
    "    return x   "
   ]
  },
  {
   "cell_type": "code",
   "execution_count": 26,
   "metadata": {
    "hidden": true
   },
   "outputs": [
    {
     "data": {
      "text/plain": [
       "Responsible_actor                                            object\n",
       "SUMleges                                                    float64\n",
       "Case ID                                                      object\n",
       "label                                                        object\n",
       "Aanleg (Uitvoeren werk of werkzaamheid)                     float64\n",
       "Bouw                                                        float64\n",
       "Brandveilig gebruik (melding)                               float64\n",
       "Brandveilig gebruik (vergunning)                            float64\n",
       "Gebiedsbescherming                                          float64\n",
       "Handelen in strijd met regels RO                            float64\n",
       "Inrit/Uitweg                                                float64\n",
       "Kap                                                         float64\n",
       "Milieu (melding)                                            float64\n",
       "Milieu (neutraal wijziging)                                 float64\n",
       "Milieu (omgevingsvergunning beperkte milieutoets)           float64\n",
       "Milieu (vergunning)                                         float64\n",
       "Monument                                                    float64\n",
       "Reclame                                                     float64\n",
       "Sloop                                                       float64\n",
       "Activity                                                     object\n",
       "monitoringResource                                           object\n",
       "question                                                     object\n",
       "org:resource                                                 object\n",
       "time:timestamp                                       datetime64[ns]\n",
       "timesincemidnight                                           float64\n",
       "month                                                       float64\n",
       "weekday                                                     float64\n",
       "hour                                                        float64\n",
       "timesincelastevent                                          float64\n",
       "timesincecasestart                                          float64\n",
       "event_nr                                                    float64\n",
       "open_cases                                                  float64\n",
       "case_length                                                   int64\n",
       "prefix_nr                                                     int64\n",
       "orig_case_id                                                 object\n",
       "dtype: object"
      ]
     },
     "execution_count": 26,
     "metadata": {},
     "output_type": "execute_result"
    }
   ],
   "source": [
    "#TRANSFORMATION\n",
    "\n",
    "#categorical columns integercoded\n",
    "\n",
    "dt_train_prefixes.dtypes"
   ]
  },
  {
   "cell_type": "code",
   "execution_count": 27,
   "metadata": {
    "hidden": true
   },
   "outputs": [
    {
     "data": {
      "text/html": [
       "<div>\n",
       "<style scoped>\n",
       "    .dataframe tbody tr th:only-of-type {\n",
       "        vertical-align: middle;\n",
       "    }\n",
       "\n",
       "    .dataframe tbody tr th {\n",
       "        vertical-align: top;\n",
       "    }\n",
       "\n",
       "    .dataframe thead th {\n",
       "        text-align: right;\n",
       "    }\n",
       "</style>\n",
       "<table border=\"1\" class=\"dataframe\">\n",
       "  <thead>\n",
       "    <tr style=\"text-align: right;\">\n",
       "      <th></th>\n",
       "      <th>Responsible_actor</th>\n",
       "      <th>SUMleges</th>\n",
       "      <th>Case ID</th>\n",
       "      <th>label</th>\n",
       "      <th>Aanleg (Uitvoeren werk of werkzaamheid)</th>\n",
       "      <th>Bouw</th>\n",
       "      <th>Brandveilig gebruik (melding)</th>\n",
       "      <th>Brandveilig gebruik (vergunning)</th>\n",
       "      <th>Gebiedsbescherming</th>\n",
       "      <th>Handelen in strijd met regels RO</th>\n",
       "      <th>...</th>\n",
       "      <th>month</th>\n",
       "      <th>weekday</th>\n",
       "      <th>hour</th>\n",
       "      <th>timesincelastevent</th>\n",
       "      <th>timesincecasestart</th>\n",
       "      <th>event_nr</th>\n",
       "      <th>open_cases</th>\n",
       "      <th>case_length</th>\n",
       "      <th>prefix_nr</th>\n",
       "      <th>orig_case_id</th>\n",
       "    </tr>\n",
       "  </thead>\n",
       "  <tbody>\n",
       "    <tr>\n",
       "      <th>0</th>\n",
       "      <td>560458</td>\n",
       "      <td>0.0000</td>\n",
       "      <td>3871304</td>\n",
       "      <td>regular</td>\n",
       "      <td>0.0</td>\n",
       "      <td>0.0</td>\n",
       "      <td>0.0</td>\n",
       "      <td>0.0</td>\n",
       "      <td>0.0</td>\n",
       "      <td>0.0</td>\n",
       "      <td>...</td>\n",
       "      <td>6.0</td>\n",
       "      <td>0.0</td>\n",
       "      <td>22.0</td>\n",
       "      <td>0.0</td>\n",
       "      <td>0.0</td>\n",
       "      <td>1.0</td>\n",
       "      <td>1.0</td>\n",
       "      <td>40</td>\n",
       "      <td>1</td>\n",
       "      <td>3871304</td>\n",
       "    </tr>\n",
       "    <tr>\n",
       "      <th>1</th>\n",
       "      <td>560458</td>\n",
       "      <td>84.3000</td>\n",
       "      <td>3461877</td>\n",
       "      <td>regular</td>\n",
       "      <td>0.0</td>\n",
       "      <td>0.0</td>\n",
       "      <td>0.0</td>\n",
       "      <td>0.0</td>\n",
       "      <td>0.0</td>\n",
       "      <td>0.0</td>\n",
       "      <td>...</td>\n",
       "      <td>10.0</td>\n",
       "      <td>3.0</td>\n",
       "      <td>22.0</td>\n",
       "      <td>0.0</td>\n",
       "      <td>0.0</td>\n",
       "      <td>1.0</td>\n",
       "      <td>2.0</td>\n",
       "      <td>40</td>\n",
       "      <td>1</td>\n",
       "      <td>3461877</td>\n",
       "    </tr>\n",
       "    <tr>\n",
       "      <th>2</th>\n",
       "      <td>560458</td>\n",
       "      <td>1698.2235</td>\n",
       "      <td>3466211</td>\n",
       "      <td>regular</td>\n",
       "      <td>0.0</td>\n",
       "      <td>1.0</td>\n",
       "      <td>0.0</td>\n",
       "      <td>0.0</td>\n",
       "      <td>0.0</td>\n",
       "      <td>0.0</td>\n",
       "      <td>...</td>\n",
       "      <td>10.0</td>\n",
       "      <td>6.0</td>\n",
       "      <td>22.0</td>\n",
       "      <td>0.0</td>\n",
       "      <td>0.0</td>\n",
       "      <td>1.0</td>\n",
       "      <td>4.0</td>\n",
       "      <td>40</td>\n",
       "      <td>1</td>\n",
       "      <td>3466211</td>\n",
       "    </tr>\n",
       "    <tr>\n",
       "      <th>3</th>\n",
       "      <td>560458</td>\n",
       "      <td>84.3000</td>\n",
       "      <td>3467931</td>\n",
       "      <td>regular</td>\n",
       "      <td>0.0</td>\n",
       "      <td>0.0</td>\n",
       "      <td>0.0</td>\n",
       "      <td>0.0</td>\n",
       "      <td>0.0</td>\n",
       "      <td>0.0</td>\n",
       "      <td>...</td>\n",
       "      <td>10.0</td>\n",
       "      <td>6.0</td>\n",
       "      <td>22.0</td>\n",
       "      <td>0.0</td>\n",
       "      <td>0.0</td>\n",
       "      <td>1.0</td>\n",
       "      <td>4.0</td>\n",
       "      <td>40</td>\n",
       "      <td>1</td>\n",
       "      <td>3467931</td>\n",
       "    </tr>\n",
       "    <tr>\n",
       "      <th>6</th>\n",
       "      <td>560458</td>\n",
       "      <td>84.3000</td>\n",
       "      <td>3467726</td>\n",
       "      <td>regular</td>\n",
       "      <td>0.0</td>\n",
       "      <td>0.0</td>\n",
       "      <td>0.0</td>\n",
       "      <td>0.0</td>\n",
       "      <td>0.0</td>\n",
       "      <td>0.0</td>\n",
       "      <td>...</td>\n",
       "      <td>10.0</td>\n",
       "      <td>0.0</td>\n",
       "      <td>22.0</td>\n",
       "      <td>0.0</td>\n",
       "      <td>0.0</td>\n",
       "      <td>1.0</td>\n",
       "      <td>5.0</td>\n",
       "      <td>40</td>\n",
       "      <td>1</td>\n",
       "      <td>3467726</td>\n",
       "    </tr>\n",
       "  </tbody>\n",
       "</table>\n",
       "<p>5 rows × 35 columns</p>\n",
       "</div>"
      ],
      "text/plain": [
       "  Responsible_actor   SUMleges  Case ID    label  \\\n",
       "0            560458     0.0000  3871304  regular   \n",
       "1            560458    84.3000  3461877  regular   \n",
       "2            560458  1698.2235  3466211  regular   \n",
       "3            560458    84.3000  3467931  regular   \n",
       "6            560458    84.3000  3467726  regular   \n",
       "\n",
       "   Aanleg (Uitvoeren werk of werkzaamheid)  Bouw  \\\n",
       "0                                      0.0   0.0   \n",
       "1                                      0.0   0.0   \n",
       "2                                      0.0   1.0   \n",
       "3                                      0.0   0.0   \n",
       "6                                      0.0   0.0   \n",
       "\n",
       "   Brandveilig gebruik (melding)  Brandveilig gebruik (vergunning)  \\\n",
       "0                            0.0                               0.0   \n",
       "1                            0.0                               0.0   \n",
       "2                            0.0                               0.0   \n",
       "3                            0.0                               0.0   \n",
       "6                            0.0                               0.0   \n",
       "\n",
       "   Gebiedsbescherming  Handelen in strijd met regels RO  ...  month  weekday  \\\n",
       "0                 0.0                               0.0  ...    6.0      0.0   \n",
       "1                 0.0                               0.0  ...   10.0      3.0   \n",
       "2                 0.0                               0.0  ...   10.0      6.0   \n",
       "3                 0.0                               0.0  ...   10.0      6.0   \n",
       "6                 0.0                               0.0  ...   10.0      0.0   \n",
       "\n",
       "   hour  timesincelastevent  timesincecasestart  event_nr  open_cases  \\\n",
       "0  22.0                 0.0                 0.0       1.0         1.0   \n",
       "1  22.0                 0.0                 0.0       1.0         2.0   \n",
       "2  22.0                 0.0                 0.0       1.0         4.0   \n",
       "3  22.0                 0.0                 0.0       1.0         4.0   \n",
       "6  22.0                 0.0                 0.0       1.0         5.0   \n",
       "\n",
       "   case_length  prefix_nr orig_case_id  \n",
       "0           40          1      3871304  \n",
       "1           40          1      3461877  \n",
       "2           40          1      3466211  \n",
       "3           40          1      3467931  \n",
       "6           40          1      3467726  \n",
       "\n",
       "[5 rows x 35 columns]"
      ]
     },
     "execution_count": 27,
     "metadata": {},
     "output_type": "execute_result"
    }
   ],
   "source": [
    "dt_train_prefixes.head()"
   ]
  },
  {
   "cell_type": "code",
   "execution_count": null,
   "metadata": {
    "hidden": true
   },
   "outputs": [],
   "source": []
  },
  {
   "cell_type": "code",
   "execution_count": 28,
   "metadata": {
    "hidden": true
   },
   "outputs": [
    {
     "data": {
      "text/plain": [
       "['Activity',\n",
       " 'question',\n",
       " 'monitoringResource',\n",
       " 'org:resource',\n",
       " 'Responsible_actor']"
      ]
     },
     "execution_count": 28,
     "metadata": {},
     "output_type": "execute_result"
    }
   ],
   "source": [
    "cat_columns = ['Activity', 'question','monitoringResource','org:resource', 'Responsible_actor']\n",
    "\n",
    "dt_train_prefixes[cat_columns],dt_test_prefixes[cat_columns]= prepare_inputs(dt_train_prefixes[cat_columns], dt_test_prefixes[cat_columns], data[cat_columns])\n",
    "\n",
    "dt_train_prefixes[cat_columns] = dt_train_prefixes[cat_columns]+1\n",
    "\n",
    "dt_test_prefixes[cat_columns] = dt_test_prefixes[cat_columns]+1\n",
    "\n",
    "#make embeddings\n",
    "\n",
    "dt_train_prefixes.dtypes\n",
    "\n",
    "cat_columns.append('Case ID')\n",
    "cat_columns.append('label')\n",
    "\n",
    "cat_columns\n",
    "\n",
    "ans_train = [pd.DataFrame(y) for x, y in dt_train_prefixes[cat_columns].groupby('Case ID', as_index=False)]\n",
    "ans_test = [pd.DataFrame(y) for x, y in dt_test_prefixes[cat_columns].groupby('Case ID', as_index=False)]\n",
    "\n",
    "train_labels = []\n",
    "for i in range (0,len(ans_train)):\n",
    "    temp_label = ans_train[i]['label'].iloc[0]\n",
    "    train_labels.append(temp_label)\n",
    "\n",
    "test_labels = []\n",
    "for i in range (0,len(ans_test)):\n",
    "    temp_label = ans_test[i]['label'].iloc[0]\n",
    "    test_labels.append(temp_label)\n",
    "\n",
    "train_y = [1 if i!='regular' else 0 for i in train_labels]\n",
    "test_y = [1 if i!='regular' else 0 for i in test_labels]\n",
    "\n",
    "cat_columns.remove('label')\n",
    "cat_columns.remove('Case ID')\n",
    "\n",
    "cat_columns"
   ]
  },
  {
   "cell_type": "code",
   "execution_count": 29,
   "metadata": {
    "hidden": true
   },
   "outputs": [],
   "source": [
    "maxlen = cutoff = 40"
   ]
  },
  {
   "cell_type": "code",
   "execution_count": 30,
   "metadata": {
    "hidden": true
   },
   "outputs": [],
   "source": [
    "#cutoff: max amount of events in a prefix\n",
    "cutoff = 40\n",
    "no_activities= len(data.groupby(['Activity']))+1\n",
    "no_question= len(data.groupby(['question']))+1\n",
    "no_monitoring= len(data.groupby(['monitoringResource']))+1\n",
    "no_orgresource= len(data.groupby(['org:resource']))+1\n",
    "no_responsibleactor = len(data.groupby(['Responsible_actor']))+1"
   ]
  },
  {
   "cell_type": "code",
   "execution_count": 31,
   "metadata": {
    "hidden": true
   },
   "outputs": [],
   "source": [
    "#padding of the different categorical columns\n",
    "#train paddings\n",
    "paddings_train = []\n",
    "for i in cat_columns:\n",
    "    padding= []\n",
    "    for k in range(0,len(ans_train)):\n",
    "        temp = []\n",
    "        temp = list(ans_train[k][i])\n",
    "        padding.append(temp)\n",
    "    \n",
    "    padded = np.array(pad_sequences(padding,maxlen=maxlen, padding='pre', truncating='pre',value=0))\n",
    "    padded = padded/len(data.groupby([i]))\n",
    "    paddings_train.append(padded)\n",
    "\n",
    "#test paddings\n",
    "paddings_test = []\n",
    "for i in cat_columns:\n",
    "    padding= []\n",
    "    for k in range(0,len(ans_test)):\n",
    "        temp = []\n",
    "        temp = list(ans_test[k][i])\n",
    "        padding.append(temp)\n",
    "    \n",
    "    padded = np.array(pad_sequences(padding,maxlen=maxlen, padding='pre', truncating='pre',value=0))\n",
    "    padded = padded/len(data.groupby([i]))\n",
    "    paddings_test.append(padded)"
   ]
  },
  {
   "cell_type": "code",
   "execution_count": 32,
   "metadata": {
    "hidden": true
   },
   "outputs": [],
   "source": [
    "##### numerical columns\n",
    "#NUMERICAL COLUMNS\n",
    "cat_columns = ['Activity', 'question','monitoringResource','org:resource', 'Responsible_actor']\n",
    "numerical_columns = ['Milieu (vergunning)','Kap', 'Milieu (neutraal wijziging)','Gebiedsbescherming',\n",
    "                     'month', 'timesincecasestart', 'weekday','open_cases','Inrit/Uitweg','Case ID','timesincelastevent']\n",
    "\n",
    "dt_train_prefixes2 = dt_train_prefixes[numerical_columns]\n",
    "dt_test_prefixes2 = dt_test_prefixes[numerical_columns]\n",
    "\n",
    "ans_train2 = [pd.DataFrame(y) for x,y in dt_train_prefixes2.groupby('Case ID', as_index=False)]\n",
    "ans_test2 = [pd.DataFrame(y) for x,y in dt_test_prefixes2.groupby('Case ID', as_index=False)]"
   ]
  },
  {
   "cell_type": "code",
   "execution_count": 33,
   "metadata": {
    "hidden": true
   },
   "outputs": [],
   "source": [
    "pad_train = []\n",
    "pad_test  = []\n",
    "num_columns = ['Milieu (vergunning)','Kap', 'Milieu (neutraal wijziging)','Gebiedsbescherming',\n",
    "                     'month', 'timesincecasestart', 'weekday','open_cases','Inrit/Uitweg', 'timesincelastevent']\n",
    "for i in num_columns:\n",
    "    padding = []\n",
    "    for k in range(0,len(ans_train2)):\n",
    "        temp_train = []\n",
    "        temp_train = list(ans_train2[k][i])\n",
    "        padding.append(temp_train)\n",
    "        \n",
    "    padded = np.array(pad_sequences(padding,maxlen=maxlen, padding='pre', truncating='pre',value=0))\n",
    "    padded = padded/data[i].max()\n",
    "    pad_train.append(padded)\n",
    "for i in num_columns:\n",
    "    padding = []\n",
    "    for k in range(0,len(ans_test2)):\n",
    "        temp_test = []\n",
    "        temp_test = list(ans_test2[k][i])\n",
    "        padding.append(temp_test)\n",
    "        \n",
    "    padded = np.array(pad_sequences(padding,maxlen=maxlen, padding='pre', truncating='pre',value=0))\n",
    "    padded = padded/data[i].max()\n",
    "    pad_test.append(padded)"
   ]
  },
  {
   "cell_type": "code",
   "execution_count": 34,
   "metadata": {
    "hidden": true,
    "id": "guya9W9RrQEi"
   },
   "outputs": [],
   "source": [
    "import os\n",
    "import argparse\n",
    "import numpy as np\n",
    "import pandas as pd\n",
    "import tensorflow as tf\n",
    "\n",
    "from tensorflow.keras.models import Model\n",
    "from tensorflow.keras.preprocessing import sequence\n",
    "from tensorflow.keras.utils import Sequence\n",
    "from tensorflow.keras.regularizers import l2\n",
    "from tensorflow.keras.constraints import non_neg, Constraint\n",
    "from sklearn.metrics import roc_auc_score, average_precision_score, precision_recall_curve\n",
    "\n",
    "\n",
    "from tensorflow.keras.layers import Input, Concatenate, Flatten\n",
    "from tensorflow.keras.layers import Dense\n",
    "from tensorflow.keras.layers import LSTM\n",
    "from tensorflow.keras.optimizers import Nadam, Adam, SGD, Adagrad\n",
    "from tensorflow.keras.callbacks import EarlyStopping, ModelCheckpoint, ReduceLROnPlateau\n",
    "from tensorflow.keras.layers import BatchNormalization\n",
    "from tensorflow.keras.layers import Bidirectional,TimeDistributed\n",
    "from tensorflow.keras.regularizers import l2\n",
    "from tensorflow.keras.layers import Softmax, Lambda, Multiply, Dropout\n",
    "from tensorflow.keras import backend\n",
    "from tensorflow.keras.layers import GlobalAveragePooling1D\n",
    "import tensorflow.keras.utils as ku"
   ]
  },
  {
   "cell_type": "code",
   "execution_count": 35,
   "metadata": {
    "hidden": true,
    "id": "VG__EYy9rQ9C"
   },
   "outputs": [],
   "source": [
    "def create_index(log_df, column):\n",
    "    \"\"\"Creates an idx for a categorical attribute.\n",
    "    Args:\n",
    "        log_df: dataframe.\n",
    "        column: column name.\n",
    "    Returns:\n",
    "        index of a categorical attribute pairs.\n",
    "    \"\"\"\n",
    "    temp_list = log_df[[column]].values.tolist()\n",
    "    subsec_set = {(x[0]) for x in temp_list}\n",
    "    subsec_set = sorted(list(subsec_set))\n",
    "    alias = dict()\n",
    "    for i, _ in enumerate(subsec_set):\n",
    "        alias[subsec_set[i]] = i + 1\n",
    "    return alias\n",
    "\n",
    "\n",
    "ac_index = create_index(dt_train_prefixes_original, 'Activity')\n",
    "ac_index['Start'] = 0\n",
    "ac_index['End'] = len(ac_index)\n",
    "index_ac = {v: k for k, v in ac_index.items()}\n",
    "\n",
    "q_index = create_index(dt_train_prefixes_original, 'question')\n",
    "q_index['Start'] = 0\n",
    "q_index['End'] = len(q_index)\n",
    "index_q = {v: k for k, v in q_index.items()}\n",
    "\n",
    "m_index = create_index(dt_train_prefixes_original, 'monitoringResource')\n",
    "m_index['Start'] = 0\n",
    "m_index['End'] = len(m_index)\n",
    "index_m = {v: k for k, v in m_index.items()}\n",
    "\n",
    "o_index = create_index(dt_train_prefixes_original, 'org:resource')\n",
    "o_index['Start'] = 0\n",
    "o_index['End'] = len(o_index)\n",
    "index_o = {v: k for k, v in o_index.items()}\n",
    "\n",
    "r_index = create_index(dt_train_prefixes_original, 'Responsible_actor')\n",
    "r_index['Start'] = 0\n",
    "r_index['End'] = len(r_index)\n",
    "index_r = {v: k for k, v in r_index.items()}\n",
    "\n",
    "\n",
    "ac_weights = ku.to_categorical(sorted(index_ac.keys()), len(ac_index))\n",
    "q_weights = ku.to_categorical(sorted(index_q.keys()), len(q_index))\n",
    "m_weights = ku.to_categorical(sorted(index_m.keys()), len(m_index))\n",
    "o_weights = ku.to_categorical(sorted(index_o.keys()), len(o_index))\n",
    "r_weights = ku.to_categorical(sorted(index_r.keys()), len(r_index))"
   ]
  },
  {
   "cell_type": "code",
   "execution_count": 36,
   "metadata": {
    "hidden": true,
    "id": "C4S2LPBqrQ_i"
   },
   "outputs": [
    {
     "name": "stdout",
     "output_type": "stream",
     "text": [
      "Training prefix and variable attention model\n",
      "WARNING:tensorflow:From C:\\Users\\u0138175\\Anaconda3\\envs\\aix360\\lib\\site-packages\\tensorflow\\python\\keras\\initializers.py:119: calling RandomUniform.__init__ (from tensorflow.python.ops.init_ops) with dtype is deprecated and will be removed in a future version.\n",
      "Instructions for updating:\n",
      "Call initializer instance with the dtype argument instead of passing it to the constructor\n",
      "WARNING:tensorflow:From C:\\Users\\u0138175\\Anaconda3\\envs\\aix360\\lib\\site-packages\\tensorflow\\python\\ops\\init_ops.py:1251: calling VarianceScaling.__init__ (from tensorflow.python.ops.init_ops) with dtype is deprecated and will be removed in a future version.\n",
      "Instructions for updating:\n",
      "Call initializer instance with the dtype argument instead of passing it to the constructor\n",
      "WARNING:tensorflow:From C:\\Users\\u0138175\\Anaconda3\\envs\\aix360\\lib\\site-packages\\tensorflow\\python\\ops\\init_ops.py:97: calling GlorotUniform.__init__ (from tensorflow.python.ops.init_ops) with dtype is deprecated and will be removed in a future version.\n",
      "Instructions for updating:\n",
      "Call initializer instance with the dtype argument instead of passing it to the constructor\n",
      "WARNING:tensorflow:From C:\\Users\\u0138175\\Anaconda3\\envs\\aix360\\lib\\site-packages\\tensorflow\\python\\ops\\init_ops.py:97: calling Orthogonal.__init__ (from tensorflow.python.ops.init_ops) with dtype is deprecated and will be removed in a future version.\n",
      "Instructions for updating:\n",
      "Call initializer instance with the dtype argument instead of passing it to the constructor\n",
      "WARNING:tensorflow:From C:\\Users\\u0138175\\Anaconda3\\envs\\aix360\\lib\\site-packages\\tensorflow\\python\\ops\\init_ops.py:97: calling Zeros.__init__ (from tensorflow.python.ops.init_ops) with dtype is deprecated and will be removed in a future version.\n",
      "Instructions for updating:\n",
      "Call initializer instance with the dtype argument instead of passing it to the constructor\n"
     ]
    }
   ],
   "source": [
    "dropout_input = 0.01\n",
    "dropout_context=0.30\n",
    "lstm_size_alpha=32\n",
    "lstm_size_beta=32\n",
    "print(\"Training prefix and variable attention model\")\n",
    "\n",
    "l2reg=0.001\n",
    "#Code Input\n",
    "#categorical embeddings\n",
    "input_layer_a = Input(shape=(cutoff,), name='activity_input')\n",
    "\n",
    "input_layer_q = Input(shape=(cutoff,), name='question_input')\n",
    "\n",
    "input_layer_m = Input(shape=(cutoff,), name='monitoring_input')\n",
    "\n",
    "input_layer_o = Input(shape=(cutoff,), name='orgresource_input')\n",
    "\n",
    "input_layer_r = Input(shape=(cutoff,), name='responsibleactor_input')\n",
    "\n",
    "time_input_layer = Input(shape=(cutoff,1), name='time_input')\n",
    "\n",
    "########################################\n",
    "#inputs_list = [ac_input]\n",
    "   \n",
    "#Calculate embedding for each code and sum them to a visit level\n",
    "embedding_activity = Embedding(ac_weights.shape[0],\n",
    "                            ac_weights.shape[1],\n",
    "                            weights=[ac_weights],\n",
    "                            input_length=no_activities,\n",
    "                           name='ac_embedding')(input_layer_a)\n",
    "dim =ac_weights.shape[1]\n",
    "\n",
    "embedding_question = Embedding(q_weights.shape[0],\n",
    "                            q_weights.shape[1],\n",
    "                            weights=[q_weights],\n",
    "                            input_length=no_question,\n",
    "                             name='q_embedding')(input_layer_q)\n",
    "\n",
    "dim += q_weights.shape[1]\n",
    "\n",
    "\n",
    "embedding_monitoring = Embedding(m_weights.shape[0],\n",
    "                            m_weights.shape[1],\n",
    "                            weights=[m_weights],\n",
    "                            input_length=no_monitoring,\n",
    "                             name='m_embedding')(input_layer_m)\n",
    "dim += m_weights.shape[1]\n",
    "\n",
    "embedding_orgresource = Embedding(o_weights.shape[0],\n",
    "                            o_weights.shape[1],\n",
    "                            weights=[o_weights],\n",
    "                            input_length=no_orgresource,\n",
    "                             name='o_embedding')(input_layer_o)\n",
    "\n",
    "dim += o_weights.shape[1]\n",
    "\n",
    "embedding_responsibleactor = Embedding(r_weights.shape[0],\n",
    "                            r_weights.shape[1],\n",
    "                            weights=[r_weights],\n",
    "                            input_length=no_responsibleactor,\n",
    "                             name='r_embedding')(input_layer_r)\n",
    "\n",
    "dim += r_weights.shape[1]\n",
    "\n",
    "input_layer_numeric0 = Input(shape=(cutoff,1), name='numeric_input0')\n",
    "input_layer_numeric1 = Input(shape=(cutoff,1), name='numeric_input1')\n",
    "input_layer_numeric2 = Input(shape=(cutoff,1), name='numeric_input2')\n",
    "input_layer_numeric3 = Input(shape=(cutoff,1), name='numeric_input3')\n",
    "input_layer_numeric4 = Input(shape=(cutoff,1), name='numeric_input4')\n",
    "input_layer_numeric5 = Input(shape=(cutoff,1), name='numeric_input5')\n",
    "input_layer_numeric6 = Input(shape=(cutoff,1), name='numeric_input6')\n",
    "input_layer_numeric7 = Input(shape=(cutoff,1), name='numeric_input7')\n",
    "input_layer_numeric8 = Input(shape=(cutoff,1), name='numeric_input8')\n",
    "\n",
    "concatenated_numeric = concatenate([input_layer_numeric0,input_layer_numeric1,input_layer_numeric2,\n",
    "                                  input_layer_numeric3,input_layer_numeric4,input_layer_numeric5,\n",
    "                                 input_layer_numeric6,input_layer_numeric7,input_layer_numeric8])\n",
    "\n",
    "dim += 9\n",
    "\n",
    "\n",
    "\n",
    "full_embs = concatenate([embedding_activity, embedding_question, embedding_monitoring, embedding_orgresource, \n",
    "                         embedding_responsibleactor, concatenated_numeric], name='catInp')\n",
    "\n",
    "#Apply dropout on inputs\n",
    "full_embs = Dropout(dropout_input)(full_embs)\n",
    "time_embs = concatenate([full_embs, time_input_layer], name='allInp')\n",
    "\n",
    "dim += 1\n",
    "\n",
    "alpha = Bidirectional(LSTM(lstm_size_alpha, return_sequences=True),\n",
    "                                    name='alpha')\n",
    "beta = Bidirectional(LSTM(lstm_size_beta, return_sequences=True),\n",
    "                                   name='beta')\n",
    "alpha_dense = Dense(1, kernel_regularizer=l2(l2reg))\n",
    "beta_dense = Dense(dim, activation='tanh', kernel_regularizer=l2(l2reg))\n",
    "\n",
    "#Compute alpha, visit attention\n",
    "alpha_out = alpha(time_embs)\n",
    "alpha_out = TimeDistributed(alpha_dense, name='alpha_dense_0')(alpha_out)\n",
    "alpha_out = Softmax(axis=1, name='alpha_softmax')(alpha_out)\n",
    "#Compute beta, codes attention\n",
    "beta_out = beta(time_embs)\n",
    "beta_out = TimeDistributed(beta_dense, name='beta_dense_0')(beta_out)\n",
    "#Compute context vector based on attentions and embeddings\n",
    "c_t = Multiply()([alpha_out, beta_out, time_embs])\n",
    "c_t = Lambda(lambda x: backend.sum(x, axis=1))(c_t)\n",
    "        #Reshape to 3d vector for consistency between Many to Many and Many to One implementations\n",
    "        #contexts = L.Lambda(reshape)(c_t)\n",
    "\n",
    "#Make a prediction\n",
    "contexts = Dropout(dropout_context)(c_t)\n",
    " \n",
    "output_layer = Dense(1, activation='sigmoid', name='final_output')(contexts)"
   ]
  },
  {
   "cell_type": "code",
   "execution_count": 37,
   "metadata": {
    "hidden": true,
    "id": "wF14AingrRFC"
   },
   "outputs": [],
   "source": [
    "model = Model(inputs=[input_layer_a, input_layer_q, input_layer_m, input_layer_o, input_layer_r,input_layer_numeric0,input_layer_numeric1,input_layer_numeric2,input_layer_numeric3,\n",
    "                      input_layer_numeric4,input_layer_numeric5,input_layer_numeric6,input_layer_numeric7,\n",
    "                      input_layer_numeric8,\n",
    "                       time_input_layer], outputs=output_layer)"
   ]
  },
  {
   "cell_type": "code",
   "execution_count": null,
   "metadata": {
    "hidden": true
   },
   "outputs": [],
   "source": []
  },
  {
   "cell_type": "code",
   "execution_count": 38,
   "metadata": {
    "hidden": true,
    "id": "36ANnG1lrRHi"
   },
   "outputs": [
    {
     "name": "stdout",
     "output_type": "stream",
     "text": [
      "WARNING:tensorflow:From C:\\Users\\u0138175\\Anaconda3\\envs\\aix360\\lib\\site-packages\\tensorflow\\python\\ops\\nn_impl.py:180: add_dispatch_support.<locals>.wrapper (from tensorflow.python.ops.array_ops) is deprecated and will be removed in a future version.\n",
      "Instructions for updating:\n",
      "Use tf.where in 2.0, which has the same broadcast rule as np.where\n",
      "Model: \"model\"\n",
      "__________________________________________________________________________________________________\n",
      "Layer (type)                    Output Shape         Param #     Connected to                     \n",
      "==================================================================================================\n",
      "activity_input (InputLayer)     [(None, 40)]         0                                            \n",
      "__________________________________________________________________________________________________\n",
      "question_input (InputLayer)     [(None, 40)]         0                                            \n",
      "__________________________________________________________________________________________________\n",
      "monitoring_input (InputLayer)   [(None, 40)]         0                                            \n",
      "__________________________________________________________________________________________________\n",
      "orgresource_input (InputLayer)  [(None, 40)]         0                                            \n",
      "__________________________________________________________________________________________________\n",
      "responsibleactor_input (InputLa [(None, 40)]         0                                            \n",
      "__________________________________________________________________________________________________\n",
      "numeric_input0 (InputLayer)     [(None, 40, 1)]      0                                            \n",
      "__________________________________________________________________________________________________\n",
      "numeric_input1 (InputLayer)     [(None, 40, 1)]      0                                            \n",
      "__________________________________________________________________________________________________\n",
      "numeric_input2 (InputLayer)     [(None, 40, 1)]      0                                            \n",
      "__________________________________________________________________________________________________\n",
      "numeric_input3 (InputLayer)     [(None, 40, 1)]      0                                            \n",
      "__________________________________________________________________________________________________\n",
      "numeric_input4 (InputLayer)     [(None, 40, 1)]      0                                            \n",
      "__________________________________________________________________________________________________\n",
      "numeric_input5 (InputLayer)     [(None, 40, 1)]      0                                            \n",
      "__________________________________________________________________________________________________\n",
      "numeric_input6 (InputLayer)     [(None, 40, 1)]      0                                            \n",
      "__________________________________________________________________________________________________\n",
      "numeric_input7 (InputLayer)     [(None, 40, 1)]      0                                            \n",
      "__________________________________________________________________________________________________\n",
      "numeric_input8 (InputLayer)     [(None, 40, 1)]      0                                            \n",
      "__________________________________________________________________________________________________\n",
      "ac_embedding (Embedding)        (None, 40, 302)      91204       activity_input[0][0]             \n",
      "__________________________________________________________________________________________________\n",
      "q_embedding (Embedding)         (None, 40, 14)       196         question_input[0][0]             \n",
      "__________________________________________________________________________________________________\n",
      "m_embedding (Embedding)         (None, 40, 9)        81          monitoring_input[0][0]           \n",
      "__________________________________________________________________________________________________\n",
      "o_embedding (Embedding)         (None, 40, 11)       121         orgresource_input[0][0]          \n",
      "__________________________________________________________________________________________________\n",
      "r_embedding (Embedding)         (None, 40, 9)        81          responsibleactor_input[0][0]     \n",
      "__________________________________________________________________________________________________\n",
      "concatenate (Concatenate)       (None, 40, 9)        0           numeric_input0[0][0]             \n",
      "                                                                 numeric_input1[0][0]             \n",
      "                                                                 numeric_input2[0][0]             \n",
      "                                                                 numeric_input3[0][0]             \n",
      "                                                                 numeric_input4[0][0]             \n",
      "                                                                 numeric_input5[0][0]             \n",
      "                                                                 numeric_input6[0][0]             \n",
      "                                                                 numeric_input7[0][0]             \n",
      "                                                                 numeric_input8[0][0]             \n",
      "__________________________________________________________________________________________________\n",
      "catInp (Concatenate)            (None, 40, 354)      0           ac_embedding[0][0]               \n",
      "                                                                 q_embedding[0][0]                \n",
      "                                                                 m_embedding[0][0]                \n",
      "                                                                 o_embedding[0][0]                \n",
      "                                                                 r_embedding[0][0]                \n",
      "                                                                 concatenate[0][0]                \n",
      "__________________________________________________________________________________________________\n",
      "dropout (Dropout)               (None, 40, 354)      0           catInp[0][0]                     \n",
      "__________________________________________________________________________________________________\n",
      "time_input (InputLayer)         [(None, 40, 1)]      0                                            \n",
      "__________________________________________________________________________________________________\n",
      "allInp (Concatenate)            (None, 40, 355)      0           dropout[0][0]                    \n",
      "                                                                 time_input[0][0]                 \n",
      "__________________________________________________________________________________________________\n",
      "alpha (Bidirectional)           (None, 40, 64)       99328       allInp[0][0]                     \n",
      "__________________________________________________________________________________________________\n",
      "alpha_dense_0 (TimeDistributed) (None, 40, 1)        65          alpha[0][0]                      \n",
      "__________________________________________________________________________________________________\n",
      "beta (Bidirectional)            (None, 40, 64)       99328       allInp[0][0]                     \n",
      "__________________________________________________________________________________________________\n",
      "alpha_softmax (Softmax)         (None, 40, 1)        0           alpha_dense_0[0][0]              \n",
      "__________________________________________________________________________________________________\n",
      "beta_dense_0 (TimeDistributed)  (None, 40, 355)      23075       beta[0][0]                       \n",
      "__________________________________________________________________________________________________\n",
      "multiply (Multiply)             (None, 40, 355)      0           alpha_softmax[0][0]              \n",
      "                                                                 beta_dense_0[0][0]               \n",
      "                                                                 allInp[0][0]                     \n",
      "__________________________________________________________________________________________________\n",
      "lambda (Lambda)                 (None, 355)          0           multiply[0][0]                   \n",
      "__________________________________________________________________________________________________\n",
      "dropout_1 (Dropout)             (None, 355)          0           lambda[0][0]                     \n",
      "__________________________________________________________________________________________________\n",
      "final_output (Dense)            (None, 1)            356         dropout_1[0][0]                  \n",
      "==================================================================================================\n",
      "Total params: 313,835\n",
      "Trainable params: 313,835\n",
      "Non-trainable params: 0\n",
      "__________________________________________________________________________________________________\n"
     ]
    }
   ],
   "source": [
    "opt = Nadam(lr=0.0005, beta_1=0.9, beta_2=0.999,\n",
    "                   epsilon=1e-08, schedule_decay=0.004, clipvalue=3)\n",
    "\n",
    "model.compile(loss={'final_output':'binary_crossentropy'}, optimizer= opt)\n",
    "    \n",
    "model.summary()"
   ]
  },
  {
   "cell_type": "code",
   "execution_count": 39,
   "metadata": {
    "hidden": true
   },
   "outputs": [],
   "source": [
    "output_file_path = os.path.join('./', 'models/model_rd_'+'_{epoch:02d}-{val_loss:.2f}.h5')"
   ]
  },
  {
   "cell_type": "code",
   "execution_count": 40,
   "metadata": {
    "hidden": true,
    "id": "mMA9Kw72rb2r"
   },
   "outputs": [],
   "source": [
    "padded_time = np.reshape(pad_train[9], (len(pad_train[9]), cutoff, 1))\n",
    "padded_time_test=  np.reshape(pad_test[9], (len(pad_test[9]), cutoff, 1))\n",
    "pad_0 = np.reshape(pad_train[0], (len(pad_train[0]), cutoff, 1))\n",
    "pad_0_test = np.reshape(pad_test[0], (len(pad_test[0]), cutoff, 1))\n",
    "pad_1 = np.reshape(pad_train[1], (len(pad_train[1]), cutoff, 1))\n",
    "pad_1_test = np.reshape(pad_test[1], (len(pad_test[1]), cutoff, 1))\n",
    "pad_2 = np.reshape(pad_train[2], (len(pad_train[2]), cutoff, 1))\n",
    "pad_2_test = np.reshape(pad_test[2], (len(pad_test[2]), cutoff, 1))\n",
    "pad_3 = np.reshape(pad_train[3], (len(pad_train[3]), cutoff, 1))\n",
    "pad_3_test = np.reshape(pad_test[3], (len(pad_test[3]), cutoff, 1))\n",
    "pad_4 = np.reshape(pad_train[4], (len(pad_train[4]), cutoff, 1))\n",
    "pad_4_test = np.reshape(pad_test[4], (len(pad_test[4]), cutoff, 1))\n",
    "pad_5 = np.reshape(pad_train[5], (len(pad_train[5]), cutoff, 1))\n",
    "pad_5_test = np.reshape(pad_test[5], (len(pad_test[5]), cutoff, 1))\n",
    "pad_6 = np.reshape(pad_train[6], (len(pad_train[6]), cutoff, 1))\n",
    "pad_6_test = np.reshape(pad_test[6], (len(pad_test[6]), cutoff, 1))\n",
    "pad_7 = np.reshape(pad_train[7], (len(pad_train[7]), cutoff, 1))\n",
    "pad_7_test = np.reshape(pad_test[7], (len(pad_test[7]), cutoff, 1))\n",
    "pad_8 = np.reshape(pad_train[8], (len(pad_train[8]), cutoff, 1))\n",
    "pad_8_test = np.reshape(pad_test[8], (len(pad_test[8]), cutoff, 1))\n",
    "\n",
    "model_checkpoint = ModelCheckpoint(output_file_path,\n",
    "                                       monitor='val_loss',\n",
    "                                       verbose=1,\n",
    "                                       save_best_only=True,\n",
    "                                       save_weights_only=False,\n",
    "                                       mode='auto')\n",
    "\n",
    "early_stopping = EarlyStopping(monitor='val_loss', patience=3)\n",
    "\n",
    "lr_reducer = ReduceLROnPlateau(monitor='val_loss',\n",
    "                                   factor=0.5,\n",
    "                                   patience=2,\n",
    "                                   verbose=0,\n",
    "                                   mode='auto',\n",
    "                                   min_delta=0.0001,\n",
    "                                   cooldown=0,\n",
    "                                   min_lr=0)\n",
    "model_inputs = [paddings_train[0]]\n",
    "model_inputs.append(paddings_train[1])\n",
    "model_inputs.append(paddings_train[2])\n",
    "model_inputs.append(paddings_train[3])\n",
    "model_inputs.append(paddings_train[4])\n",
    "model_inputs.append(pad_0)\n",
    "model_inputs.append(pad_1)\n",
    "model_inputs.append(pad_2)\n",
    "model_inputs.append(pad_3)\n",
    "model_inputs.append(pad_4)\n",
    "model_inputs.append(pad_5)\n",
    "model_inputs.append(pad_6)\n",
    "model_inputs.append(pad_7)\n",
    "model_inputs.append(pad_8)\n",
    "model_inputs.append(padded_time)"
   ]
  },
  {
   "cell_type": "code",
   "execution_count": 41,
   "metadata": {
    "hidden": true,
    "scrolled": true
   },
   "outputs": [
    {
     "name": "stdout",
     "output_type": "stream",
     "text": [
      "Train on 19998 samples, validate on 2223 samples\n",
      "Epoch 1/10\n",
      "19998/19998 [==============================] - 63s 3ms/sample - loss: 0.4538 - val_loss: 0.5191\n",
      "Epoch 2/10\n",
      "19998/19998 [==============================] - 59s 3ms/sample - loss: 0.4001 - val_loss: 0.4960\n",
      "Epoch 3/10\n",
      "19998/19998 [==============================] - 56s 3ms/sample - loss: 0.3794 - val_loss: 0.5066\n",
      "Epoch 4/10\n",
      "19998/19998 [==============================] - 57s 3ms/sample - loss: 0.3679 - val_loss: 0.5065\n",
      "Epoch 5/10\n",
      "19998/19998 [==============================] - 60s 3ms/sample - loss: 0.3457 - val_loss: 0.4844\n",
      "Epoch 6/10\n",
      "19998/19998 [==============================] - 60s 3ms/sample - loss: 0.3406 - val_loss: 0.4752\n",
      "Epoch 7/10\n",
      "19998/19998 [==============================] - 60s 3ms/sample - loss: 0.3315 - val_loss: 0.4756\n",
      "Epoch 8/10\n",
      "19998/19998 [==============================] - 61s 3ms/sample - loss: 0.3275 - val_loss: 0.5540\n",
      "Epoch 9/10\n",
      "19998/19998 [==============================] - 60s 3ms/sample - loss: 0.3287 - val_loss: 0.4697\n",
      "Epoch 10/10\n",
      "19998/19998 [==============================] - 61s 3ms/sample - loss: 0.3171 - val_loss: 0.4742\n",
      "605.3505403995514\n",
      "0.772951653141312\n"
     ]
    }
   ],
   "source": [
    "start = time.time()\n",
    "model.fit(model_inputs,\n",
    "              train_y,\n",
    "              callbacks=[early_stopping, lr_reducer],\n",
    "              validation_split = 0.1,\n",
    "              verbose=1,\n",
    "              epochs=10)\n",
    "model_inputs_test = [paddings_test[0]]\n",
    "model_inputs_test.append(paddings_test[1])\n",
    "model_inputs_test.append(paddings_test[2])\n",
    "model_inputs_test.append(paddings_test[3])\n",
    "model_inputs_test.append(paddings_test[4])\n",
    "model_inputs_test.append(pad_0_test)\n",
    "model_inputs_test.append(pad_1_test)\n",
    "model_inputs_test.append(pad_2_test)\n",
    "model_inputs_test.append(pad_3_test)\n",
    "model_inputs_test.append(pad_4_test)\n",
    "model_inputs_test.append(pad_5_test)\n",
    "model_inputs_test.append(pad_6_test)\n",
    "model_inputs_test.append(pad_7_test)\n",
    "model_inputs_test.append(pad_8_test)\n",
    "model_inputs_test.append(padded_time_test)\n",
    "predictions = model.predict(model_inputs_test)\n",
    "auc = roc_auc_score(test_y,predictions)\n",
    "total_time = time.time() - start\n",
    "print(total_time)\n",
    "print(auc)"
   ]
  },
  {
   "cell_type": "code",
   "execution_count": null,
   "metadata": {
    "hidden": true
   },
   "outputs": [],
   "source": []
  },
  {
   "cell_type": "code",
   "execution_count": 42,
   "metadata": {
    "hidden": true
   },
   "outputs": [],
   "source": [
    "preds_all = predictions\n",
    "method_name = \"attention\"\n",
    "cls_method = \"LSTM\""
   ]
  },
  {
   "cell_type": "code",
   "execution_count": 43,
   "metadata": {
    "hidden": true
   },
   "outputs": [],
   "source": [
    "if gap > 1:\n",
    "    outfile = os.path.join(results_dir, \"performance_results_%s_%s_%s_gap%s.csv\" % (cls_method, dataset_name, method_name, gap))\n",
    "else:\n",
    "    outfile = os.path.join(results_dir, \"performance_results_%s_%s_%s.csv\" % (cls_method, dataset_name, method_name))"
   ]
  },
  {
   "cell_type": "code",
   "execution_count": null,
   "metadata": {
    "hidden": true
   },
   "outputs": [],
   "source": []
  },
  {
   "cell_type": "code",
   "execution_count": 44,
   "metadata": {
    "hidden": true
   },
   "outputs": [],
   "source": [
    "with open(outfile, 'w') as fout:\n",
    "        fout.write(\"%s;%s;%s;%s;%s;%s\\n\"%(\"dataset\", \"method\", \"cls\", \"nr_events\", \"metric\", \"score\"))\n",
    "        fout.write(\"%s;%s;%s;%s;%s;%s\\n\"%(dataset_name, method_name, cls_method,-1, \"runtime_total\", total_time))\n",
    "        fout.write(\"%s;%s;%s;%s;%s;%s\\n\"%(dataset_name, method_name, cls_method,-1, \"runtime_avg\", total_time/10))  \n",
    "        dt_results = pd.DataFrame({\"actual\": test_y_all, \"predicted\": list(preds_all), \"nr_events\": nr_events_all})\n",
    "        for nr_events, group in dt_results.groupby(\"nr_events\"):\n",
    "            if len(set(group.actual)) < 2:\n",
    "                fout.write(\"%s;%s;%s;%s;%s;%s;%s\\n\"%(dataset_name, method_name, cls_method, nr_events,-1, \"auc\", np.nan))\n",
    "            else:\n",
    "                fout.write(\"%s;%s;%s;%s;%s;%s;%s\\n\"%(dataset_name, method_name, cls_method, nr_events,-1, \"auc\", roc_auc_score(group.actual, group.predicted)))\n",
    "        fout.write(\"%s;%s;%s;%s;%s;%s\\n\"%(dataset_name, method_name, cls_method,-1, \"auc\", roc_auc_score(dt_results.actual, dt_results.predicted)))\n",
    "        fout.write(\"%s\\n\"%(auc))"
   ]
  },
  {
   "cell_type": "code",
   "execution_count": null,
   "metadata": {
    "hidden": true
   },
   "outputs": [],
   "source": []
  },
  {
   "cell_type": "code",
   "execution_count": 45,
   "metadata": {
    "hidden": true
   },
   "outputs": [],
   "source": [
    "cat_columns = ['Activity', 'question','monitoringResource','org:resource', 'Responsible_actor']\n",
    "numerical_columns = ['Milieu (vergunning)','Kap', 'Milieu (neutraal wijziging)','Gebiedsbescherming',\n",
    "                     'month', 'timesincecasestart', 'weekday','open_cases','Inrit/Uitweg','timesincelastevent']\n"
   ]
  },
  {
   "cell_type": "code",
   "execution_count": 46,
   "metadata": {
    "hidden": true
   },
   "outputs": [
    {
     "name": "stdout",
     "output_type": "stream",
     "text": [
      "['activity_input', 'question_input', 'monitoring_input', 'orgresource_input', 'responsibleactor_input', 'numeric_input0', 'numeric_input1', 'numeric_input2', 'numeric_input3', 'numeric_input4', 'numeric_input5', 'numeric_input6', 'numeric_input7', 'numeric_input8', 'ac_embedding', 'q_embedding', 'm_embedding', 'o_embedding', 'r_embedding', 'concatenate', 'catInp', 'dropout', 'time_input', 'allInp', 'alpha', 'alpha_dense_0', 'beta', 'alpha_softmax', 'beta_dense_0', 'multiply', 'lambda', 'dropout_1', 'final_output']\n"
     ]
    }
   ],
   "source": [
    "#   Next event selection method and numbers of repetitions\n",
    "#variants = [{'imp': 'Arg Max', 'rep': 1}]#,\n",
    "               # {'imp': 'Random Choice', 'rep': 1}]\n",
    "#   Generation of predictions\n",
    "has_time=False\n",
    "    #model = load_model(os.path.join(output_route, parameters['model_file']))\n",
    "model = model\n",
    "layer_names = [layer.name for layer in model.layers]\n",
    "print(layer_names)\n",
    "l_emb_weights=None\n",
    "ac_emb_weights = model.get_layer(name='ac_embedding').get_weights()[0]\n",
    "\n",
    "q_emb_weights = model.get_layer(name='q_embedding').get_weights()[0]\n",
    "    \n",
    "m_emb_weights = model.get_layer(name='m_embedding').get_weights()[0]  \n",
    "    \n",
    "o_emb_weights = model.get_layer(name='o_embedding').get_weights()[0]  \n",
    "    \n",
    "r_emb_weights = model.get_layer(name='r_embedding').get_weights()[0]  \n",
    "\n",
    "has_time=True\n",
    "\n",
    "ac_output_weights, ac_bias = model.get_layer(name='final_output').get_weights()\n",
    "model_with_attention = Model(model.inputs, model.outputs +\\\n",
    "                                              [model.get_layer(name='alpha_softmax').output,\\\n",
    "                                               model.get_layer(name='beta_dense_0').output])"
   ]
  },
  {
   "cell_type": "code",
   "execution_count": null,
   "metadata": {
    "hidden": true
   },
   "outputs": [],
   "source": []
  },
  {
   "cell_type": "code",
   "execution_count": 47,
   "metadata": {
    "hidden": true
   },
   "outputs": [],
   "source": [
    "temporal_vectors = []\n",
    "variable_vectors=[]\n",
    "predictions = []\n",
    "for i in range(0,len(paddings_test[0])):\n",
    "    x_ac_ngram = paddings_test[0][i].reshape((1,cutoff))\n",
    "    x_q_ngram = paddings_test[1][i].reshape((1,cutoff))\n",
    "    x_m_ngram = paddings_test[2][i].reshape((1,cutoff))\n",
    "    x_o_ngram = paddings_test[3][i].reshape((1,cutoff))\n",
    "    x_r_ngram = paddings_test[4][i].reshape((1,cutoff))\n",
    "    x_in_ngram0  = pad_0_test[i].reshape(1, 40, 1)\n",
    "    x_in_ngram1  = pad_1_test[i].reshape(1, 40, 1)\n",
    "    x_in_ngram2  = pad_2_test[i].reshape(1, 40, 1)\n",
    "    x_in_ngram3  = pad_3_test[i].reshape(1, 40, 1)\n",
    "    x_in_ngram4  = pad_4_test[i].reshape(1, 40, 1)\n",
    "    x_in_ngram5  = pad_5_test[i].reshape(1, 40, 1)\n",
    "    x_in_ngram6  = pad_6_test[i].reshape(1, 40, 1)\n",
    "    x_in_ngram7  = pad_7_test[i].reshape(1, 40, 1)\n",
    "    x_in_ngram8  = pad_8_test[i].reshape(1, 40, 1)\n",
    "    x_t_ngram   = padded_time_test[i].reshape(1, 40, 1)\n",
    "    betas=None      \n",
    "    proba, alphas, betas = model_with_attention.predict([x_ac_ngram, x_q_ngram, x_m_ngram, x_o_ngram, x_r_ngram, \n",
    "                                                         x_in_ngram0,x_in_ngram1,x_in_ngram2,x_in_ngram3,x_in_ngram4,\n",
    "                                                         x_in_ngram5,x_in_ngram6,x_in_ngram7,x_in_ngram8,x_t_ngram])\n",
    "    #print(proba, alphas, betas)\n",
    "    proba = np.squeeze(proba)\n",
    "    alphas = np.squeeze(alphas)\n",
    "    temporal_att_vec = alphas\n",
    "    assert (np.sum(temporal_att_vec) - 1.0) < 1e-5\n",
    "    #print(temporal_att_vec)\n",
    "    temporal_vectors.append(temporal_att_vec)\n",
    "\n",
    "    if betas is not None:\n",
    "        #get the beta value\n",
    "        betas = np.squeeze(betas)\n",
    "        idx = np.argmax(alphas)\n",
    "        #print(idx)\n",
    "        beta_val = betas[idx]\n",
    "        # get the activity and role for that idx\n",
    "        act_ip = int(x_ac_ngram[0][idx])\n",
    "        ac_emb = ac_emb_weights[act_ip]\n",
    "        dim=ac_emb.shape[0]\n",
    "        \n",
    "        rol_ip = int(x_q_ngram[0][idx])\n",
    "        q_emb = q_emb_weights[rol_ip]\n",
    "        dim += q_emb.shape[0]\n",
    "            \n",
    "       \n",
    "        rol_ip = int(x_m_ngram[0][idx])\n",
    "        m_emb = m_emb_weights[rol_ip]\n",
    "        dim += m_emb.shape[0]\n",
    "        \n",
    "        \n",
    "        rol_ip = int(x_o_ngram[0][idx])\n",
    "        o_emb = o_emb_weights[rol_ip]\n",
    "        dim += o_emb.shape[0]\n",
    "           \n",
    "        \n",
    "        rol_ip = int(x_r_ngram[0][idx])\n",
    "        r_emb = r_emb_weights[rol_ip]\n",
    "        dim += r_emb.shape[0]\n",
    "            \n",
    "        num_v0 = np.squeeze(x_in_ngram0)[idx]\n",
    "        num_v1 = np.squeeze(x_in_ngram1)[idx]\n",
    "        num_v2 = np.squeeze(x_in_ngram2)[idx]\n",
    "        num_v3 = np.squeeze(x_in_ngram3)[idx]\n",
    "        num_v4 = np.squeeze(x_in_ngram4)[idx]\n",
    "        num_v5 = np.squeeze(x_in_ngram5)[idx]\n",
    "        num_v6 = np.squeeze(x_in_ngram6)[idx]\n",
    "        num_v7 = np.squeeze(x_in_ngram7)[idx]\n",
    "        num_v8 = np.squeeze(x_in_ngram8)[idx]\n",
    "        dim +=9\n",
    "        \n",
    "        if(betas.shape[1]==dim+1):\n",
    "            time_v = np.squeeze(x_t_ngram)[idx]  # time and role as masked together\n",
    "            emb = np.concatenate((ac_emb,q_emb,m_emb,o_emb,r_emb,num_v0,num_v1,num_v2,num_v3,num_v4\n",
    "                                  ,num_v5,num_v6,num_v7,num_v8,time_v), axis=None)\n",
    "          \n",
    "        #print('beta_val',beta_val.shape)\n",
    "        beta_scaled = np.multiply(beta_val,emb)\n",
    "        variable_attn = alphas[idx] * beta_scaled\n",
    "        #sum_grad = np.sum(ac_output_weights, axis=1)\n",
    "        #variable_attn=np.multiply(sum_grad.flatten(), variable_attn)\n",
    "        #if pos!=test_y[i]:\n",
    "            #temporal_vectors[i] = np.zeros(40, dtype='float32')\n",
    "            #variable_attn = np.zeros(52, dtype='float32')\n",
    "            #variable_vectors.append(variable_attn)\n",
    "        predictions.append(proba)\n",
    "        variable_vectors.append(variable_attn)"
   ]
  },
  {
   "cell_type": "code",
   "execution_count": 48,
   "metadata": {
    "hidden": true
   },
   "outputs": [
    {
     "data": {
      "image/png": "[encoded data removed]",
      "text/plain": [
       "<Figure size 720x504 with 1 Axes>"
      ]
     },
     "metadata": {},
     "output_type": "display_data"
    }
   ],
   "source": [
    "temp_final = np.mean(np.array(temporal_vectors), axis=0)\n",
    "pd.DataFrame(temp_final, columns=['alpha attention weight']).plot(kind='bar',\n",
    "                                                                        title='Attention of '\n",
    "                                                                              ' index', figsize=(10,7))\n",
    "# Hide grid lines\n",
    "plt.grid(False)\n",
    "plt.show()"
   ]
  },
  {
   "cell_type": "code",
   "execution_count": null,
   "metadata": {
    "hidden": true
   },
   "outputs": [],
   "source": []
  },
  {
   "cell_type": "code",
   "execution_count": 49,
   "metadata": {
    "hidden": true
   },
   "outputs": [
    {
     "name": "stdout",
     "output_type": "stream",
     "text": [
      "355\n",
      "     attributes    attribute_values\n",
      "0      0.016131               Start\n",
      "1      0.000048           01_BB_540\n",
      "2      0.000100           01_BB_765\n",
      "3     -0.000410           01_BB_770\n",
      "4      0.000716           01_BB_775\n",
      "..          ...                 ...\n",
      "350   -0.000605  timesincecasestart\n",
      "351    0.001087             weekday\n",
      "352   -0.020942          open_cases\n",
      "353    0.003939        Inrit/Uitweg\n",
      "354   -0.000162  timesincelastevent\n",
      "\n",
      "[355 rows x 2 columns]\n"
     ]
    },
    {
     "data": {
      "image/png": "[encoded data removed]",
      "text/plain": [
       "<Figure size 720x504 with 1 Axes>"
      ]
     },
     "metadata": {},
     "output_type": "display_data"
    }
   ],
   "source": [
    "if(len(variable_vectors)>0):\n",
    "    var_final = np.mean(np.array(variable_vectors), axis=0)\n",
    "    ac_labels = [index_ac[key] for key in sorted(index_ac.keys())]\n",
    "    q_labels = [index_q[key] for key in sorted(index_q.keys())]\n",
    "    m_labels = [index_m[key] for key in sorted(index_m.keys())]\n",
    "    o_labels = [index_o[key] for key in sorted(index_o.keys())]\n",
    "    r_labels = [index_r[key] for key in sorted(index_r.keys())]\n",
    "    \n",
    "    \n",
    "      \n",
    "    num_dim = var_final.shape[0]\n",
    "    print(num_dim)\n",
    "      \n",
    "    ac_labels.extend(q_labels)\n",
    "    ac_labels.extend(m_labels)\n",
    "    ac_labels.extend(o_labels)\n",
    "    ac_labels.extend(r_labels)\n",
    "  \n",
    "    ac_labels.append('Milieu (vergunning)')\n",
    "    ac_labels.append('Kap')\n",
    "    ac_labels.append('Milieu (neutraal wijziging)')\n",
    "    ac_labels.append('Gebiedsbescherming')\n",
    "    ac_labels.append('month')\n",
    "    ac_labels.append('timesincecasestart')\n",
    "    ac_labels.append('weekday')\n",
    "    ac_labels.append('open_cases')\n",
    "    ac_labels.append('Inrit/Uitweg')\n",
    " \n",
    "    ac_labels.append('timesincelastevent')   \n",
    "        \n",
    "\n",
    "    \n",
    "        \n",
    "        \n",
    "        \n",
    "        \n",
    "        \n",
    "    df_var=pd.DataFrame({'attributes':var_final, 'attribute_values':ac_labels})\n",
    "    print(df_var)\n",
    "    df_var.plot.bar(y='attributes', x='attribute_values',\n",
    "                                title='Attention of the event attributes.', figsize=(10,7))\n",
    "                                                                               \n",
    "    #plot_history( plt, file_name + 'variable_attn', path )\n",
    "      \n",
    "\n",
    "    # Hide grid lines\n",
    "    plt.grid(False)\n",
    "    plt.show()"
   ]
  },
  {
   "cell_type": "code",
   "execution_count": null,
   "metadata": {
    "hidden": true
   },
   "outputs": [],
   "source": []
  },
  {
   "cell_type": "markdown",
   "metadata": {
    "heading_collapsed": true
   },
   "source": [
    "#### Parsimony"
   ]
  },
  {
   "cell_type": "code",
   "execution_count": 56,
   "metadata": {
    "hidden": true
   },
   "outputs": [
    {
     "data": {
      "text/plain": [
       "174"
      ]
     },
     "execution_count": 56,
     "metadata": {},
     "output_type": "execute_result"
    }
   ],
   "source": [
    "parsimony = 0\n",
    "for i in range(0,len(df_var['attributes'])):\n",
    "    if df_var['attributes'][i]>0:\n",
    "        parsimony = parsimony+1\n",
    "parsimony"
   ]
  },
  {
   "cell_type": "code",
   "execution_count": 58,
   "metadata": {
    "hidden": true
   },
   "outputs": [
    {
     "data": {
      "text/plain": [
       "355"
      ]
     },
     "execution_count": 58,
     "metadata": {},
     "output_type": "execute_result"
    }
   ],
   "source": [
    "len(df_var['attributes'])"
   ]
  },
  {
   "cell_type": "markdown",
   "metadata": {
    "heading_collapsed": true
   },
   "source": [
    "#### Functional Complexity"
   ]
  },
  {
   "cell_type": "code",
   "execution_count": null,
   "metadata": {
    "hidden": true
   },
   "outputs": [],
   "source": []
  },
  {
   "cell_type": "code",
   "execution_count": 77,
   "metadata": {
    "hidden": true
   },
   "outputs": [],
   "source": [
    "def functional_complexity(n_instances):\n",
    "    NF=0\n",
    "    #categorical_columns\n",
    "    list_of_random_instances = list(np.random.permutation(np.arange(0,n_instances))[:n_instances])\n",
    "    for j in range(0,len(paddings_test)):\n",
    "        for i in list_of_random_instances:\n",
    "            new_paddings_test = paddings_test.copy()\n",
    "            #new prediction after permutation \n",
    "            new_paddings_test[j][i] = random.uniform(0,1)\n",
    "            #new_paddings_test[j][i] = np.random.permutation(new_paddings_test[j][i])\n",
    "            new_model_inputs_test = [[np.array(new_paddings_test[0][i])]]\n",
    "            new_model_inputs_test.append([np.array(new_paddings_test[1][i])])\n",
    "            new_model_inputs_test.append([np.array(new_paddings_test[2][i])])\n",
    "            new_model_inputs_test.append([np.array(new_paddings_test[3][i])])\n",
    "            new_model_inputs_test.append([np.array(new_paddings_test[4][i])])\n",
    "            new_model_inputs_test.append([np.array(pad_0_test[i])])\n",
    "            new_model_inputs_test.append([np.array(pad_1_test[i])])\n",
    "            new_model_inputs_test.append([np.array(pad_2_test[i])])\n",
    "            new_model_inputs_test.append([np.array(pad_3_test[i])])\n",
    "            new_model_inputs_test.append([np.array(pad_4_test[i])])\n",
    "            new_model_inputs_test.append([np.array(pad_5_test[i])])\n",
    "            new_model_inputs_test.append([np.array(pad_6_test[i])])\n",
    "            new_model_inputs_test.append([np.array(pad_7_test[i])])\n",
    "            new_model_inputs_test.append([np.array(pad_8_test[i])])\n",
    "            new_model_inputs_test.append([np.array(padded_time_test[i])])\n",
    "            pred2 = model.predict(new_model_inputs_test)\n",
    "            pred2= np.round(pred2)\n",
    "            #prediction without permutation\n",
    "            model_inputs_test = [[np.array(paddings_test[0][i])]]\n",
    "            model_inputs_test.append([np.array(paddings_test[1][i])])\n",
    "            model_inputs_test.append([np.array(paddings_test[2][i])])\n",
    "            model_inputs_test.append([np.array(paddings_test[3][i])])\n",
    "            model_inputs_test.append([np.array(paddings_test[4][i])])\n",
    "            model_inputs_test.append([np.array(pad_0_test[i])])\n",
    "            model_inputs_test.append([np.array(pad_1_test[i])])\n",
    "            model_inputs_test.append([np.array(pad_2_test[i])])\n",
    "            model_inputs_test.append([np.array(pad_3_test[i])])\n",
    "            model_inputs_test.append([np.array(pad_4_test[i])])\n",
    "            model_inputs_test.append([np.array(pad_5_test[i])])\n",
    "            model_inputs_test.append([np.array(pad_6_test[i])])\n",
    "            model_inputs_test.append([np.array(pad_7_test[i])])\n",
    "            model_inputs_test.append([np.array(pad_8_test[i])])\n",
    "            model_inputs_test.append([np.array(padded_time_test[i])])\n",
    "            pred1 = model.predict(model_inputs_test)\n",
    "            pred1 = np.round(pred1)\n",
    "            \n",
    "            if pred1 == pred2:\n",
    "                NF = NF+1\n",
    "    #numerical\n",
    "    list_of_sets=[]\n",
    "    set_of_values = set()\n",
    "    #the different values of each column in a set\n",
    "    #all these sets are added to the list_of_sets list        \n",
    "    for j in range(0,len(num_columns)):\n",
    "        set_of_values = set(dt_test_prefixes[num_columns[j]])\n",
    "        for i in list_of_random_instances:\n",
    "            new_pad_test = pad_test.copy()\n",
    "            new_pad_test[j][i] = random.choice(list(set_of_values))\n",
    "           \n",
    "            new_padded_time_test=  np.reshape(new_pad_test[1], (len(new_pad_test[1]), cutoff, 1))\n",
    "            \n",
    "            new_pad_0_test = np.reshape(new_pad_test[0], (len(new_pad_test[0]), cutoff, 1))\n",
    "            new_pad_1_test = np.reshape(new_pad_test[1], (len(new_pad_test[1]), cutoff, 1))\n",
    "            new_pad_2_test = np.reshape(new_pad_test[2], (len(new_pad_test[2]), cutoff, 1))\n",
    "            new_pad_3_test = np.reshape(new_pad_test[3], (len(new_pad_test[3]), cutoff, 1))\n",
    "            new_pad_4_test = np.reshape(new_pad_test[4], (len(new_pad_test[4]), cutoff, 1))\n",
    "            new_pad_5_test = np.reshape(new_pad_test[5], (len(new_pad_test[5]), cutoff, 1))\n",
    "            new_pad_6_test = np.reshape(new_pad_test[6], (len(new_pad_test[6]), cutoff, 1))\n",
    "            new_pad_7_test = np.reshape(new_pad_test[7], (len(new_pad_test[7]), cutoff, 1))\n",
    "            new_pad_8_test = np.reshape(new_pad_test[8], (len(new_pad_test[8]), cutoff, 1))\n",
    "  \n",
    "            \n",
    "            #new prediction after permutation\n",
    "           \n",
    "            model_inputs_test = [[np.array(paddings_test[0][i])]]\n",
    "            model_inputs_test.append([np.array(paddings_test[1][i])])\n",
    "            model_inputs_test.append([np.array(paddings_test[2][i])])\n",
    "            model_inputs_test.append([np.array(paddings_test[3][i])])\n",
    "            model_inputs_test.append([np.array(paddings_test[4][i])])\n",
    "            model_inputs_test.append([np.array(new_pad_0_test[i])])\n",
    "            model_inputs_test.append([np.array(new_pad_1_test[i])])\n",
    "            model_inputs_test.append([np.array(new_pad_2_test[i])])\n",
    "            model_inputs_test.append([np.array(new_pad_3_test[i])])\n",
    "            model_inputs_test.append([np.array(new_pad_4_test[i])])\n",
    "            model_inputs_test.append([np.array(new_pad_5_test[i])])\n",
    "            model_inputs_test.append([np.array(new_pad_6_test[i])])\n",
    "            model_inputs_test.append([np.array(new_pad_7_test[i])])\n",
    "            model_inputs_test.append([np.array(new_pad_8_test[i])])\n",
    "            new_model_inputs_test.append([np.array(new_padded_time_test[i])])\n",
    "            pred2 = model.predict(new_model_inputs_test)\n",
    "            pred2= np.round(pred2)\n",
    "            #prediction without permutation\n",
    "            model_inputs_test = [[np.array(paddings_test[0][i])]]\n",
    "            model_inputs_test.append([np.array(paddings_test[1][i])])\n",
    "            model_inputs_test.append([np.array(paddings_test[2][i])])\n",
    "            model_inputs_test.append([np.array(paddings_test[3][i])])\n",
    "            model_inputs_test.append([np.array(paddings_test[4][i])])\n",
    "            model_inputs_test.append([np.array(pad_0_test[i])])\n",
    "            model_inputs_test.append([np.array(pad_1_test[i])])\n",
    "            model_inputs_test.append([np.array(pad_2_test[i])])\n",
    "            model_inputs_test.append([np.array(pad_3_test[i])])\n",
    "            model_inputs_test.append([np.array(pad_4_test[i])])\n",
    "            model_inputs_test.append([np.array(pad_5_test[i])])\n",
    "            model_inputs_test.append([np.array(pad_6_test[i])])\n",
    "            model_inputs_test.append([np.array(pad_7_test[i])])\n",
    "            model_inputs_test.append([np.array(pad_8_test[i])])\n",
    "            model_inputs_test.append([np.array(padded_time_test[i])])\n",
    "            pred1 = model.predict(model_inputs_test)\n",
    "            pred1 = np.round(pred1)\n",
    "            if pred1 == pred2:\n",
    "                NF = NF+1           \n",
    "                \n",
    "    \n",
    "    return NF"
   ]
  },
  {
   "cell_type": "code",
   "execution_count": 80,
   "metadata": {
    "hidden": true
   },
   "outputs": [
    {
     "data": {
      "text/plain": [
       "6580"
      ]
     },
     "execution_count": 80,
     "metadata": {},
     "output_type": "execute_result"
    }
   ],
   "source": [
    "functional_complexity(500)"
   ]
  },
  {
   "cell_type": "code",
   "execution_count": 81,
   "metadata": {
    "hidden": true
   },
   "outputs": [
    {
     "data": {
      "text/plain": [
       "7500"
      ]
     },
     "execution_count": 81,
     "metadata": {},
     "output_type": "execute_result"
    }
   ],
   "source": [
    "500*15"
   ]
  },
  {
   "cell_type": "code",
   "execution_count": null,
   "metadata": {
    "hidden": true
   },
   "outputs": [],
   "source": []
  },
  {
   "cell_type": "markdown",
   "metadata": {},
   "source": [
    "#### Monotonicity"
   ]
  },
  {
   "cell_type": "code",
   "execution_count": 51,
   "metadata": {},
   "outputs": [
    {
     "name": "stdout",
     "output_type": "stream",
     "text": [
      "0\n",
      "Variable 1, perturbation effect: 0.0055\n",
      "1\n",
      "Variable 2, perturbation effect: 0.9296\n",
      "2\n",
      "Variable 3, perturbation effect: 0.0000\n",
      "3\n",
      "Variable 4, perturbation effect: 0.0000\n",
      "4\n",
      "Variable 5, perturbation effect: 0.0000\n",
      "5\n",
      "Variable 6, perturbation effect: 2.9643\n",
      "6\n",
      "Variable 7, perturbation effect: 1.8950\n",
      "7\n",
      "Variable 8, perturbation effect: 2.7693\n",
      "8\n",
      "Variable 9, perturbation effect: 6.0172\n",
      "9\n",
      "Variable 10, perturbation effect: 1.1423\n",
      "10\n",
      "Variable 11, perturbation effect: 0.8819\n",
      "11\n",
      "Variable 12, perturbation effect: 1.0288\n",
      "12\n",
      "Variable 13, perturbation effect: 1.1563\n",
      "13\n",
      "Variable 14, perturbation effect: 1.8607\n",
      "14\n",
      "Variable 15, perturbation effect: 1.4154\n"
     ]
    }
   ],
   "source": [
    "numbers = [no_activities, no_question,no_monitoring,no_orgresource,no_responsibleactor,1,1,1,1,1,1,1,1,1,1]\n",
    "\n",
    "sample_length = 5000\n",
    "effects_saved = []\n",
    "def data_sample(model_inputs):\n",
    "    sample_data = []\n",
    "    for i in range(0, len(model_inputs)):\n",
    "        sample_data.append(model_inputs[i][0:sample_length])\n",
    "    return sample_data\n",
    "def var_importance(model, model_inputs):\n",
    "    x = data_sample(model_inputs)\n",
    "    orig_out = model.predict(x)\n",
    "    for i in range(0,len(cat_columns)):  # iterate over the 5 cat features\n",
    "        print(i)\n",
    "        new_x = x.copy()\n",
    "        perturbations_list = []\n",
    "        for j in range(0,sample_length):\n",
    "            prefix_array = np.random.random((maxlen,))\n",
    "            perturbations_list.append(prefix_array)\n",
    "        new_x[i] = np.array(perturbations_list)\n",
    "        perturbed_out = model.predict(new_x)\n",
    "        effect = (((orig_out - perturbed_out) ** 2)/40).sum() ** 0.5\n",
    "        print(f'Variable {i+1}, perturbation effect: {effect:.4f}')\n",
    "        effects_saved.append(effect)\n",
    "    for k in range(i+1,len(model_inputs)):  # iterate over the 10 num features\n",
    "        print(k)\n",
    "        new_x = x.copy()\n",
    "        perturbations_list = []\n",
    "        for j in range(0,sample_length):\n",
    "            prefix_array = np.random.random((maxlen,))\n",
    "            perturbations_list.append(prefix_array)\n",
    "        perturbation_array = np.array(perturbations_list)\n",
    "        perturbations_reshaped = perturbation_array.reshape(sample_length, cutoff, 1)\n",
    "        new_x[k] = perturbations_reshaped\n",
    "        perturbed_out = model.predict(new_x)\n",
    "        effect = (((orig_out - perturbed_out) ** 2)/40).sum() ** 0.5\n",
    "        print(f'Variable {(k+1)}, perturbation effect: {effect:.4f}')    \n",
    "        effects_saved.append(effect)\n",
    "\n",
    "var_importance(model, model_inputs_test)"
   ]
  },
  {
   "cell_type": "code",
   "execution_count": null,
   "metadata": {},
   "outputs": [],
   "source": []
  },
  {
   "cell_type": "code",
   "execution_count": 58,
   "metadata": {},
   "outputs": [
    {
     "data": {
      "text/plain": [
       "302"
      ]
     },
     "execution_count": 58,
     "metadata": {},
     "output_type": "execute_result"
    }
   ],
   "source": [
    "len([index_ac[key] for key in sorted(index_ac.keys())])"
   ]
  },
  {
   "cell_type": "code",
   "execution_count": 59,
   "metadata": {},
   "outputs": [
    {
     "data": {
      "text/plain": [
       "0.42491227"
      ]
     },
     "execution_count": 59,
     "metadata": {},
     "output_type": "execute_result"
    }
   ],
   "source": [
    "abs(df_var['attributes'].iloc[0:302]).sum(skipna = True)"
   ]
  },
  {
   "cell_type": "code",
   "execution_count": null,
   "metadata": {},
   "outputs": [],
   "source": []
  },
  {
   "cell_type": "code",
   "execution_count": 60,
   "metadata": {},
   "outputs": [
    {
     "data": {
      "text/plain": [
       "14"
      ]
     },
     "execution_count": 60,
     "metadata": {},
     "output_type": "execute_result"
    }
   ],
   "source": [
    "len(q_labels)"
   ]
  },
  {
   "cell_type": "code",
   "execution_count": 61,
   "metadata": {},
   "outputs": [
    {
     "data": {
      "text/plain": [
       "0.023549326"
      ]
     },
     "execution_count": 61,
     "metadata": {},
     "output_type": "execute_result"
    }
   ],
   "source": [
    "abs(df_var['attributes'].iloc[302:316]).sum(skipna = True)"
   ]
  },
  {
   "cell_type": "code",
   "execution_count": null,
   "metadata": {},
   "outputs": [],
   "source": []
  },
  {
   "cell_type": "code",
   "execution_count": 62,
   "metadata": {},
   "outputs": [
    {
     "data": {
      "text/plain": [
       "9"
      ]
     },
     "execution_count": 62,
     "metadata": {},
     "output_type": "execute_result"
    }
   ],
   "source": [
    "len(m_labels)"
   ]
  },
  {
   "cell_type": "code",
   "execution_count": 63,
   "metadata": {},
   "outputs": [
    {
     "data": {
      "text/plain": [
       "0.028539583"
      ]
     },
     "execution_count": 63,
     "metadata": {},
     "output_type": "execute_result"
    }
   ],
   "source": [
    "abs(df_var['attributes'].iloc[316:325]).sum(skipna = True)"
   ]
  },
  {
   "cell_type": "code",
   "execution_count": null,
   "metadata": {},
   "outputs": [],
   "source": []
  },
  {
   "cell_type": "code",
   "execution_count": 64,
   "metadata": {},
   "outputs": [
    {
     "data": {
      "text/plain": [
       "11"
      ]
     },
     "execution_count": 64,
     "metadata": {},
     "output_type": "execute_result"
    }
   ],
   "source": [
    "len(o_labels)"
   ]
  },
  {
   "cell_type": "code",
   "execution_count": 65,
   "metadata": {},
   "outputs": [
    {
     "data": {
      "text/plain": [
       "0.030618127"
      ]
     },
     "execution_count": 65,
     "metadata": {},
     "output_type": "execute_result"
    }
   ],
   "source": [
    "abs(df_var['attributes'].iloc[325:336]).sum(skipna = True)"
   ]
  },
  {
   "cell_type": "code",
   "execution_count": null,
   "metadata": {},
   "outputs": [],
   "source": []
  },
  {
   "cell_type": "code",
   "execution_count": 66,
   "metadata": {},
   "outputs": [
    {
     "data": {
      "text/plain": [
       "9"
      ]
     },
     "execution_count": 66,
     "metadata": {},
     "output_type": "execute_result"
    }
   ],
   "source": [
    "len(r_labels)"
   ]
  },
  {
   "cell_type": "code",
   "execution_count": 67,
   "metadata": {},
   "outputs": [
    {
     "data": {
      "text/plain": [
       "0.035494983"
      ]
     },
     "execution_count": 67,
     "metadata": {},
     "output_type": "execute_result"
    }
   ],
   "source": [
    "abs(df_var['attributes'].iloc[336:345]).sum(skipna = True)"
   ]
  },
  {
   "cell_type": "code",
   "execution_count": null,
   "metadata": {},
   "outputs": [],
   "source": []
  },
  {
   "cell_type": "code",
   "execution_count": 68,
   "metadata": {},
   "outputs": [],
   "source": [
    "num_columns = ['Milieu (vergunning)','Kap', 'Milieu (neutraal wijziging)','Gebiedsbescherming',\n",
    "                     'month', 'timesincecasestart', 'weekday','open_cases','Inrit/Uitweg', 'timesincelastevent']"
   ]
  },
  {
   "cell_type": "code",
   "execution_count": 69,
   "metadata": {},
   "outputs": [
    {
     "data": {
      "text/plain": [
       "0.035494983"
      ]
     },
     "execution_count": 69,
     "metadata": {},
     "output_type": "execute_result"
    }
   ],
   "source": [
    "abs(df_var['attributes'].iloc[336:345]).sum(skipna = True)\n"
   ]
  },
  {
   "cell_type": "code",
   "execution_count": null,
   "metadata": {},
   "outputs": [],
   "source": []
  },
  {
   "cell_type": "code",
   "execution_count": 70,
   "metadata": {},
   "outputs": [],
   "source": [
    "attention_values = []\n",
    "attention_values.append(0.3627954)\n",
    "attention_values.append(0.06580403)\n",
    "attention_values.append(0.016693108)\n",
    "attention_values.append(0.040122263)\n",
    "attention_values.append(0.02072303)\n",
    "attention_values.append(0.016693108)"
   ]
  },
  {
   "cell_type": "code",
   "execution_count": 71,
   "metadata": {},
   "outputs": [
    {
     "name": "stdout",
     "output_type": "stream",
     "text": [
      "0.0042208247\n",
      "0.0143883815\n",
      "0.00071219803\n",
      "0.0025733206\n",
      "0.012363204\n",
      "0.00060467963\n",
      "0.001086848\n",
      "0.020941695\n",
      "0.003939069\n"
     ]
    }
   ],
   "source": [
    "for i in range(0,9):\n",
    "    print(abs(df_var['attributes'].iloc[345+i:345+i+1]).sum(skipna = True))\n",
    "    attention_values.append(abs(df_var['attributes'].iloc[336+i:345+i+1]).sum(skipna = True))"
   ]
  },
  {
   "cell_type": "code",
   "execution_count": 72,
   "metadata": {},
   "outputs": [
    {
     "data": {
      "text/plain": [
       "['Activity',\n",
       " 'question',\n",
       " 'monitoringResource',\n",
       " 'org:resource',\n",
       " 'Responsible_actor']"
      ]
     },
     "execution_count": 72,
     "metadata": {},
     "output_type": "execute_result"
    }
   ],
   "source": [
    "cat_columns"
   ]
  },
  {
   "cell_type": "code",
   "execution_count": 73,
   "metadata": {},
   "outputs": [],
   "source": [
    "courses = ['Activity',\n",
    " 'question',\n",
    " 'monitoringResource',\n",
    " 'org:resource',\n",
    " 'Responsible_actor',\n",
    " 'Milieu (vergunning)',\n",
    " 'Kap',\n",
    " 'Milieu (neutraal wijziging)',\n",
    " 'Gebiedsbescherming',\n",
    " 'month',\n",
    " 'timesincecasestart',\n",
    " 'weekday',\n",
    " 'open_cases',\n",
    " 'Inrit/Uitweg',\n",
    " 'timesincelastevent']"
   ]
  },
  {
   "cell_type": "code",
   "execution_count": 74,
   "metadata": {},
   "outputs": [
    {
     "data": {
      "text/plain": [
       "15"
      ]
     },
     "execution_count": 74,
     "metadata": {},
     "output_type": "execute_result"
    }
   ],
   "source": [
    "len(courses)"
   ]
  },
  {
   "cell_type": "code",
   "execution_count": 75,
   "metadata": {},
   "outputs": [
    {
     "data": {
      "text/plain": [
       "15"
      ]
     },
     "execution_count": 75,
     "metadata": {},
     "output_type": "execute_result"
    }
   ],
   "source": [
    "len(attention_values)"
   ]
  },
  {
   "cell_type": "code",
   "execution_count": 76,
   "metadata": {},
   "outputs": [
    {
     "data": {
      "image/png": "[encoded data removed]",
      "text/plain": [
       "<Figure size 720x360 with 1 Axes>"
      ]
     },
     "metadata": {},
     "output_type": "display_data"
    }
   ],
   "source": [
    "values=attention_values\n",
    "fig = plt.figure(figsize = (10, 5))\n",
    " \n",
    "# creating the bar plot\n",
    "plt.bar(courses, values, color ='maroon',\n",
    "        width = 0.4)\n",
    " \n",
    "plt.xlabel(\"Features\")\n",
    "plt.ylabel(\"Attention\")\n",
    "plt.title(\"Feature importance based on aggegated attention\")\n",
    "plt.show()"
   ]
  },
  {
   "cell_type": "code",
   "execution_count": null,
   "metadata": {},
   "outputs": [],
   "source": []
  },
  {
   "cell_type": "code",
   "execution_count": null,
   "metadata": {},
   "outputs": [],
   "source": []
  },
  {
   "cell_type": "code",
   "execution_count": 77,
   "metadata": {},
   "outputs": [
    {
     "data": {
      "image/png": "[encoded data removed]",
      "text/plain": [
       "<Figure size 720x360 with 1 Axes>"
      ]
     },
     "metadata": {},
     "output_type": "display_data"
    },
    {
     "data": {
      "text/plain": [
       "[0.005533887328955449,\n",
       " 0.9295843371686954,\n",
       " 0.0,\n",
       " 0.0,\n",
       " 0.0,\n",
       " 2.964331139037553,\n",
       " 1.8950338110008553,\n",
       " 2.769292780801326,\n",
       " 6.017244036896006,\n",
       " 1.142346898344468,\n",
       " 0.8819019719574251,\n",
       " 1.0288004827338075,\n",
       " 1.1562848987983134,\n",
       " 1.8606806426462488,\n",
       " 1.415370778547226]"
      ]
     },
     "execution_count": 77,
     "metadata": {},
     "output_type": "execute_result"
    }
   ],
   "source": [
    "values = effects_saved\n",
    "  \n",
    "fig = plt.figure(figsize = (10, 5))\n",
    " \n",
    "# creating the bar plot\n",
    "plt.bar(courses, values, color ='maroon',\n",
    "        width = 0.4)\n",
    " \n",
    "plt.xlabel(\"Features\")\n",
    "plt.ylabel(\"Attention\")\n",
    "plt.title(\"Feature importance based on perturbation\")\n",
    "plt.show()\n",
    "\n",
    "effects_saved\n"
   ]
  },
  {
   "cell_type": "code",
   "execution_count": null,
   "metadata": {},
   "outputs": [],
   "source": []
  },
  {
   "cell_type": "code",
   "execution_count": 78,
   "metadata": {},
   "outputs": [
    {
     "name": "stdout",
     "output_type": "stream",
     "text": [
      "Kendall correlation coefficient: -0.184\n",
      "Samples are uncorrelated (fail to reject H0) p=0.344\n"
     ]
    }
   ],
   "source": [
    "from scipy.stats import kendalltau\n",
    "\n",
    "coef, p = kendalltau(effects_saved, attention_values)\n",
    "print('Kendall correlation coefficient: %.3f' % coef)\n",
    "# interpret the significance\n",
    "alpha = 0.05\n",
    "if p > alpha:\n",
    "\tprint('Samples are uncorrelated (fail to reject H0) p=%.3f' % p)\n",
    "else:\n",
    "\tprint('Samples are correlated (reject H0) p=%.3f' % p)\n",
    "\n"
   ]
  },
  {
   "cell_type": "code",
   "execution_count": null,
   "metadata": {},
   "outputs": [],
   "source": []
  },
  {
   "cell_type": "code",
   "execution_count": 79,
   "metadata": {},
   "outputs": [
    {
     "name": "stdout",
     "output_type": "stream",
     "text": [
      "Spearmans correlation coefficient: -0.161\n",
      "Samples are uncorrelated (fail to reject H0) p=0.565\n"
     ]
    }
   ],
   "source": [
    "# prepare data\n",
    "from scipy.stats import spearmanr\n",
    "# seed random number generator\n",
    "\n",
    "coef, p = spearmanr(effects_saved, attention_values)\n",
    "print('Spearmans correlation coefficient: %.3f' % coef)\n",
    "# interpret the significance\n",
    "alpha = 0.05\n",
    "if p > alpha:\n",
    "\tprint('Samples are uncorrelated (fail to reject H0) p=%.3f' % p)\n",
    "else:\n",
    "\tprint('Samples are correlated (reject H0) p=%.3f' % p)"
   ]
  },
  {
   "cell_type": "code",
   "execution_count": null,
   "metadata": {},
   "outputs": [],
   "source": []
  }
 ],
 "metadata": {
  "accelerator": "GPU",
  "colab": {
   "name": "Kopie van Leafmodel_BPIC2017_accepted.ipynb",
   "provenance": []
  },
  "kernelspec": {
   "display_name": "Python 3",
   "language": "python",
   "name": "python3"
  },
  "language_info": {
   "codemirror_mode": {
    "name": "ipython",
    "version": 3
   },
   "file_extension": ".py",
   "mimetype": "text/x-python",
   "name": "python",
   "nbconvert_exporter": "python",
   "pygments_lexer": "ipython3",
   "version": "3.6.12"
  },
  "toc": {
   "base_numbering": 1,
   "nav_menu": {},
   "number_sections": true,
   "sideBar": true,
   "skip_h1_title": false,
   "title_cell": "Table of Contents",
   "title_sidebar": "Contents",
   "toc_cell": false,
   "toc_position": {
    "height": "590.66px",
    "left": "34.9931px",
    "top": "110.926px",
    "width": "164.988px"
   },
   "toc_section_display": true,
   "toc_window_display": true
  }
 },
 "nbformat": 4,
 "nbformat_minor": 1
}
