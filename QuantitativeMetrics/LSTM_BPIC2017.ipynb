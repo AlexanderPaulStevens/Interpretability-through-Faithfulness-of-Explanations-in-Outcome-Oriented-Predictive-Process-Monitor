{
 "cells": [
  {
   "cell_type": "markdown",
   "metadata": {
    "id": "3Y3PAY3qbT4x"
   },
   "source": [
    "# Analyzing the Spectrum of Explainability in Outcome-Oriented Predictive Process Monitoring"
   ]
  },
  {
   "cell_type": "markdown",
   "metadata": {
    "id": "4nfPTuq9bT4y"
   },
   "source": [
    "## BPIC2017_Accepted"
   ]
  },
  {
   "cell_type": "markdown",
   "metadata": {
    "id": "Cug_bCFubT4y"
   },
   "source": [
    "### data preprocessing"
   ]
  },
  {
   "cell_type": "markdown",
   "metadata": {
    "id": "mJD4mKi1bT4y"
   },
   "source": [
    "#### importing libraries and terminology"
   ]
  },
  {
   "cell_type": "code",
   "execution_count": 1,
   "metadata": {
    "id": "u5IiUd7lbT4y"
   },
   "outputs": [],
   "source": [
    "#import libraries"
   ]
  },
  {
   "cell_type": "code",
   "execution_count": 2,
   "metadata": {
    "id": "MQDp4i8Tm61-"
   },
   "outputs": [],
   "source": [
    "import pandas as pd\n",
    "import numpy as np\n",
    "import time\n",
    "import os\n",
    "import random\n",
    "import pickle\n",
    "from sklearn.tree import DecisionTreeClassifier\n",
    "from sklearn.linear_model import LogisticRegression\n",
    "from sklearn.preprocessing import StandardScaler, MinMaxScaler\n",
    "from tabulate import tabulate\n",
    "from sklearn.metrics import roc_auc_score\n",
    "from sklearn.pipeline import FeatureUnion\n",
    "import xgboost as xgb"
   ]
  },
  {
   "cell_type": "code",
   "execution_count": 3,
   "metadata": {
    "id": "FZHxcgUJtEBm"
   },
   "outputs": [],
   "source": [
    "#user specified packages from Teinemaa\n",
    "from DatasetManager import DatasetManager"
   ]
  },
  {
   "cell_type": "code",
   "execution_count": 4,
   "metadata": {
    "id": "oBMyjQ5Vnn17"
   },
   "outputs": [
    {
     "name": "stderr",
     "output_type": "stream",
     "text": [
      "C:\\Users\\u0138175\\Anaconda3\\envs\\aix360\\lib\\site-packages\\tensorflow\\python\\framework\\dtypes.py:516: FutureWarning: Passing (type, 1) or '1type' as a synonym of type is deprecated; in a future version of numpy, it will be understood as (type, (1,)) / '(1,)type'.\n",
      "  _np_qint8 = np.dtype([(\"qint8\", np.int8, 1)])\n",
      "C:\\Users\\u0138175\\Anaconda3\\envs\\aix360\\lib\\site-packages\\tensorflow\\python\\framework\\dtypes.py:517: FutureWarning: Passing (type, 1) or '1type' as a synonym of type is deprecated; in a future version of numpy, it will be understood as (type, (1,)) / '(1,)type'.\n",
      "  _np_quint8 = np.dtype([(\"quint8\", np.uint8, 1)])\n",
      "C:\\Users\\u0138175\\Anaconda3\\envs\\aix360\\lib\\site-packages\\tensorflow\\python\\framework\\dtypes.py:518: FutureWarning: Passing (type, 1) or '1type' as a synonym of type is deprecated; in a future version of numpy, it will be understood as (type, (1,)) / '(1,)type'.\n",
      "  _np_qint16 = np.dtype([(\"qint16\", np.int16, 1)])\n",
      "C:\\Users\\u0138175\\Anaconda3\\envs\\aix360\\lib\\site-packages\\tensorflow\\python\\framework\\dtypes.py:519: FutureWarning: Passing (type, 1) or '1type' as a synonym of type is deprecated; in a future version of numpy, it will be understood as (type, (1,)) / '(1,)type'.\n",
      "  _np_quint16 = np.dtype([(\"quint16\", np.uint16, 1)])\n",
      "C:\\Users\\u0138175\\Anaconda3\\envs\\aix360\\lib\\site-packages\\tensorflow\\python\\framework\\dtypes.py:520: FutureWarning: Passing (type, 1) or '1type' as a synonym of type is deprecated; in a future version of numpy, it will be understood as (type, (1,)) / '(1,)type'.\n",
      "  _np_qint32 = np.dtype([(\"qint32\", np.int32, 1)])\n",
      "C:\\Users\\u0138175\\Anaconda3\\envs\\aix360\\lib\\site-packages\\tensorflow\\python\\framework\\dtypes.py:525: FutureWarning: Passing (type, 1) or '1type' as a synonym of type is deprecated; in a future version of numpy, it will be understood as (type, (1,)) / '(1,)type'.\n",
      "  np_resource = np.dtype([(\"resource\", np.ubyte, 1)])\n",
      "C:\\Users\\u0138175\\Anaconda3\\envs\\aix360\\lib\\site-packages\\tensorboard\\compat\\tensorflow_stub\\dtypes.py:541: FutureWarning: Passing (type, 1) or '1type' as a synonym of type is deprecated; in a future version of numpy, it will be understood as (type, (1,)) / '(1,)type'.\n",
      "  _np_qint8 = np.dtype([(\"qint8\", np.int8, 1)])\n",
      "C:\\Users\\u0138175\\Anaconda3\\envs\\aix360\\lib\\site-packages\\tensorboard\\compat\\tensorflow_stub\\dtypes.py:542: FutureWarning: Passing (type, 1) or '1type' as a synonym of type is deprecated; in a future version of numpy, it will be understood as (type, (1,)) / '(1,)type'.\n",
      "  _np_quint8 = np.dtype([(\"quint8\", np.uint8, 1)])\n",
      "C:\\Users\\u0138175\\Anaconda3\\envs\\aix360\\lib\\site-packages\\tensorboard\\compat\\tensorflow_stub\\dtypes.py:543: FutureWarning: Passing (type, 1) or '1type' as a synonym of type is deprecated; in a future version of numpy, it will be understood as (type, (1,)) / '(1,)type'.\n",
      "  _np_qint16 = np.dtype([(\"qint16\", np.int16, 1)])\n",
      "C:\\Users\\u0138175\\Anaconda3\\envs\\aix360\\lib\\site-packages\\tensorboard\\compat\\tensorflow_stub\\dtypes.py:544: FutureWarning: Passing (type, 1) or '1type' as a synonym of type is deprecated; in a future version of numpy, it will be understood as (type, (1,)) / '(1,)type'.\n",
      "  _np_quint16 = np.dtype([(\"quint16\", np.uint16, 1)])\n",
      "C:\\Users\\u0138175\\Anaconda3\\envs\\aix360\\lib\\site-packages\\tensorboard\\compat\\tensorflow_stub\\dtypes.py:545: FutureWarning: Passing (type, 1) or '1type' as a synonym of type is deprecated; in a future version of numpy, it will be understood as (type, (1,)) / '(1,)type'.\n",
      "  _np_qint32 = np.dtype([(\"qint32\", np.int32, 1)])\n",
      "C:\\Users\\u0138175\\Anaconda3\\envs\\aix360\\lib\\site-packages\\tensorboard\\compat\\tensorflow_stub\\dtypes.py:550: FutureWarning: Passing (type, 1) or '1type' as a synonym of type is deprecated; in a future version of numpy, it will be understood as (type, (1,)) / '(1,)type'.\n",
      "  np_resource = np.dtype([(\"resource\", np.ubyte, 1)])\n"
     ]
    }
   ],
   "source": [
    "#tree packages\n",
    "import graphviz\n",
    "from sklearn import tree\n",
    "from sklearn.preprocessing import OrdinalEncoder\n",
    "\n",
    "#LSTM\n",
    "import numpy as np\n",
    "import pandas as pd\n",
    "from pandas import Series\n",
    "import tensorflow as tf\n",
    "import matplotlib.pyplot as plt\n",
    "import seaborn as sns\n",
    "import logging\n",
    "plt.style.use('fivethirtyeight')\n",
    "\n",
    "from tensorflow.keras.preprocessing.sequence import pad_sequences\n",
    "from tensorflow.keras.models import Sequential\n",
    "from tensorflow.keras.models import model_from_json\n",
    "\n",
    "from collections import OrderedDict\n",
    "from collections import defaultdict\n",
    "\n",
    "import tensorflow.keras\n",
    "from tensorflow.keras.layers import Dense, Conv2D, Flatten, Dropout, Input, Reshape, Activation, Multiply, concatenate, Add,Embedding, LSTM, LayerNormalization\n",
    "from tensorflow.keras.layers import Bidirectional, BatchNormalization, TimeDistributed\n",
    "from tensorflow.keras.models import Model\n",
    "from tensorflow.keras.optimizers import Nadam\n",
    "from tensorflow.keras.callbacks import EarlyStopping, ModelCheckpoint, ReduceLROnPlateau\n",
    "import tensorflow.keras.utils as ku\n"
   ]
  },
  {
   "cell_type": "markdown",
   "metadata": {
    "id": "uxzIiPCxsxaj"
   },
   "source": [
    "Terminology"
   ]
  },
  {
   "cell_type": "code",
   "execution_count": 5,
   "metadata": {
    "id": "tGpBNe_xm62A"
   },
   "outputs": [],
   "source": [
    "params_dir = './params_dir'\n",
    "results_dir = './results' \n",
    "cls_encoding = 'agg'\n",
    "\n",
    "gap = 1\n",
    "n_iter = 1\n",
    "\n",
    "bucket_encoding = \"agg\"\n",
    "\n",
    "dataset_ref_to_datasets = {\n",
    "    \"bpic2011\": [\"bpic2011_f%s\"%formula for formula in range(1,5)],\n",
    "    \"bpic2015\": [\"bpic2015_%s_f2\"%(municipality) for municipality in range(1,6)],\n",
    "    \"insurance\": [\"insurance_activity\", \"insurance_followup\"],\n",
    "    \"sepsis_cases\": [\"sepsis_cases_1\", \"sepsis_cases_2\", \"sepsis_cases_4\"]\n",
    "}\n",
    "\n",
    "encoding_dict = {\n",
    "    \"laststate\": [\"static\", \"last\"],\n",
    "    \"agg\": [\"static\", \"agg\"],\n",
    "    \"index\": [\"static\", \"index\"],\n",
    "    \"combined\": [\"static\", \"last\", \"agg\"],\n",
    "    \"onehot\": [\"static\", \"onehot\"]\n",
    "}"
   ]
  },
  {
   "cell_type": "code",
   "execution_count": 6,
   "metadata": {
    "id": "LIh5L8EQm62B"
   },
   "outputs": [],
   "source": [
    "#terminology"
   ]
  },
  {
   "cell_type": "code",
   "execution_count": 7,
   "metadata": {
    "id": "i8y0UarLm62B"
   },
   "outputs": [],
   "source": [
    "dataset_ref = 'bpic2017_accepted'"
   ]
  },
  {
   "cell_type": "code",
   "execution_count": 8,
   "metadata": {
    "id": "qqNZ9a0Qm62B"
   },
   "outputs": [],
   "source": [
    "datasets = [dataset_ref] if dataset_ref not in dataset_ref_to_datasets else dataset_ref_to_datasets[dataset_ref]\n",
    "methods = encoding_dict[cls_encoding]\n",
    "    \n",
    "train_ratio = 0.8\n",
    "random_state = 22"
   ]
  },
  {
   "cell_type": "code",
   "execution_count": null,
   "metadata": {
    "id": "6W218XZjm62C"
   },
   "outputs": [],
   "source": []
  },
  {
   "cell_type": "code",
   "execution_count": 9,
   "metadata": {
    "id": "MtmVGYqzm62C"
   },
   "outputs": [],
   "source": [
    "# print dataset name"
   ]
  },
  {
   "cell_type": "code",
   "execution_count": 10,
   "metadata": {
    "colab": {
     "base_uri": "https://localhost:8080/"
    },
    "id": "LFg7YhYxm62C",
    "outputId": "e9023251-53f0-4038-ead6-1e65bb96b7b7"
   },
   "outputs": [
    {
     "name": "stdout",
     "output_type": "stream",
     "text": [
      "Dataset: bpic2017_accepted\n"
     ]
    }
   ],
   "source": [
    "for dataset_name in datasets:\n",
    "    print('Dataset:', dataset_name)"
   ]
  },
  {
   "cell_type": "code",
   "execution_count": null,
   "metadata": {
    "id": "ls-Lee7pm62D"
   },
   "outputs": [],
   "source": []
  },
  {
   "cell_type": "code",
   "execution_count": 11,
   "metadata": {
    "id": "q4iSr4inm62D"
   },
   "outputs": [],
   "source": [
    "# read the data"
   ]
  },
  {
   "cell_type": "code",
   "execution_count": 12,
   "metadata": {
    "id": "KHiDYGSLuwm-"
   },
   "outputs": [],
   "source": [
    "dataset_manager = DatasetManager(dataset_name)"
   ]
  },
  {
   "cell_type": "code",
   "execution_count": 13,
   "metadata": {
    "colab": {
     "base_uri": "https://localhost:8080/",
     "height": 231
    },
    "id": "vvYE2Ig2m62D",
    "outputId": "5f7919c1-9dd4-44e1-c3c7-d695cd6e08c4"
   },
   "outputs": [],
   "source": [
    "data = dataset_manager.read_dataset()\n",
    "cls_encoder_args = {'case_id_col': dataset_manager.case_id_col, \n",
    "                        'static_cat_cols': dataset_manager.static_cat_cols,\n",
    "                        'static_num_cols': dataset_manager.static_num_cols, \n",
    "                        'dynamic_cat_cols': dataset_manager.dynamic_cat_cols,\n",
    "                        'dynamic_num_cols': dataset_manager.dynamic_num_cols, \n",
    "                        'fillna': True}"
   ]
  },
  {
   "cell_type": "code",
   "execution_count": null,
   "metadata": {
    "id": "D2oAVuW-bT40"
   },
   "outputs": [],
   "source": []
  },
  {
   "cell_type": "code",
   "execution_count": 14,
   "metadata": {
    "id": "LpE1uKqxbT40"
   },
   "outputs": [],
   "source": [
    "#terminology"
   ]
  },
  {
   "cell_type": "code",
   "execution_count": 15,
   "metadata": {
    "id": "p2ay4PnXbT40"
   },
   "outputs": [],
   "source": [
    "params_dir = './params_dir'\n",
    "results_dir = './results' \n",
    "DT_dir = './DT_dir'\n",
    "cls_encoding = 'agg'\n",
    "\n",
    "gap = 1\n",
    "n_iter = 1\n",
    "\n",
    "dataset_ref_to_datasets = {\n",
    "    \"bpic2011\": [\"bpic2011_f%s\"%formula for formula in range(1,5)],\n",
    "    \"bpic2015\": [\"bpic2015_%s_f2\"%(municipality) for municipality in range(1,6)],\n",
    "    \"insurance\": [\"insurance_activity\", \"insurance_followup\"],\n",
    "    \"sepsis_cases\": [\"sepsis_cases_1\", \"sepsis_cases_2\", \"sepsis_cases_4\"]\n",
    "}\n",
    "\n",
    "encoding_dict = {\n",
    "    \"laststate\": [\"static\", \"last\"],\n",
    "    \"agg\": [\"static\", \"agg\"],\n",
    "    \"index\": [\"static\", \"index\"],\n",
    "    \"combined\": [\"static\", \"last\", \"agg\"],\n",
    "    \"onehot\": [\"static\", \"onehot\"]\n",
    "}\n",
    "\n",
    "train_ratio = 0.8\n",
    "random_state = 22"
   ]
  },
  {
   "cell_type": "code",
   "execution_count": null,
   "metadata": {
    "id": "CHSFGVSVbT41"
   },
   "outputs": [],
   "source": []
  },
  {
   "cell_type": "code",
   "execution_count": 16,
   "metadata": {
    "id": "OL-Uy69UbT44"
   },
   "outputs": [],
   "source": [
    "# determine min and max (truncated) prefix lengths"
   ]
  },
  {
   "cell_type": "code",
   "execution_count": 17,
   "metadata": {
    "id": "Ebg7rz1dbT44"
   },
   "outputs": [],
   "source": [
    "min_prefix_length = 1\n",
    "if \"traffic_fines\" in dataset_name:\n",
    "    max_prefix_length = 10\n",
    "elif \"bpic2017\" in dataset_name:\n",
    "    max_prefix_length = min(20, dataset_manager.get_pos_case_length_quantile(data, 0.90))\n",
    "else:\n",
    "    max_prefix_length = min(40, dataset_manager.get_pos_case_length_quantile(data, 0.90))"
   ]
  },
  {
   "cell_type": "code",
   "execution_count": null,
   "metadata": {
    "id": "DFpiBH4IbT45"
   },
   "outputs": [],
   "source": []
  },
  {
   "cell_type": "markdown",
   "metadata": {
    "id": "F1ule9jQbT4-"
   },
   "source": [
    "#### data preprocessing"
   ]
  },
  {
   "cell_type": "code",
   "execution_count": 18,
   "metadata": {
    "id": "CoaTLjvGbT4_"
   },
   "outputs": [],
   "source": [
    "# split into training and test\n",
    "train, test = dataset_manager.split_data_strict(data, train_ratio, split=\"temporal\")"
   ]
  },
  {
   "cell_type": "code",
   "execution_count": null,
   "metadata": {
    "id": "t_XIVPrBbT4_"
   },
   "outputs": [],
   "source": []
  },
  {
   "cell_type": "code",
   "execution_count": 19,
   "metadata": {
    "id": "t5MSiJ4ubT4_"
   },
   "outputs": [],
   "source": [
    "#prefix generation of train and test data"
   ]
  },
  {
   "cell_type": "code",
   "execution_count": 20,
   "metadata": {
    "colab": {
     "base_uri": "https://localhost:8080/"
    },
    "id": "um56lzYwbT4_",
    "outputId": "42bb86ed-2c3c-46ff-aef6-9e34ff1bfaa5"
   },
   "outputs": [
    {
     "name": "stdout",
     "output_type": "stream",
     "text": [
      "prefixing started\n"
     ]
    }
   ],
   "source": [
    "print('prefixing started')\n",
    "dt_train_prefixes = dataset_manager.generate_prefix_data(train, min_prefix_length, max_prefix_length)\n",
    "dt_test_prefixes = dataset_manager.generate_prefix_data(test, min_prefix_length, max_prefix_length)"
   ]
  },
  {
   "cell_type": "code",
   "execution_count": 21,
   "metadata": {
    "id": "_XA08ShvbT5A"
   },
   "outputs": [],
   "source": [
    "dt_train_prefixes_original = dt_train_prefixes.copy()\n",
    "dt_test_prefixes_original = dt_test_prefixes.copy()"
   ]
  },
  {
   "cell_type": "code",
   "execution_count": 22,
   "metadata": {},
   "outputs": [
    {
     "data": {
      "text/plain": [
       "1303489"
      ]
     },
     "execution_count": 22,
     "metadata": {},
     "output_type": "execute_result"
    }
   ],
   "source": [
    "dt_test_prefixes.shape[0]"
   ]
  },
  {
   "cell_type": "code",
   "execution_count": 23,
   "metadata": {},
   "outputs": [
    {
     "data": {
      "text/plain": [
       "29"
      ]
     },
     "execution_count": 23,
     "metadata": {},
     "output_type": "execute_result"
    }
   ],
   "source": [
    "dt_test_prefixes.shape[1]"
   ]
  },
  {
   "cell_type": "code",
   "execution_count": 24,
   "metadata": {},
   "outputs": [
    {
     "data": {
      "text/html": [
       "<div>\n",
       "<style scoped>\n",
       "    .dataframe tbody tr th:only-of-type {\n",
       "        vertical-align: middle;\n",
       "    }\n",
       "\n",
       "    .dataframe tbody tr th {\n",
       "        vertical-align: top;\n",
       "    }\n",
       "\n",
       "    .dataframe thead th {\n",
       "        text-align: right;\n",
       "    }\n",
       "</style>\n",
       "<table border=\"1\" class=\"dataframe\">\n",
       "  <thead>\n",
       "    <tr style=\"text-align: right;\">\n",
       "      <th></th>\n",
       "      <th>ApplicationType</th>\n",
       "      <th>LoanGoal</th>\n",
       "      <th>RequestedAmount</th>\n",
       "      <th>Case ID</th>\n",
       "      <th>label</th>\n",
       "      <th>Activity</th>\n",
       "      <th>org:resource</th>\n",
       "      <th>Action</th>\n",
       "      <th>EventOrigin</th>\n",
       "      <th>lifecycle:transition</th>\n",
       "      <th>...</th>\n",
       "      <th>timesincemidnight</th>\n",
       "      <th>event_nr</th>\n",
       "      <th>month</th>\n",
       "      <th>weekday</th>\n",
       "      <th>hour</th>\n",
       "      <th>open_cases</th>\n",
       "      <th>time:timestamp</th>\n",
       "      <th>case_length</th>\n",
       "      <th>prefix_nr</th>\n",
       "      <th>orig_case_id</th>\n",
       "    </tr>\n",
       "  </thead>\n",
       "  <tbody>\n",
       "    <tr>\n",
       "      <th>958575</th>\n",
       "      <td>New credit</td>\n",
       "      <td>Unknown</td>\n",
       "      <td>0.0</td>\n",
       "      <td>Application_1985757094</td>\n",
       "      <td>regular</td>\n",
       "      <td>A_Create Application</td>\n",
       "      <td>User_41</td>\n",
       "      <td>Created</td>\n",
       "      <td>Application</td>\n",
       "      <td>complete</td>\n",
       "      <td>...</td>\n",
       "      <td>713.0</td>\n",
       "      <td>1.0</td>\n",
       "      <td>10.0</td>\n",
       "      <td>1.0</td>\n",
       "      <td>11.0</td>\n",
       "      <td>2270.0</td>\n",
       "      <td>2016-10-18 11:53:00.635</td>\n",
       "      <td>18</td>\n",
       "      <td>1</td>\n",
       "      <td>Application_1985757094</td>\n",
       "    </tr>\n",
       "    <tr>\n",
       "      <th>958593</th>\n",
       "      <td>New credit</td>\n",
       "      <td>Car</td>\n",
       "      <td>9500.0</td>\n",
       "      <td>Application_396092392</td>\n",
       "      <td>regular</td>\n",
       "      <td>A_Create Application</td>\n",
       "      <td>User_1</td>\n",
       "      <td>Created</td>\n",
       "      <td>Application</td>\n",
       "      <td>complete</td>\n",
       "      <td>...</td>\n",
       "      <td>719.0</td>\n",
       "      <td>1.0</td>\n",
       "      <td>10.0</td>\n",
       "      <td>1.0</td>\n",
       "      <td>11.0</td>\n",
       "      <td>2270.0</td>\n",
       "      <td>2016-10-18 11:59:27.616</td>\n",
       "      <td>20</td>\n",
       "      <td>1</td>\n",
       "      <td>Application_396092392</td>\n",
       "    </tr>\n",
       "    <tr>\n",
       "      <th>958619</th>\n",
       "      <td>New credit</td>\n",
       "      <td>Car</td>\n",
       "      <td>5000.0</td>\n",
       "      <td>Application_585529210</td>\n",
       "      <td>deviant</td>\n",
       "      <td>A_Create Application</td>\n",
       "      <td>User_1</td>\n",
       "      <td>Created</td>\n",
       "      <td>Application</td>\n",
       "      <td>complete</td>\n",
       "      <td>...</td>\n",
       "      <td>720.0</td>\n",
       "      <td>1.0</td>\n",
       "      <td>10.0</td>\n",
       "      <td>1.0</td>\n",
       "      <td>12.0</td>\n",
       "      <td>2271.0</td>\n",
       "      <td>2016-10-18 12:00:33.792</td>\n",
       "      <td>20</td>\n",
       "      <td>1</td>\n",
       "      <td>Application_585529210</td>\n",
       "    </tr>\n",
       "    <tr>\n",
       "      <th>958663</th>\n",
       "      <td>New credit</td>\n",
       "      <td>Car</td>\n",
       "      <td>25000.0</td>\n",
       "      <td>Application_1751900898</td>\n",
       "      <td>regular</td>\n",
       "      <td>A_Create Application</td>\n",
       "      <td>User_48</td>\n",
       "      <td>Created</td>\n",
       "      <td>Application</td>\n",
       "      <td>complete</td>\n",
       "      <td>...</td>\n",
       "      <td>722.0</td>\n",
       "      <td>1.0</td>\n",
       "      <td>10.0</td>\n",
       "      <td>1.0</td>\n",
       "      <td>12.0</td>\n",
       "      <td>2272.0</td>\n",
       "      <td>2016-10-18 12:02:09.032</td>\n",
       "      <td>20</td>\n",
       "      <td>1</td>\n",
       "      <td>Application_1751900898</td>\n",
       "    </tr>\n",
       "    <tr>\n",
       "      <th>958699</th>\n",
       "      <td>Limit raise</td>\n",
       "      <td>Car</td>\n",
       "      <td>15000.0</td>\n",
       "      <td>Application_867435788</td>\n",
       "      <td>deviant</td>\n",
       "      <td>A_Create Application</td>\n",
       "      <td>User_16</td>\n",
       "      <td>Created</td>\n",
       "      <td>Application</td>\n",
       "      <td>complete</td>\n",
       "      <td>...</td>\n",
       "      <td>725.0</td>\n",
       "      <td>1.0</td>\n",
       "      <td>10.0</td>\n",
       "      <td>1.0</td>\n",
       "      <td>12.0</td>\n",
       "      <td>2272.0</td>\n",
       "      <td>2016-10-18 12:05:35.074</td>\n",
       "      <td>20</td>\n",
       "      <td>1</td>\n",
       "      <td>Application_867435788</td>\n",
       "    </tr>\n",
       "  </tbody>\n",
       "</table>\n",
       "<p>5 rows × 29 columns</p>\n",
       "</div>"
      ],
      "text/plain": [
       "       ApplicationType LoanGoal  RequestedAmount                 Case ID  \\\n",
       "958575      New credit  Unknown              0.0  Application_1985757094   \n",
       "958593      New credit      Car           9500.0   Application_396092392   \n",
       "958619      New credit      Car           5000.0   Application_585529210   \n",
       "958663      New credit      Car          25000.0  Application_1751900898   \n",
       "958699     Limit raise      Car          15000.0   Application_867435788   \n",
       "\n",
       "          label              Activity org:resource   Action  EventOrigin  \\\n",
       "958575  regular  A_Create Application      User_41  Created  Application   \n",
       "958593  regular  A_Create Application       User_1  Created  Application   \n",
       "958619  deviant  A_Create Application       User_1  Created  Application   \n",
       "958663  regular  A_Create Application      User_48  Created  Application   \n",
       "958699  deviant  A_Create Application      User_16  Created  Application   \n",
       "\n",
       "       lifecycle:transition  ... timesincemidnight event_nr  month  weekday  \\\n",
       "958575             complete  ...             713.0      1.0   10.0      1.0   \n",
       "958593             complete  ...             719.0      1.0   10.0      1.0   \n",
       "958619             complete  ...             720.0      1.0   10.0      1.0   \n",
       "958663             complete  ...             722.0      1.0   10.0      1.0   \n",
       "958699             complete  ...             725.0      1.0   10.0      1.0   \n",
       "\n",
       "        hour  open_cases          time:timestamp  case_length  prefix_nr  \\\n",
       "958575  11.0      2270.0 2016-10-18 11:53:00.635           18          1   \n",
       "958593  11.0      2270.0 2016-10-18 11:59:27.616           20          1   \n",
       "958619  12.0      2271.0 2016-10-18 12:00:33.792           20          1   \n",
       "958663  12.0      2272.0 2016-10-18 12:02:09.032           20          1   \n",
       "958699  12.0      2272.0 2016-10-18 12:05:35.074           20          1   \n",
       "\n",
       "                  orig_case_id  \n",
       "958575  Application_1985757094  \n",
       "958593   Application_396092392  \n",
       "958619   Application_585529210  \n",
       "958663  Application_1751900898  \n",
       "958699   Application_867435788  \n",
       "\n",
       "[5 rows x 29 columns]"
      ]
     },
     "execution_count": 24,
     "metadata": {},
     "output_type": "execute_result"
    }
   ],
   "source": [
    "dt_test_prefixes.head()"
   ]
  },
  {
   "cell_type": "code",
   "execution_count": 25,
   "metadata": {
    "id": "ffvhh9dybT5A"
   },
   "outputs": [],
   "source": [
    "#get the label of the train and test set\n",
    "test_y = dataset_manager.get_label_numeric(dt_test_prefixes)\n",
    "train_y = dataset_manager.get_label_numeric(dt_train_prefixes)   "
   ]
  },
  {
   "cell_type": "code",
   "execution_count": 26,
   "metadata": {
    "id": "7455vq80bT5A"
   },
   "outputs": [],
   "source": [
    "auc_totals = []\n",
    "preds_all = []\n",
    "test_y_all = []\n",
    "nr_events_all = []\n",
    "offline_total_times = []\n",
    "online_event_times = []"
   ]
  },
  {
   "cell_type": "code",
   "execution_count": 27,
   "metadata": {
    "id": "_099Nah8bT5B"
   },
   "outputs": [],
   "source": [
    "nr_events_all.extend(list(dataset_manager.get_prefix_lengths(dt_test_prefixes)))  \n",
    "test_y_all.extend(test_y)"
   ]
  },
  {
   "cell_type": "markdown",
   "metadata": {
    "id": "VJzBGCe7bT5s"
   },
   "source": [
    "### LSTM"
   ]
  },
  {
   "cell_type": "code",
   "execution_count": 28,
   "metadata": {
    "id": "40mw3Q1Aq0eO"
   },
   "outputs": [],
   "source": [
    "#functions\n",
    "def prepare_inputs(X_train, X_test, data):    \n",
    "    oe = OrdinalEncoder()\n",
    "    oe.fit(data)\n",
    "    X_train_enc = oe.transform(X_train)\n",
    "    X_test_enc = oe.transform(X_test)\n",
    "    return X_train_enc, X_test_enc\n",
    "\n",
    "def numeric_padding(sequences, maxlen=None, value=0):\n",
    "    num_samples = len(sequences)\n",
    "    sample_shape = np.asarray(sequences[0]).shape[1:]\n",
    "    x = np.full((num_samples, maxlen) + sample_shape, value)\n",
    "    for idx, s in enumerate(sequences):\n",
    "        trunc = s[:maxlen]\n",
    "        x[idx, :maxlen] = trunc[0]\n",
    "        \n",
    "def normalist(lst):\n",
    "    s = sum(lst)\n",
    "    norm = [float(i)/s for i in lst]\n",
    "    return norm\n",
    "\n",
    "    return x\n",
    "\n",
    "def create_index(log_df, column):\n",
    "    \"\"\"Creates an idx for a categorical attribute.\n",
    "    Args:\n",
    "        log_df: dataframe.\n",
    "        column: column name.\n",
    "    Returns:\n",
    "        index of a categorical attribute pairs.\n",
    "    \"\"\"\n",
    "    temp_list = log_df[[column]].values.tolist()\n",
    "    subsec_set = {(x[0]) for x in temp_list}\n",
    "    subsec_set = sorted(list(subsec_set))\n",
    "    alias = dict()\n",
    "    for i, _ in enumerate(subsec_set):\n",
    "        alias[subsec_set[i]] = i + 1\n",
    "    return alias\n",
    "\n",
    "#TRANSFORMATION\n",
    "\n",
    "#categorical columns integercoded\n",
    "\n",
    "dt_train_prefixes.dtypes\n",
    "\n",
    "cat_columns = ['Activity', \"Selected\",\"ApplicationType\",'Accepted','lifecycle:transition']\n",
    "\n",
    "dt_train_prefixes[cat_columns],dt_test_prefixes[cat_columns]= prepare_inputs(dt_train_prefixes[cat_columns], dt_test_prefixes[cat_columns], data[cat_columns])\n",
    "\n",
    "dt_train_prefixes[cat_columns] = dt_train_prefixes[cat_columns]+1\n",
    "\n",
    "dt_test_prefixes[cat_columns] = dt_test_prefixes[cat_columns]+1"
   ]
  },
  {
   "cell_type": "code",
   "execution_count": 29,
   "metadata": {},
   "outputs": [],
   "source": [
    "cat_columns.append('Case ID')\n",
    "cat_columns.append('label')\n",
    "\n",
    "cat_columns\n",
    "\n",
    "ans_train = [pd.DataFrame(y) for x, y in dt_train_prefixes[cat_columns].groupby('Case ID', as_index=False)]\n",
    "ans_test = [pd.DataFrame(y) for x, y in dt_test_prefixes[cat_columns].groupby('Case ID', as_index=False)]\n",
    "\n",
    "train_labels = []\n",
    "for i in range (0,len(ans_train)):\n",
    "    temp_label = ans_train[i]['label'].iloc[0]\n",
    "    train_labels.append(temp_label)\n",
    "\n",
    "test_labels = []\n",
    "for i in range (0,len(ans_test)):\n",
    "    temp_label = ans_test[i]['label'].iloc[0]\n",
    "    test_labels.append(temp_label)\n",
    "\n",
    "train_y = [1 if i!='regular' else 0 for i in train_labels]\n",
    "test_y = [1 if i!='regular' else 0 for i in test_labels]\n",
    "\n",
    "cat_columns.remove('label')\n",
    "cat_columns.remove('Case ID')\n",
    "\n",
    "cat_columns\n",
    "\n",
    "maxlen = cutoff =  max_prefix_length"
   ]
  },
  {
   "cell_type": "code",
   "execution_count": 30,
   "metadata": {},
   "outputs": [
    {
     "data": {
      "text/plain": [
       "20"
      ]
     },
     "execution_count": 30,
     "metadata": {},
     "output_type": "execute_result"
    }
   ],
   "source": [
    "maxlen"
   ]
  },
  {
   "cell_type": "code",
   "execution_count": 31,
   "metadata": {},
   "outputs": [],
   "source": [
    "#cutoff: max amount of events in a prefix\n",
    "no_activities= len(data.groupby(['Activity']))+1\n",
    "no_loangoal = len(data.groupby(['LoanGoal']))+1\n",
    "no_selected = len(data.groupby(['Selected']))+1\n",
    "no_applicationtype = len(data.groupby(['ApplicationType']))+1\n",
    "no_timesincelastevent= len(data.groupby(['timesincelastevent']))+1\n",
    "no_accepted = len(data.groupby(['Accepted']))+1\n",
    "no_lifecycle = len(data.groupby(['lifecycle:transition']))+1\n",
    "embed_dim = 64"
   ]
  },
  {
   "cell_type": "code",
   "execution_count": 32,
   "metadata": {},
   "outputs": [],
   "source": [
    "#padding of the different categorical columns\n",
    "#train paddings\n",
    "paddings_train = []\n",
    "for i in cat_columns:\n",
    "    padding= []\n",
    "    for k in range(0,len(ans_train)):\n",
    "        temp = []\n",
    "        temp = list(ans_train[k][i])\n",
    "        padding.append(temp)\n",
    "    \n",
    "    padded = np.array(pad_sequences(padding,maxlen=maxlen, padding='pre', truncating='pre',value=0))\n",
    "    padded = padded/len(data.groupby([i]))\n",
    "    paddings_train.append(padded)\n",
    "\n",
    "#test paddings\n",
    "paddings_test = []\n",
    "for i in cat_columns:\n",
    "    padding= []\n",
    "    for k in range(0,len(ans_test)):\n",
    "        temp = []\n",
    "        temp = list(ans_test[k][i])\n",
    "        padding.append(temp)\n",
    "    \n",
    "    padded = np.array(pad_sequences(padding,maxlen=maxlen, padding='pre', truncating='pre',value=0))\n",
    "    padded = padded/len(data.groupby([i]))\n",
    "    paddings_test.append(padded)"
   ]
  },
  {
   "cell_type": "code",
   "execution_count": null,
   "metadata": {},
   "outputs": [],
   "source": []
  },
  {
   "cell_type": "code",
   "execution_count": 33,
   "metadata": {},
   "outputs": [],
   "source": [
    "##### numerical columns\n",
    "#NUMERICAL COLUMNS\n",
    "numerical_columns = ['CreditScore',\n",
    "'Case ID','timesincelastevent']\n",
    "\n",
    "dt_train_prefixes2 = dt_train_prefixes[numerical_columns]\n",
    "dt_test_prefixes2 = dt_test_prefixes[numerical_columns]\n",
    "\n",
    "ans_train2 = [pd.DataFrame(y) for x,y in dt_train_prefixes2.groupby('Case ID', as_index=False)]\n",
    "ans_test2 = [pd.DataFrame(y) for x,y in dt_test_prefixes2.groupby('Case ID', as_index=False)]"
   ]
  },
  {
   "cell_type": "code",
   "execution_count": 34,
   "metadata": {},
   "outputs": [],
   "source": [
    "pad_train = []\n",
    "pad_test  = []\n",
    "num_columns = ['CreditScore','timesincelastevent']\n",
    "\n",
    "for i in num_columns:\n",
    "    padding = []\n",
    "    for k in range(0,len(ans_train2)):\n",
    "        temp_train = []\n",
    "        temp_train = list(ans_train2[k][i])\n",
    "        padding.append(temp_train)\n",
    "        \n",
    "    padded = np.array(pad_sequences(padding,maxlen=maxlen, padding='pre', truncating='pre',value=0))\n",
    "    padded = padded/data[i].max()\n",
    "    pad_train.append(padded)\n",
    "for i in num_columns:\n",
    "    padding = []\n",
    "    for k in range(0,len(ans_test2)):\n",
    "        temp_test = []\n",
    "        temp_test = list(ans_test2[k][i])\n",
    "        padding.append(temp_test)\n",
    "        \n",
    "    padded = np.array(pad_sequences(padding,maxlen=maxlen, padding='pre', truncating='pre',value=0))\n",
    "    padded = padded/data[i].max()\n",
    "    pad_test.append(padded)"
   ]
  },
  {
   "cell_type": "code",
   "execution_count": null,
   "metadata": {},
   "outputs": [],
   "source": []
  },
  {
   "cell_type": "markdown",
   "metadata": {
    "id": "8OjrU_tubT65"
   },
   "source": [
    "#### tweede poging 2017"
   ]
  },
  {
   "cell_type": "code",
   "execution_count": 35,
   "metadata": {
    "id": "guya9W9RrQEi"
   },
   "outputs": [],
   "source": [
    "import os\n",
    "import argparse\n",
    "import numpy as np\n",
    "import pandas as pd\n",
    "import tensorflow as tf\n",
    "\n",
    "from tensorflow.keras.models import Model\n",
    "from tensorflow.keras.preprocessing import sequence\n",
    "from tensorflow.keras.utils import Sequence\n",
    "from tensorflow.keras.regularizers import l2\n",
    "from tensorflow.keras.constraints import non_neg, Constraint\n",
    "from sklearn.metrics import roc_auc_score, average_precision_score, precision_recall_curve\n",
    "\n",
    "\n",
    "from tensorflow.keras.layers import Input, Concatenate, Flatten\n",
    "from tensorflow.keras.layers import Dense\n",
    "from tensorflow.keras.layers import LSTM\n",
    "from tensorflow.keras.optimizers import Nadam, Adam, SGD, Adagrad\n",
    "from tensorflow.keras.callbacks import EarlyStopping, ModelCheckpoint, ReduceLROnPlateau\n",
    "from tensorflow.keras.layers import BatchNormalization\n",
    "from tensorflow.keras.layers import Bidirectional,TimeDistributed\n",
    "\n",
    ", Multiply, Dropout\n",
    "\n",
    "from tensorflow.keras.layers import GlobalAveragePooling1D"
   ]
  },
  {
   "cell_type": "code",
   "execution_count": 36,
   "metadata": {},
   "outputs": [],
   "source": [
    "from tensorflow.keras.regularizers import l2\n",
    "from tensorflow.keras.layers import Softmax, Lambda\n",
    "from tensorflow.keras import backend"
   ]
  },
  {
   "cell_type": "code",
   "execution_count": 37,
   "metadata": {
    "id": "VG__EYy9rQ9C"
   },
   "outputs": [],
   "source": [
    "ac_index = create_index(dt_train_prefixes_original, 'Activity')\n",
    "ac_index['Start'] = 0\n",
    "ac_index['End'] = len(ac_index)\n",
    "index_ac = {v: k for k, v in ac_index.items()}\n",
    "\n",
    "s_index = create_index(dt_train_prefixes_original, 'Selected')\n",
    "s_index['Start'] = 0\n",
    "s_index['End'] = len(s_index)\n",
    "index_s = {v: k for k, v in s_index.items()}\n",
    "\n",
    "at_index = create_index(dt_train_prefixes_original, 'ApplicationType')\n",
    "at_index['Start'] = 0\n",
    "at_index['End'] = len(at_index)\n",
    "index_at = {v: k for k, v in at_index.items()}\n",
    "\n",
    "acc_index = create_index(dt_train_prefixes_original, 'Accepted')\n",
    "acc_index['Start'] = 0\n",
    "acc_index['End'] = len(acc_index)\n",
    "index_acc = {v: k for k, v in acc_index.items()}\n",
    "\n",
    "li_index = create_index(dt_train_prefixes_original, 'lifecycle:transition')\n",
    "li_index['Start']  = 0\n",
    "li_index['end'] = len(li_index)\n",
    "index_li = {v: k for k, v in li_index.items()}\n",
    "\n",
    "ac_weights = ku.to_categorical(sorted(index_ac.keys()), len(ac_index))\n",
    "s_weights = ku.to_categorical(sorted(index_s.keys()), len(s_index))\n",
    "at_weights = ku.to_categorical(sorted(index_at.keys()), len(at_index))\n",
    "acc_weights = ku.to_categorical(sorted(index_acc.keys()), len(acc_index))\n",
    "li_weights = ku.to_categorical(sorted(index_li.keys()), len(li_index))"
   ]
  },
  {
   "cell_type": "code",
   "execution_count": 38,
   "metadata": {
    "id": "C4S2LPBqrQ_i"
   },
   "outputs": [
    {
     "name": "stdout",
     "output_type": "stream",
     "text": [
      "Training prefix and variable attention model\n",
      "WARNING:tensorflow:From C:\\Users\\u0138175\\Anaconda3\\envs\\aix360\\lib\\site-packages\\tensorflow\\python\\keras\\initializers.py:119: calling RandomUniform.__init__ (from tensorflow.python.ops.init_ops) with dtype is deprecated and will be removed in a future version.\n",
      "Instructions for updating:\n",
      "Call initializer instance with the dtype argument instead of passing it to the constructor\n",
      "WARNING:tensorflow:From C:\\Users\\u0138175\\Anaconda3\\envs\\aix360\\lib\\site-packages\\tensorflow\\python\\ops\\init_ops.py:1251: calling VarianceScaling.__init__ (from tensorflow.python.ops.init_ops) with dtype is deprecated and will be removed in a future version.\n",
      "Instructions for updating:\n",
      "Call initializer instance with the dtype argument instead of passing it to the constructor\n",
      "WARNING:tensorflow:From C:\\Users\\u0138175\\Anaconda3\\envs\\aix360\\lib\\site-packages\\tensorflow\\python\\ops\\init_ops.py:97: calling GlorotUniform.__init__ (from tensorflow.python.ops.init_ops) with dtype is deprecated and will be removed in a future version.\n",
      "Instructions for updating:\n",
      "Call initializer instance with the dtype argument instead of passing it to the constructor\n",
      "WARNING:tensorflow:From C:\\Users\\u0138175\\Anaconda3\\envs\\aix360\\lib\\site-packages\\tensorflow\\python\\ops\\init_ops.py:97: calling Orthogonal.__init__ (from tensorflow.python.ops.init_ops) with dtype is deprecated and will be removed in a future version.\n",
      "Instructions for updating:\n",
      "Call initializer instance with the dtype argument instead of passing it to the constructor\n",
      "WARNING:tensorflow:From C:\\Users\\u0138175\\Anaconda3\\envs\\aix360\\lib\\site-packages\\tensorflow\\python\\ops\\init_ops.py:97: calling Zeros.__init__ (from tensorflow.python.ops.init_ops) with dtype is deprecated and will be removed in a future version.\n",
      "Instructions for updating:\n",
      "Call initializer instance with the dtype argument instead of passing it to the constructor\n"
     ]
    }
   ],
   "source": [
    "dropout_input = 0.01\n",
    "dropout_context=0.30\n",
    "lstm_size_alpha=32\n",
    "lstm_size_beta=32\n",
    "print(\"Training prefix and variable attention model\")\n",
    "\n",
    "l2reg=0.001\n",
    "allow_negative=False\n",
    "incl_time = True \n",
    "incl_res = True\n",
    "#Code Input\n",
    "#categorical embeddings\n",
    "input_layer_a = Input(shape=(cutoff,), name='activity_input')\n",
    "\n",
    "input_layer_s = Input(shape=(cutoff,), name='selected_input')\n",
    "\n",
    "input_layer_at = Input(shape=(cutoff,), name='applicationtype_input')\n",
    "\n",
    "input_layer_acc = Input(shape=(cutoff,), name='accepted_input')\n",
    "\n",
    "input_layer_li = Input(shape=(cutoff,), name='lifecycle_input')\n",
    "\n",
    "time_input_layer = Input(shape=(cutoff,1), name='time_input')\n",
    "\n",
    "input_layer_numeric = Input(shape=(cutoff,1), name='numeric_input')\n",
    "\n",
    "########################################\n",
    "#inputs_list = [ac_input]\n",
    "   \n",
    "#Calculate embedding for each code and sum them to a visit level\n",
    "embedding_activity = Embedding(ac_weights.shape[0],\n",
    "                            ac_weights.shape[1],\n",
    "                            weights=[ac_weights],\n",
    "                            input_length=no_activities,\n",
    "                           name='ac_embedding')(input_layer_a)\n",
    "dim =ac_weights.shape[1]\n",
    "\n",
    "embedding_selected = Embedding(s_weights.shape[0],\n",
    "                            s_weights.shape[1],\n",
    "                            weights=[s_weights],\n",
    "                            input_length=no_selected,\n",
    "                             name='s_embedding')(input_layer_s)\n",
    "\n",
    "dim += s_weights.shape[1]\n",
    "\n",
    "\n",
    "embedding_applicationtype = Embedding(at_weights.shape[0],\n",
    "                            at_weights.shape[1],\n",
    "                            weights=[at_weights],\n",
    "                            input_length=no_applicationtype,\n",
    "                             name='at_embedding')(input_layer_at)\n",
    "dim += at_weights.shape[1]\n",
    "\n",
    "embedding_accepted = Embedding(acc_weights.shape[0],\n",
    "                            acc_weights.shape[1],\n",
    "                            weights=[acc_weights],\n",
    "                            input_length=no_accepted,\n",
    "                             name='acc_embedding')(input_layer_acc)\n",
    "\n",
    "dim += acc_weights.shape[1]\n",
    "\n",
    "embedding_lifecycle = Embedding(li_weights.shape[0],\n",
    "                            li_weights.shape[1],\n",
    "                            weights=[li_weights],\n",
    "                            input_length=no_lifecycle,\n",
    "                             name='li_embedding')(input_layer_li)\n",
    "\n",
    "dim += li_weights.shape[1]\n",
    "\n",
    "input_layer_numeric = Input(shape=(cutoff,1), name='numeric_input')\n",
    "\n",
    "dim += 1\n",
    "\n",
    "full_embs = concatenate([embedding_activity, embedding_selected, embedding_applicationtype, embedding_accepted, embedding_lifecycle, input_layer_numeric], name='catInp')\n",
    "\n",
    "#Apply dropout on inputs\n",
    "full_embs = Dropout(dropout_input)(full_embs)\n",
    "time_embs = concatenate([full_embs, time_input_layer], name='allInp')\n",
    "\n",
    "dim += 1\n",
    "\n",
    "alpha = Bidirectional(LSTM(lstm_size_alpha, return_sequences=True),\n",
    "                                    name='alpha')\n",
    "beta = Bidirectional(LSTM(lstm_size_beta, return_sequences=True),\n",
    "                                   name='beta')\n",
    "alpha_dense = Dense(1, kernel_regularizer=l2(l2reg))\n",
    "beta_dense = Dense(dim, activation='tanh', kernel_regularizer=l2(l2reg))\n",
    "\n",
    "#Compute alpha, visit attention\n",
    "alpha_out = alpha(time_embs)\n",
    "alpha_out = TimeDistributed(alpha_dense, name='alpha_dense_0')(alpha_out)\n",
    "alpha_out = Softmax(axis=1, name='alpha_softmax')(alpha_out)\n",
    "#Compute beta, codes attention\n",
    "beta_out = beta(time_embs)\n",
    "beta_out = TimeDistributed(beta_dense, name='beta_dense_0')(beta_out)\n",
    "#Compute context vector based on attentions and embeddings\n",
    "c_t = Multiply()([alpha_out, beta_out, time_embs])\n",
    "c_t = Lambda(lambda x: backend.sum(x, axis=1))(c_t)\n",
    "        #Reshape to 3d vector for consistency between Many to Many and Many to One implementations\n",
    "        #contexts = L.Lambda(reshape)(c_t)\n",
    "\n",
    "#Make a prediction\n",
    "contexts = Dropout(dropout_context)(c_t)\n",
    " \n",
    "output_layer = Dense(1, activation='sigmoid', name='final_output')(contexts)"
   ]
  },
  {
   "cell_type": "code",
   "execution_count": 39,
   "metadata": {
    "id": "wF14AingrRFC"
   },
   "outputs": [],
   "source": [
    "model = Model(inputs=[input_layer_a, input_layer_s, input_layer_at, input_layer_acc, input_layer_li, input_layer_numeric, time_input_layer], outputs=output_layer)"
   ]
  },
  {
   "cell_type": "code",
   "execution_count": 40,
   "metadata": {
    "id": "36ANnG1lrRHi"
   },
   "outputs": [
    {
     "name": "stdout",
     "output_type": "stream",
     "text": [
      "WARNING:tensorflow:From C:\\Users\\u0138175\\Anaconda3\\envs\\aix360\\lib\\site-packages\\tensorflow\\python\\ops\\nn_impl.py:180: add_dispatch_support.<locals>.wrapper (from tensorflow.python.ops.array_ops) is deprecated and will be removed in a future version.\n",
      "Instructions for updating:\n",
      "Use tf.where in 2.0, which has the same broadcast rule as np.where\n",
      "Model: \"model\"\n",
      "__________________________________________________________________________________________________\n",
      "Layer (type)                    Output Shape         Param #     Connected to                     \n",
      "==================================================================================================\n",
      "activity_input (InputLayer)     [(None, 20)]         0                                            \n",
      "__________________________________________________________________________________________________\n",
      "selected_input (InputLayer)     [(None, 20)]         0                                            \n",
      "__________________________________________________________________________________________________\n",
      "applicationtype_input (InputLay [(None, 20)]         0                                            \n",
      "__________________________________________________________________________________________________\n",
      "accepted_input (InputLayer)     [(None, 20)]         0                                            \n",
      "__________________________________________________________________________________________________\n",
      "lifecycle_input (InputLayer)    [(None, 20)]         0                                            \n",
      "__________________________________________________________________________________________________\n",
      "ac_embedding (Embedding)        (None, 20, 27)       729         activity_input[0][0]             \n",
      "__________________________________________________________________________________________________\n",
      "s_embedding (Embedding)         (None, 20, 5)        25          selected_input[0][0]             \n",
      "__________________________________________________________________________________________________\n",
      "at_embedding (Embedding)        (None, 20, 4)        16          applicationtype_input[0][0]      \n",
      "__________________________________________________________________________________________________\n",
      "acc_embedding (Embedding)       (None, 20, 5)        25          accepted_input[0][0]             \n",
      "__________________________________________________________________________________________________\n",
      "li_embedding (Embedding)        (None, 20, 9)        81          lifecycle_input[0][0]            \n",
      "__________________________________________________________________________________________________\n",
      "numeric_input (InputLayer)      [(None, 20, 1)]      0                                            \n",
      "__________________________________________________________________________________________________\n",
      "catInp (Concatenate)            (None, 20, 51)       0           ac_embedding[0][0]               \n",
      "                                                                 s_embedding[0][0]                \n",
      "                                                                 at_embedding[0][0]               \n",
      "                                                                 acc_embedding[0][0]              \n",
      "                                                                 li_embedding[0][0]               \n",
      "                                                                 numeric_input[0][0]              \n",
      "__________________________________________________________________________________________________\n",
      "dropout (Dropout)               (None, 20, 51)       0           catInp[0][0]                     \n",
      "__________________________________________________________________________________________________\n",
      "time_input (InputLayer)         [(None, 20, 1)]      0                                            \n",
      "__________________________________________________________________________________________________\n",
      "allInp (Concatenate)            (None, 20, 52)       0           dropout[0][0]                    \n",
      "                                                                 time_input[0][0]                 \n",
      "__________________________________________________________________________________________________\n",
      "alpha (Bidirectional)           (None, 20, 64)       21760       allInp[0][0]                     \n",
      "__________________________________________________________________________________________________\n",
      "alpha_dense_0 (TimeDistributed) (None, 20, 1)        65          alpha[0][0]                      \n",
      "__________________________________________________________________________________________________\n",
      "beta (Bidirectional)            (None, 20, 64)       21760       allInp[0][0]                     \n",
      "__________________________________________________________________________________________________\n",
      "alpha_softmax (Softmax)         (None, 20, 1)        0           alpha_dense_0[0][0]              \n",
      "__________________________________________________________________________________________________\n",
      "beta_dense_0 (TimeDistributed)  (None, 20, 52)       3380        beta[0][0]                       \n",
      "__________________________________________________________________________________________________\n",
      "multiply (Multiply)             (None, 20, 52)       0           alpha_softmax[0][0]              \n",
      "                                                                 beta_dense_0[0][0]               \n",
      "                                                                 allInp[0][0]                     \n",
      "__________________________________________________________________________________________________\n",
      "lambda (Lambda)                 (None, 52)           0           multiply[0][0]                   \n",
      "__________________________________________________________________________________________________\n",
      "dropout_1 (Dropout)             (None, 52)           0           lambda[0][0]                     \n",
      "__________________________________________________________________________________________________\n",
      "final_output (Dense)            (None, 1)            53          dropout_1[0][0]                  \n",
      "==================================================================================================\n",
      "Total params: 47,894\n",
      "Trainable params: 47,894\n",
      "Non-trainable params: 0\n",
      "__________________________________________________________________________________________________\n"
     ]
    }
   ],
   "source": [
    "opt = Nadam(lr=0.0005, beta_1=0.9, beta_2=0.999,\n",
    "                   epsilon=1e-08, schedule_decay=0.004, clipvalue=3)\n",
    "\n",
    "model.compile(loss={'final_output':'binary_crossentropy'}, optimizer= opt)\n",
    "    \n",
    "model.summary()"
   ]
  },
  {
   "cell_type": "code",
   "execution_count": 41,
   "metadata": {},
   "outputs": [],
   "source": [
    "output_file_path = os.path.join('./', 'models/model_rd_'+'_{epoch:02d}-{val_loss:.2f}.h5')"
   ]
  },
  {
   "cell_type": "code",
   "execution_count": null,
   "metadata": {},
   "outputs": [],
   "source": []
  },
  {
   "cell_type": "code",
   "execution_count": 42,
   "metadata": {
    "id": "mMA9Kw72rb2r"
   },
   "outputs": [],
   "source": [
    "padded_time = np.reshape(pad_train[1], (len(pad_train[1]), cutoff, 1))\n",
    "padded_time_test=  np.reshape(pad_test[1], (len(pad_test[1]), cutoff, 1))\n",
    "\n",
    "pad_creditscore = np.reshape(pad_train[0], (len(pad_train[0]), cutoff, 1))\n",
    "pad_creditscore_test = np.reshape(pad_test[0], (len(pad_test[0]), cutoff, 1))\n",
    "\n",
    "model_checkpoint = ModelCheckpoint(output_file_path,\n",
    "                                       monitor='val_loss',\n",
    "                                       verbose=1,\n",
    "                                       save_best_only=True,\n",
    "                                       save_weights_only=False,\n",
    "                                       mode='auto')\n",
    "\n",
    "early_stopping = EarlyStopping(monitor='val_loss', patience=10)\n",
    "\n",
    "lr_reducer = ReduceLROnPlateau(monitor='val_loss',\n",
    "                                   factor=0.5,\n",
    "                                   patience=10,\n",
    "                                   verbose=0,\n",
    "                                   mode='auto',\n",
    "                                   min_delta=0.0001,\n",
    "                                   cooldown=0,\n",
    "                                   min_lr=0)\n",
    "model_inputs = [paddings_train[0]]\n",
    "model_inputs.append(paddings_train[1])\n",
    "model_inputs.append(paddings_train[2])\n",
    "model_inputs.append(paddings_train[3])\n",
    "model_inputs.append(paddings_train[4])\n",
    "model_inputs.append(pad_creditscore)\n",
    "model_inputs.append(padded_time)"
   ]
  },
  {
   "cell_type": "code",
   "execution_count": 43,
   "metadata": {},
   "outputs": [
    {
     "name": "stdout",
     "output_type": "stream",
     "text": [
      "Train on 445402 samples, validate on 49490 samples\n",
      "Epoch 1/10\n",
      "445402/445402 [==============================] - 448s 1ms/sample - loss: 0.4160 - val_loss: 0.4050\n",
      "Epoch 2/10\n",
      "445402/445402 [==============================] - 445s 1ms/sample - loss: 0.4044 - val_loss: 0.4032\n",
      "Epoch 3/10\n",
      "445402/445402 [==============================] - 456s 1ms/sample - loss: 0.4027 - val_loss: 0.4016\n",
      "Epoch 4/10\n",
      "445402/445402 [==============================] - 457s 1ms/sample - loss: 0.4019 - val_loss: 0.4013\n",
      "Epoch 5/10\n",
      "445402/445402 [==============================] - 473s 1ms/sample - loss: 0.4011 - val_loss: 0.4001\n",
      "Epoch 6/10\n",
      "445402/445402 [==============================] - 501s 1ms/sample - loss: 0.4005 - val_loss: 0.3988\n",
      "Epoch 7/10\n",
      "445402/445402 [==============================] - 488s 1ms/sample - loss: 0.3994 - val_loss: 0.3991\n",
      "Epoch 8/10\n",
      "445402/445402 [==============================] - 477s 1ms/sample - loss: 0.3988 - val_loss: 0.3971\n",
      "Epoch 9/10\n",
      "445402/445402 [==============================] - 482s 1ms/sample - loss: 0.3982 - val_loss: 0.3976\n",
      "Epoch 10/10\n",
      "445402/445402 [==============================] - 481s 1ms/sample - loss: 0.3982 - val_loss: 0.3973\n",
      "4743.956906795502\n",
      "0.8816448230500658\n"
     ]
    }
   ],
   "source": [
    "start = time.time()\n",
    "model.fit(model_inputs,\n",
    "              train_y,\n",
    "              callbacks=[early_stopping, lr_reducer],\n",
    "              validation_split = 0.1,\n",
    "              verbose=1,\n",
    "              epochs=10)\n",
    "model_inputs_test = [paddings_test[0]]\n",
    "model_inputs_test.append(paddings_test[1])\n",
    "model_inputs_test.append(paddings_test[2])\n",
    "model_inputs_test.append(paddings_test[3])\n",
    "model_inputs_test.append(paddings_test[4])\n",
    "model_inputs_test.append(pad_creditscore_test)\n",
    "model_inputs_test.append(padded_time_test)\n",
    "predictions = model.predict(model_inputs_test)\n",
    "auc = roc_auc_score(test_y,predictions)\n",
    "total_time = time.time() - start\n",
    "print(total_time)\n",
    "print(auc)"
   ]
  },
  {
   "cell_type": "code",
   "execution_count": null,
   "metadata": {},
   "outputs": [],
   "source": []
  },
  {
   "cell_type": "code",
   "execution_count": null,
   "metadata": {},
   "outputs": [],
   "source": []
  },
  {
   "cell_type": "code",
   "execution_count": 45,
   "metadata": {},
   "outputs": [],
   "source": [
    "preds_list = predictions.tolist()\n",
    "method_name = \"attention\"\n",
    "cls_method = \"LSTM\""
   ]
  },
  {
   "cell_type": "code",
   "execution_count": 46,
   "metadata": {},
   "outputs": [],
   "source": [
    "preds_all = []\n",
    "for i in preds_list:\n",
    "    for j in i:\n",
    "        preds_all.append(j)"
   ]
  },
  {
   "cell_type": "code",
   "execution_count": null,
   "metadata": {},
   "outputs": [],
   "source": []
  },
  {
   "cell_type": "code",
   "execution_count": 47,
   "metadata": {},
   "outputs": [],
   "source": [
    "if gap > 1:\n",
    "    outfile = os.path.join(results_dir, \"performance_results_%s_%s_%s_gap%s.csv\" % (cls_method, dataset_name, method_name, gap))\n",
    "else:\n",
    "    outfile = os.path.join(results_dir, \"performance_results_%s_%s_%s.csv\" % (cls_method, dataset_name, method_name))"
   ]
  },
  {
   "cell_type": "code",
   "execution_count": 48,
   "metadata": {},
   "outputs": [],
   "source": [
    "with open(outfile, 'w') as fout:\n",
    "        fout.write(\"%s;%s;%s;%s;%s;%s\\n\"%(\"dataset\", \"method\", \"cls\", \"nr_events\", \"metric\", \"score\"))\n",
    "        fout.write(\"%s;%s;%s;%s;%s;%s\\n\"%(dataset_name, method_name, cls_method,-1, \"runtime_total\", total_time))\n",
    "        fout.write(\"%s;%s;%s;%s;%s;%s\\n\"%(dataset_name, method_name, cls_method,-1, \"runtime_avg\", total_time/10))  \n",
    "        dt_results = pd.DataFrame({\"actual\": test_y_all, \"predicted\": preds_all, \"nr_events\": nr_events_all})\n",
    "        for nr_events, group in dt_results.groupby(\"nr_events\"):\n",
    "            if len(set(group.actual)) < 2:\n",
    "                fout.write(\"%s;%s;%s;%s;%s;%s;%s\\n\"%(dataset_name, method_name, cls_method, nr_events,-1, \"auc\", np.nan))\n",
    "            else:\n",
    "                fout.write(\"%s;%s;%s;%s;%s;%s;%s\\n\"%(dataset_name, method_name, cls_method, nr_events,-1, \"auc\", roc_auc_score(group.actual, group.predicted)))\n",
    "        fout.write(\"%s;%s;%s;%s;%s;%s\\n\"%(dataset_name, method_name, cls_method,-1, \"auc\", roc_auc_score(dt_results.actual, dt_results.predicted)))\n",
    "        fout.write(\"%s\\n\"%(auc))"
   ]
  },
  {
   "cell_type": "code",
   "execution_count": null,
   "metadata": {},
   "outputs": [],
   "source": []
  },
  {
   "cell_type": "code",
   "execution_count": 49,
   "metadata": {},
   "outputs": [
    {
     "data": {
      "text/plain": [
       "['Activity', 'Selected', 'ApplicationType', 'Accepted', 'lifecycle:transition']"
      ]
     },
     "execution_count": 49,
     "metadata": {},
     "output_type": "execute_result"
    }
   ],
   "source": [
    "cat_columns"
   ]
  },
  {
   "cell_type": "code",
   "execution_count": 50,
   "metadata": {},
   "outputs": [
    {
     "name": "stdout",
     "output_type": "stream",
     "text": [
      "['activity_input', 'selected_input', 'applicationtype_input', 'accepted_input', 'lifecycle_input', 'ac_embedding', 's_embedding', 'at_embedding', 'acc_embedding', 'li_embedding', 'numeric_input', 'catInp', 'dropout', 'time_input', 'allInp', 'alpha', 'alpha_dense_0', 'beta', 'alpha_softmax', 'beta_dense_0', 'multiply', 'lambda', 'dropout_1', 'final_output']\n",
      "[[-6.3620913e-01]\n",
      " [-1.2251895e-04]\n",
      " [ 3.3691275e-01]\n",
      " [ 1.0946722e-01]\n",
      " [ 4.3062326e-02]\n",
      " [-2.2745208e-01]\n",
      " [ 1.2258184e+00]\n",
      " [-1.2330111e+00]\n",
      " [ 7.7601291e-02]\n",
      " [-1.2309680e+00]\n",
      " [ 6.3029730e-01]\n",
      " [-1.2841297e+00]\n",
      " [-1.3950717e+00]\n",
      " [ 1.3732404e+00]\n",
      " [ 1.2861905e+00]\n",
      " [-1.3066663e+00]\n",
      " [-1.2674085e+00]\n",
      " [ 1.8938418e-01]\n",
      " [ 1.3340439e+00]\n",
      " [ 6.4933650e-02]\n",
      " [ 6.8724602e-02]\n",
      " [ 2.1055220e-01]\n",
      " [ 1.3454434e+00]\n",
      " [ 2.7540168e-01]\n",
      " [ 8.4319919e-02]\n",
      " [ 2.7558023e-02]\n",
      " [ 1.3449121e+00]\n",
      " [-4.4926631e-01]\n",
      " [ 4.6169812e-06]\n",
      " [ 9.2923504e-01]\n",
      " [-2.5090665e-01]\n",
      " [ 1.0890564e+00]\n",
      " [-7.8355916e-02]\n",
      " [ 3.0549797e-01]\n",
      " [-8.8688874e-01]\n",
      " [ 1.0353750e+00]\n",
      " [ 4.2753422e-01]\n",
      " [-9.6649177e-02]\n",
      " [ 1.0861773e+00]\n",
      " [-1.1330060e+00]\n",
      " [-1.0524372e+00]\n",
      " [-5.6227225e-01]\n",
      " [-4.0052656e-02]\n",
      " [-1.1990962e-01]\n",
      " [ 1.2630193e+00]\n",
      " [-1.2268696e+00]\n",
      " [ 1.1626145e+00]\n",
      " [-1.1426207e-02]\n",
      " [ 1.3479255e+00]\n",
      " [-1.2884454e+00]\n",
      " [-4.1423920e-01]\n",
      " [-1.6955992e+00]]\n"
     ]
    }
   ],
   "source": [
    "#   Next event selection method and numbers of repetitions\n",
    "#variants = [{'imp': 'Arg Max', 'rep': 1}]#,\n",
    "               # {'imp': 'Random Choice', 'rep': 1}]\n",
    "#   Generation of predictions\n",
    "has_time=False\n",
    "    #model = load_model(os.path.join(output_route, parameters['model_file']))\n",
    "model = model\n",
    "layer_names = [layer.name for layer in model.layers]\n",
    "print(layer_names)\n",
    "l_emb_weights=None\n",
    "ac_emb_weights = model.get_layer(name='ac_embedding').get_weights()[0]\n",
    "\n",
    "s_emb_weights = model.get_layer(name='s_embedding').get_weights()[0]\n",
    "    \n",
    "at_emb_weights = model.get_layer(name='at_embedding').get_weights()[0]  \n",
    "    \n",
    "acc_emb_weights = model.get_layer(name='acc_embedding').get_weights()[0]  \n",
    "    \n",
    "li_emb_weights = model.get_layer(name='li_embedding').get_weights()[0]  \n",
    "\n",
    "has_time=True\n",
    "\n",
    "ac_output_weights, ac_bias = model.get_layer(name='final_output').get_weights()\n",
    "print(ac_output_weights)\n",
    "model_with_attention = Model(model.inputs, model.outputs +\\\n",
    "                                              [model.get_layer(name='alpha_softmax').output,\\\n",
    "                                               model.get_layer(name='beta_dense_0').output])"
   ]
  },
  {
   "cell_type": "code",
   "execution_count": null,
   "metadata": {},
   "outputs": [],
   "source": []
  },
  {
   "cell_type": "code",
   "execution_count": 51,
   "metadata": {},
   "outputs": [],
   "source": [
    "#original"
   ]
  },
  {
   "cell_type": "code",
   "execution_count": 52,
   "metadata": {},
   "outputs": [],
   "source": [
    "temporal_vectors = []\n",
    "variable_vectors=[]\n",
    "predictions = []\n",
    "for i in range(0,len(paddings_test[0])):\n",
    "    x_ac_ngram = paddings_test[0][i].reshape((1,cutoff))\n",
    "    x_s_ngram = paddings_test[1][i].reshape((1,cutoff))\n",
    "    x_at_ngram = paddings_test[2][i].reshape((1,cutoff))\n",
    "    x_acc_ngram = paddings_test[3][i].reshape((1,cutoff))\n",
    "    x_li_ngram = paddings_test[4][i].reshape((1,cutoff))\n",
    "    x_in_ngram  = pad_creditscore_test[i].reshape(1, cutoff, 1)\n",
    "    x_t_ngram   = padded_time_test[i].reshape(1, cutoff, 1)\n",
    "    betas=None      \n",
    "    proba, alphas, betas = model_with_attention.predict([x_ac_ngram, x_s_ngram, x_at_ngram, x_acc_ngram, x_li_ngram, x_in_ngram,x_t_ngram])\n",
    "    #print(proba, alphas, betas)\n",
    "    proba = np.squeeze(proba)\n",
    "    alphas = np.squeeze(alphas)\n",
    "    temporal_att_vec = alphas\n",
    "    assert (np.sum(temporal_att_vec) - 1.0) < 1e-5\n",
    "    #print(temporal_att_vec)\n",
    "    temporal_vectors.append(temporal_att_vec)\n",
    "\n",
    "    if betas is not None:\n",
    "        #get the beta value\n",
    "        betas = np.squeeze(betas)\n",
    "        idx = np.argmax(alphas)\n",
    "        #print(idx)\n",
    "        beta_val = betas[idx]\n",
    "        # get the activity and role for that idx\n",
    "        act_ip = int(x_ac_ngram[0][idx])\n",
    "        ac_emb = ac_emb_weights[act_ip]\n",
    "        dim=ac_emb.shape[0]\n",
    "        \n",
    "        rol_ip = int(x_s_ngram[0][idx])\n",
    "        s_emb = s_emb_weights[rol_ip]\n",
    "        dim += s_emb.shape[0]\n",
    "            \n",
    "       \n",
    "        rol_ip = int(x_at_ngram[0][idx])\n",
    "        at_emb = at_emb_weights[rol_ip]\n",
    "        dim += at_emb.shape[0]\n",
    "        \n",
    "        \n",
    "        rol_ip = int(x_acc_ngram[0][idx])\n",
    "        acc_emb = acc_emb_weights[rol_ip]\n",
    "        dim += acc_emb.shape[0]\n",
    "           \n",
    "        \n",
    "        rol_ip = int(x_li_ngram[0][idx])\n",
    "        li_emb = li_emb_weights[rol_ip]\n",
    "        dim += li_emb.shape[0]\n",
    "            \n",
    "        num_v = np.squeeze(x_in_ngram)[idx]\n",
    "        dim +=1\n",
    "        \n",
    "        if(betas.shape[1]==dim+1):\n",
    "            time_v = np.squeeze(x_t_ngram)[idx]  # time and role as masked together\n",
    "            emb = np.concatenate((ac_emb,s_emb,at_emb,acc_emb,li_emb,num_v,time_v), axis=None)\n",
    "          \n",
    "        #print('beta_val',beta_val.shape)\n",
    "        beta_scaled = np.multiply(beta_val,emb)\n",
    "        variable_attn = alphas[idx] * beta_scaled\n",
    "        #sum_grad = np.sum(ac_output_weights, axis=1)\n",
    "        #variable_attn=np.multiply(sum_grad.flatten(), variable_attn)\n",
    "        variable_vectors.append(variable_attn)\n",
    "        predictions.append(proba)"
   ]
  },
  {
   "cell_type": "code",
   "execution_count": null,
   "metadata": {},
   "outputs": [],
   "source": []
  },
  {
   "cell_type": "markdown",
   "metadata": {},
   "source": [
    "without correction"
   ]
  },
  {
   "cell_type": "code",
   "execution_count": 53,
   "metadata": {},
   "outputs": [
    {
     "name": "stdout",
     "output_type": "stream",
     "text": [
      "['Start', 'A_Accepted', 'A_Cancelled', 'A_Complete', 'A_Concept', 'A_Create Application', 'A_Denied', 'A_Incomplete', 'A_Pending', 'A_Submitted', 'A_Validating', 'O_Accepted', 'O_Cancelled', 'O_Create Offer', 'O_Created', 'O_Refused', 'O_Returned', 'O_Sent (mail and online)', 'O_Sent (online only)', 'W_Assess potential fraud', 'W_Call after offers', 'W_Call incomplete files', 'W_Complete application', 'W_Handle leads', 'W_Shortened completion ', 'W_Validate application', 'End']\n",
      "['Start', 'False', 'True', 'missing', 'End']\n",
      "['Start', 'Limit raise', 'New credit', 'End']\n",
      "['Start', 'False', 'True', 'missing', 'End']\n",
      "['Start', 'ate_abort', 'complete', 'resume', 'schedule', 'start', 'suspend', 'withdraw', 'end']\n",
      "52\n",
      "    attributes          attribute_values\n",
      "0     0.007563                     Start\n",
      "1     0.000033                A_Accepted\n",
      "2     0.004139               A_Cancelled\n",
      "3     0.005151                A_Complete\n",
      "4     0.001201                 A_Concept\n",
      "5    -0.006106      A_Create Application\n",
      "6    -0.012876                  A_Denied\n",
      "7     0.016318              A_Incomplete\n",
      "8     0.000372                 A_Pending\n",
      "9     0.010560               A_Submitted\n",
      "10    0.004031              A_Validating\n",
      "11    0.009542                O_Accepted\n",
      "12    0.007672               O_Cancelled\n",
      "13   -0.005197            O_Create Offer\n",
      "14   -0.014870                 O_Created\n",
      "15    0.010714                 O_Refused\n",
      "16    0.005538                O_Returned\n",
      "17    0.002933  O_Sent (mail and online)\n",
      "18   -0.012192      O_Sent (online only)\n",
      "19    0.003204  W_Assess potential fraud\n",
      "20    0.000344       W_Call after offers\n",
      "21   -0.000185   W_Call incomplete files\n",
      "22   -0.019603    W_Complete application\n",
      "23    0.000214            W_Handle leads\n",
      "24    0.001851   W_Shortened completion \n",
      "25    0.001403    W_Validate application\n",
      "26   -0.010962                       End\n",
      "27    0.026493                     Start\n",
      "28   -0.000003                     False\n",
      "29   -0.013606                      True\n",
      "30    0.004023                   missing\n",
      "31   -0.010893                       End\n",
      "32    0.050658                     Start\n",
      "33   -0.071633               Limit raise\n",
      "34    0.030434                New credit\n",
      "35   -0.038992                       End\n",
      "36   -0.021899                     Start\n",
      "37    0.011374                     False\n",
      "38   -0.009293                      True\n",
      "39    0.004302                   missing\n",
      "40    0.006508                       End\n",
      "41    0.037602                     Start\n",
      "42    0.000050                 ate_abort\n",
      "43   -0.000313                  complete\n",
      "44   -0.013117                    resume\n",
      "45    0.007564                  schedule\n",
      "46   -0.007968                     start\n",
      "47    0.000040                   suspend\n",
      "48   -0.011717                  withdraw\n",
      "49    0.017652                       end\n",
      "50   -0.082416               CreditScore\n",
      "51    0.002634                      time\n"
     ]
    },
    {
     "data": {
      "image/png": "[encoded data removed]",
      "text/plain": [
       "<Figure size 720x504 with 1 Axes>"
      ]
     },
     "metadata": {},
     "output_type": "display_data"
    }
   ],
   "source": [
    "if(len(variable_vectors)>0):\n",
    "    var_final = np.mean(np.array(variable_vectors), axis=0)\n",
    "    ac_labels = [index_ac[key] for key in sorted(index_ac.keys())]\n",
    "    s_labels = [index_s[key] for key in sorted(index_s.keys())]\n",
    "    at_labels = [index_at[key] for key in sorted(index_at.keys())]\n",
    "    acc_labels = [index_acc[key] for key in sorted(index_acc.keys())]\n",
    "    li_labels = [index_li[key] for key in sorted(index_li.keys())]\n",
    "    print(ac_labels)\n",
    "    print(s_labels)\n",
    "    print(at_labels)\n",
    "    print(acc_labels)\n",
    "    print(li_labels)\n",
    "      \n",
    "    num_dim = var_final.shape[0]\n",
    "    print(num_dim)\n",
    "      \n",
    "    if s_emb_weights is not None:\n",
    "        ac_labels.extend(s_labels)\n",
    "    if at_emb_weights is not None:\n",
    "        ac_labels.extend(at_labels)  \n",
    "    if acc_emb_weights is not None:\n",
    "        ac_labels.extend(acc_labels)\n",
    "    if li_emb_weights is not None:\n",
    "        ac_labels.extend(li_labels)\n",
    "    ac_labels.append('CreditScore')\n",
    "    ac_labels.append('time')\n",
    "        \n",
    "    df_var=pd.DataFrame({'attributes':var_final, 'attribute_values':ac_labels})\n",
    "    print(df_var)\n",
    "    df_var.plot.bar(y='attributes', x='attribute_values',\n",
    "                                title='Attention of the event attributes.', figsize=(10,7))\n",
    "                                                                               \n",
    "    #plot_history( plt, file_name + 'variable_attn', path )\n",
    "      \n",
    "\n",
    "    # Hide grid lines\n",
    "    plt.grid(False)\n",
    "    plt.show()"
   ]
  },
  {
   "cell_type": "code",
   "execution_count": null,
   "metadata": {},
   "outputs": [],
   "source": []
  },
  {
   "cell_type": "markdown",
   "metadata": {
    "heading_collapsed": true
   },
   "source": [
    "#### parsimony"
   ]
  },
  {
   "cell_type": "code",
   "execution_count": 59,
   "metadata": {
    "hidden": true
   },
   "outputs": [
    {
     "data": {
      "text/plain": [
       "31"
      ]
     },
     "execution_count": 59,
     "metadata": {},
     "output_type": "execute_result"
    }
   ],
   "source": [
    "parsimony = 0\n",
    "for i in range(0,len(df_var['attributes'])):\n",
    "    if df_var['attributes'][i]>0:\n",
    "        parsimony = parsimony+1\n",
    "parsimony"
   ]
  },
  {
   "cell_type": "code",
   "execution_count": 60,
   "metadata": {
    "hidden": true
   },
   "outputs": [
    {
     "data": {
      "text/plain": [
       "52"
      ]
     },
     "execution_count": 60,
     "metadata": {},
     "output_type": "execute_result"
    }
   ],
   "source": [
    "len(df_var['attributes'])"
   ]
  },
  {
   "cell_type": "markdown",
   "metadata": {
    "heading_collapsed": true
   },
   "source": [
    "#### Functional complexity"
   ]
  },
  {
   "cell_type": "code",
   "execution_count": 62,
   "metadata": {
    "hidden": true
   },
   "outputs": [],
   "source": [
    "def functional_complexity(n_instances):\n",
    "    NF=0\n",
    "    #categorical_columns\n",
    "    list_of_random_instances = list(np.random.permutation(np.arange(0,n_instances))[:n_instances])\n",
    "    for j in range(0,len(paddings_test)):\n",
    "        for i in list_of_random_instances:\n",
    "            new_paddings_test = paddings_test.copy()\n",
    "            #new prediction after permutation \n",
    "            new_paddings_test[j][i] = random.uniform(0,1)\n",
    "            #new_paddings_test[j][i] = np.random.permutation(new_paddings_test[j][i])\n",
    "            new_model_inputs_test = [[np.array(new_paddings_test[0][i])]]\n",
    "            new_model_inputs_test.append([np.array(new_paddings_test[1][i])])\n",
    "            new_model_inputs_test.append([np.array(new_paddings_test[2][i])])\n",
    "            new_model_inputs_test.append([np.array(new_paddings_test[3][i])])\n",
    "            new_model_inputs_test.append([np.array(new_paddings_test[4][i])])\n",
    "            new_model_inputs_test.append([np.array(pad_creditscore_test[i])])\n",
    "            new_model_inputs_test.append([np.array(padded_time_test[i])])\n",
    "            pred2 = model.predict(new_model_inputs_test)\n",
    "            pred2= np.round(pred2)\n",
    "            #prediction without permutation\n",
    "            model_inputs_test = [[np.array(paddings_test[0][i])]]\n",
    "            model_inputs_test.append([np.array(paddings_test[1][i])])\n",
    "            model_inputs_test.append([np.array(paddings_test[2][i])])\n",
    "            model_inputs_test.append([np.array(paddings_test[3][i])])\n",
    "            model_inputs_test.append([np.array(paddings_test[4][i])])\n",
    "            model_inputs_test.append([np.array(pad_creditscore_test[i])])\n",
    "            model_inputs_test.append([np.array(padded_time_test[i])])\n",
    "            pred1 = model.predict(model_inputs_test)\n",
    "            pred1 = np.round(pred1)\n",
    "            \n",
    "            if pred1 == pred2:\n",
    "                NF = NF+1\n",
    "    #numerical\n",
    "    list_of_sets=[]\n",
    "    set_of_values = set()\n",
    "    #the different values of each column in a set\n",
    "    #all these sets are added to the list_of_sets list        \n",
    "    for j in range(0,len(num_columns)):\n",
    "        set_of_values = set(dt_test_prefixes[num_columns[j]])\n",
    "        for i in list_of_random_instances:\n",
    "            new_pad_test = pad_test.copy()\n",
    "            new_pad_test[j][i] = random.choice(list(set_of_values))\n",
    "           \n",
    "            new_padded_time_test=  np.reshape(new_pad_test[1], (len(new_pad_test[1]), cutoff, 1))\n",
    "            new_pad_creditscore_test = np.reshape(new_pad_test[0], (len(new_pad_test[0]), cutoff, 1))\n",
    "            #new prediction after permutation\n",
    "           \n",
    "            new_model_inputs_test = [[np.array(paddings_test[0][i])]]\n",
    "            new_model_inputs_test.append([np.array(paddings_test[1][i])])\n",
    "            new_model_inputs_test.append([np.array(paddings_test[2][i])])\n",
    "            new_model_inputs_test.append([np.array(paddings_test[3][i])])\n",
    "            new_model_inputs_test.append([np.array(paddings_test[4][i])])\n",
    "            new_model_inputs_test.append([np.array(new_pad_creditscore_test[i])])\n",
    "            new_model_inputs_test.append([np.array(new_padded_time_test[i])])\n",
    "            pred2 = model.predict(new_model_inputs_test)\n",
    "            pred2= np.round(pred2)\n",
    "            #prediction without permutation\n",
    "            model_inputs_test = [[np.array(paddings_test[0][i])]]\n",
    "            model_inputs_test.append([np.array(paddings_test[1][i])])\n",
    "            model_inputs_test.append([np.array(paddings_test[2][i])])\n",
    "            model_inputs_test.append([np.array(paddings_test[3][i])])\n",
    "            model_inputs_test.append([np.array(paddings_test[4][i])])\n",
    "            model_inputs_test.append([np.array(pad_creditscore_test[i])])\n",
    "            model_inputs_test.append([np.array(padded_time_test[i])])\n",
    "            pred1 = model.predict(model_inputs_test)\n",
    "            pred1 = np.round(pred1)\n",
    "            \n",
    "            if pred1 == pred2:\n",
    "                NF = NF+1           \n",
    "                \n",
    "    \n",
    "    return NF"
   ]
  },
  {
   "cell_type": "code",
   "execution_count": 63,
   "metadata": {
    "hidden": true
   },
   "outputs": [
    {
     "data": {
      "text/plain": [
       "3500"
      ]
     },
     "execution_count": 63,
     "metadata": {},
     "output_type": "execute_result"
    }
   ],
   "source": [
    "functional_complexity(500)"
   ]
  },
  {
   "cell_type": "code",
   "execution_count": 65,
   "metadata": {
    "hidden": true
   },
   "outputs": [
    {
     "data": {
      "text/plain": [
       "15500"
      ]
     },
     "execution_count": 65,
     "metadata": {},
     "output_type": "execute_result"
    }
   ],
   "source": [
    "31*500"
   ]
  },
  {
   "cell_type": "code",
   "execution_count": null,
   "metadata": {
    "hidden": true
   },
   "outputs": [],
   "source": []
  },
  {
   "cell_type": "code",
   "execution_count": null,
   "metadata": {
    "hidden": true
   },
   "outputs": [],
   "source": []
  },
  {
   "cell_type": "code",
   "execution_count": 64,
   "metadata": {
    "hidden": true
   },
   "outputs": [
    {
     "data": {
      "text/plain": [
       "26000"
      ]
     },
     "execution_count": 64,
     "metadata": {},
     "output_type": "execute_result"
    }
   ],
   "source": [
    "52*500"
   ]
  },
  {
   "cell_type": "markdown",
   "metadata": {},
   "source": [
    "#### Monotonicity"
   ]
  },
  {
   "cell_type": "markdown",
   "metadata": {},
   "source": [
    "##### perturbation importance"
   ]
  },
  {
   "cell_type": "code",
   "execution_count": 134,
   "metadata": {},
   "outputs": [
    {
     "name": "stdout",
     "output_type": "stream",
     "text": [
      "0\n",
      "Variable 1, perturbation effect: 0.0063\n",
      "1\n",
      "Variable 2, perturbation effect: 0.0175\n",
      "2\n",
      "Variable 3, perturbation effect: 0.0772\n",
      "3\n",
      "Variable 4, perturbation effect: 0.0163\n",
      "4\n",
      "Variable 5, perturbation effect: 0.0085\n",
      "5\n",
      "Variable 6, perturbation effect: 0.1126\n",
      "6\n",
      "Variable 7, perturbation effect: 0.1153\n"
     ]
    }
   ],
   "source": [
    "numbers = [no_activities, no_selected,no_applicationtype,no_accepted,no_lifecycle,1,1]\n",
    "\n",
    "numbers\n",
    "\n",
    "sample_length = 50000\n",
    "effects_saved = []\n",
    "def data_sample(model_inputs):\n",
    "    sample_data = []\n",
    "    for i in range(0, len(model_inputs)):\n",
    "        sample_data.append(model_inputs[i][0:sample_length])\n",
    "    return sample_data\n",
    "def var_importance(model, model_inputs):\n",
    "    x = data_sample(model_inputs)\n",
    "    orig_out = model.predict(x)\n",
    "    for i in range(0,len(cat_columns)):  # iterate over the 5 cat features\n",
    "        print(i)\n",
    "        new_x = x.copy()\n",
    "        perturbations_list = []\n",
    "        for j in range(0,sample_length):\n",
    "            prefix_array = np.random.random((maxlen,))\n",
    "            perturbations_list.append(prefix_array)\n",
    "        new_x[i] = np.array(perturbations_list)\n",
    "        perturbed_out = model.predict(new_x)\n",
    "        effect = (((orig_out - perturbed_out) ** 2)/20).mean() ** 0.5\n",
    "        print(f'Variable {i+1}, perturbation effect: {effect:.4f}')\n",
    "        effects_saved.append(effect)\n",
    "    for k in range(i+1,len(model_inputs)):  # iterate over the 2 num features\n",
    "        print(k)\n",
    "        new_x = x.copy()\n",
    "        perturbations_list = []\n",
    "        for j in range(0,sample_length):\n",
    "            prefix_array = np.random.random((maxlen,))\n",
    "            perturbations_list.append(prefix_array)\n",
    "        perturbation_array = np.array(perturbations_list)\n",
    "        perturbations_reshaped = perturbation_array.reshape(sample_length, cutoff, 1)\n",
    "        new_x[k] = perturbations_reshaped\n",
    "        perturbed_out = model.predict(new_x)\n",
    "        effect = (((orig_out - perturbed_out) ** 2)/20).mean() ** 0.5\n",
    "        print(f'Variable {(k+1)}, perturbation effect: {effect:.4f}')    \n",
    "        effects_saved.append(effect)\n",
    "\n",
    "var_importance(model, model_inputs_test)"
   ]
  },
  {
   "cell_type": "code",
   "execution_count": null,
   "metadata": {},
   "outputs": [],
   "source": []
  },
  {
   "cell_type": "markdown",
   "metadata": {},
   "source": [
    "##### attention values"
   ]
  },
  {
   "cell_type": "code",
   "execution_count": 95,
   "metadata": {},
   "outputs": [],
   "source": [
    "cat_columns = ['Activity', \"Selected\",\"ApplicationType\",'Accepted','lifecycle:transition']"
   ]
  },
  {
   "cell_type": "code",
   "execution_count": 96,
   "metadata": {},
   "outputs": [],
   "source": [
    "attention_values = []"
   ]
  },
  {
   "cell_type": "code",
   "execution_count": null,
   "metadata": {},
   "outputs": [],
   "source": []
  },
  {
   "cell_type": "code",
   "execution_count": 97,
   "metadata": {},
   "outputs": [],
   "source": [
    "#activity"
   ]
  },
  {
   "cell_type": "code",
   "execution_count": 98,
   "metadata": {},
   "outputs": [
    {
     "data": {
      "text/plain": [
       "27"
      ]
     },
     "execution_count": 98,
     "metadata": {},
     "output_type": "execute_result"
    }
   ],
   "source": [
    "len([index_ac[key] for key in sorted(index_ac.keys())])"
   ]
  },
  {
   "cell_type": "code",
   "execution_count": 99,
   "metadata": {},
   "outputs": [
    {
     "data": {
      "text/plain": [
       "0.17477357"
      ]
     },
     "execution_count": 99,
     "metadata": {},
     "output_type": "execute_result"
    }
   ],
   "source": [
    "abs(df_var['attributes'].iloc[0:27]).sum(skipna = True)"
   ]
  },
  {
   "cell_type": "code",
   "execution_count": 100,
   "metadata": {},
   "outputs": [],
   "source": [
    "attention_values.append(0.17477357)"
   ]
  },
  {
   "cell_type": "code",
   "execution_count": null,
   "metadata": {},
   "outputs": [],
   "source": []
  },
  {
   "cell_type": "code",
   "execution_count": 101,
   "metadata": {},
   "outputs": [],
   "source": [
    "#selected"
   ]
  },
  {
   "cell_type": "code",
   "execution_count": 102,
   "metadata": {},
   "outputs": [
    {
     "data": {
      "text/plain": [
       "5"
      ]
     },
     "execution_count": 102,
     "metadata": {},
     "output_type": "execute_result"
    }
   ],
   "source": [
    "len(s_labels)"
   ]
  },
  {
   "cell_type": "code",
   "execution_count": 103,
   "metadata": {},
   "outputs": [
    {
     "data": {
      "text/plain": [
       "0.05501943"
      ]
     },
     "execution_count": 103,
     "metadata": {},
     "output_type": "execute_result"
    }
   ],
   "source": [
    "abs(df_var['attributes'].iloc[27:32]).sum(skipna = True)"
   ]
  },
  {
   "cell_type": "code",
   "execution_count": 104,
   "metadata": {},
   "outputs": [],
   "source": [
    "attention_values.append(0.05501943)"
   ]
  },
  {
   "cell_type": "code",
   "execution_count": null,
   "metadata": {},
   "outputs": [],
   "source": []
  },
  {
   "cell_type": "code",
   "execution_count": 105,
   "metadata": {},
   "outputs": [],
   "source": [
    "#at_labels"
   ]
  },
  {
   "cell_type": "code",
   "execution_count": 106,
   "metadata": {},
   "outputs": [
    {
     "data": {
      "text/plain": [
       "4"
      ]
     },
     "execution_count": 106,
     "metadata": {},
     "output_type": "execute_result"
    }
   ],
   "source": [
    "len(at_labels)"
   ]
  },
  {
   "cell_type": "code",
   "execution_count": 107,
   "metadata": {},
   "outputs": [
    {
     "data": {
      "text/plain": [
       "0.19171786"
      ]
     },
     "execution_count": 107,
     "metadata": {},
     "output_type": "execute_result"
    }
   ],
   "source": [
    "abs(df_var['attributes'].iloc[32:36]).sum(skipna = True)"
   ]
  },
  {
   "cell_type": "code",
   "execution_count": 108,
   "metadata": {},
   "outputs": [],
   "source": [
    "attention_values.append(0.19171786)"
   ]
  },
  {
   "cell_type": "code",
   "execution_count": null,
   "metadata": {},
   "outputs": [],
   "source": []
  },
  {
   "cell_type": "code",
   "execution_count": 109,
   "metadata": {},
   "outputs": [
    {
     "data": {
      "text/plain": [
       "5"
      ]
     },
     "execution_count": 109,
     "metadata": {},
     "output_type": "execute_result"
    }
   ],
   "source": [
    "len(acc_labels)"
   ]
  },
  {
   "cell_type": "code",
   "execution_count": 110,
   "metadata": {},
   "outputs": [
    {
     "data": {
      "text/plain": [
       "0.053377185"
      ]
     },
     "execution_count": 110,
     "metadata": {},
     "output_type": "execute_result"
    }
   ],
   "source": [
    "abs(df_var['attributes'].iloc[36:41]).sum(skipna = True)"
   ]
  },
  {
   "cell_type": "code",
   "execution_count": 111,
   "metadata": {},
   "outputs": [],
   "source": [
    "attention_values.append(0.053377185)"
   ]
  },
  {
   "cell_type": "code",
   "execution_count": null,
   "metadata": {},
   "outputs": [],
   "source": []
  },
  {
   "cell_type": "code",
   "execution_count": 112,
   "metadata": {},
   "outputs": [
    {
     "data": {
      "text/plain": [
       "9"
      ]
     },
     "execution_count": 112,
     "metadata": {},
     "output_type": "execute_result"
    }
   ],
   "source": [
    "len(li_labels)"
   ]
  },
  {
   "cell_type": "code",
   "execution_count": 113,
   "metadata": {},
   "outputs": [
    {
     "data": {
      "text/plain": [
       "0.096021466"
      ]
     },
     "execution_count": 113,
     "metadata": {},
     "output_type": "execute_result"
    }
   ],
   "source": [
    "abs(df_var['attributes'].iloc[41:50]).sum(skipna = True)"
   ]
  },
  {
   "cell_type": "code",
   "execution_count": 114,
   "metadata": {},
   "outputs": [
    {
     "data": {
      "text/plain": [
       "0.08241622"
      ]
     },
     "execution_count": 114,
     "metadata": {},
     "output_type": "execute_result"
    }
   ],
   "source": [
    "abs(df_var['attributes'].iloc[50:51]).sum(skipna = True)"
   ]
  },
  {
   "cell_type": "code",
   "execution_count": 115,
   "metadata": {},
   "outputs": [
    {
     "data": {
      "text/plain": [
       "0.0026337507"
      ]
     },
     "execution_count": 115,
     "metadata": {},
     "output_type": "execute_result"
    }
   ],
   "source": [
    "abs(df_var['attributes'].iloc[51:52]).sum(skipna = True)"
   ]
  },
  {
   "cell_type": "code",
   "execution_count": null,
   "metadata": {},
   "outputs": [],
   "source": []
  },
  {
   "cell_type": "code",
   "execution_count": 116,
   "metadata": {},
   "outputs": [],
   "source": [
    "attention_values.append(0.096021466)\n",
    "attention_values.append(0.08241622)\n",
    "attention_values.append(0.0026337507)"
   ]
  },
  {
   "cell_type": "code",
   "execution_count": 118,
   "metadata": {},
   "outputs": [
    {
     "data": {
      "text/plain": [
       "[0.17477357,\n",
       " 0.05501943,\n",
       " 0.19171786,\n",
       " 0.053377185,\n",
       " 0.096021466,\n",
       " 0.08241622,\n",
       " 0.0026337507]"
      ]
     },
     "execution_count": 118,
     "metadata": {},
     "output_type": "execute_result"
    }
   ],
   "source": [
    "attention_values"
   ]
  },
  {
   "cell_type": "code",
   "execution_count": 120,
   "metadata": {},
   "outputs": [],
   "source": [
    "courses =  ['Activity', \"Selected\",\"ApplicationType\",'Accepted','lifecycle:transition','CreditScore', 'timesincelastevent']"
   ]
  },
  {
   "cell_type": "code",
   "execution_count": 121,
   "metadata": {},
   "outputs": [
    {
     "data": {
      "image/png": "[encoded data removed]",
      "text/plain": [
       "<Figure size 720x360 with 1 Axes>"
      ]
     },
     "metadata": {},
     "output_type": "display_data"
    }
   ],
   "source": [
    "values=attention_values\n",
    "fig = plt.figure(figsize = (10, 5))\n",
    " \n",
    "# creating the bar plot\n",
    "plt.bar(courses, values, color ='maroon',\n",
    "        width = 0.4)\n",
    " \n",
    "plt.xlabel(\"Features\")\n",
    "plt.ylabel(\"Attention\")\n",
    "plt.title(\"Feature importance based on aggegated attention\")\n",
    "plt.show()"
   ]
  },
  {
   "cell_type": "code",
   "execution_count": 135,
   "metadata": {},
   "outputs": [
    {
     "data": {
      "image/png": "[encoded data removed]",
      "text/plain": [
       "<Figure size 720x360 with 1 Axes>"
      ]
     },
     "metadata": {},
     "output_type": "display_data"
    },
    {
     "data": {
      "text/plain": [
       "[0.006325350425147733,\n",
       " 0.017464189867900513,\n",
       " 0.07720002127837657,\n",
       " 0.0162694213237804,\n",
       " 0.008498458046907157,\n",
       " 0.11258674942617489,\n",
       " 0.11529009086329643]"
      ]
     },
     "execution_count": 135,
     "metadata": {},
     "output_type": "execute_result"
    }
   ],
   "source": [
    "courses = ['Activity', 'Selected','AppType','Accepted', 'lifecycle', 'creditscore', 'time']\n",
    "values = effects_saved\n",
    "  \n",
    "fig = plt.figure(figsize = (10, 5))\n",
    " \n",
    "# creating the bar plot\n",
    "plt.bar(courses, values, color ='maroon',\n",
    "        width = 0.4)\n",
    " \n",
    "plt.xlabel(\"Features\")\n",
    "plt.ylabel(\"Attention\")\n",
    "plt.title(\"Feature importance based on perturbation\")\n",
    "plt.show()\n",
    "\n",
    "effects_saved"
   ]
  },
  {
   "cell_type": "code",
   "execution_count": null,
   "metadata": {},
   "outputs": [],
   "source": []
  },
  {
   "cell_type": "code",
   "execution_count": 136,
   "metadata": {},
   "outputs": [
    {
     "name": "stdout",
     "output_type": "stream",
     "text": [
      "Kendall correlation coefficient: -0.333\n",
      "Samples are uncorrelated (fail to reject H0) p=0.381\n"
     ]
    }
   ],
   "source": [
    "from scipy.stats import kendalltau\n",
    "\n",
    "coef, p = kendalltau(effects_saved, attention_values)\n",
    "print('Kendall correlation coefficient: %.3f' % coef)\n",
    "# interpret the significance\n",
    "alpha = 0.05\n",
    "if p > alpha:\n",
    "\tprint('Samples are uncorrelated (fail to reject H0) p=%.3f' % p)\n",
    "else:\n",
    "\tprint('Samples are correlated (reject H0) p=%.3f' % p)\n",
    "\n",
    "from scipy.stats import spearmanr\n",
    "# seed random number generator"
   ]
  },
  {
   "cell_type": "code",
   "execution_count": null,
   "metadata": {},
   "outputs": [],
   "source": []
  },
  {
   "cell_type": "code",
   "execution_count": 137,
   "metadata": {},
   "outputs": [
    {
     "name": "stdout",
     "output_type": "stream",
     "text": [
      "Spearmans correlation coefficient: -0.429\n",
      "Samples are uncorrelated (fail to reject H0) p=0.337\n"
     ]
    }
   ],
   "source": [
    "# prepare data\n",
    "\n",
    "coef, p = spearmanr(attention_values, effects_saved)\n",
    "print('Spearmans correlation coefficient: %.3f' % coef)\n",
    "# interpret the significance\n",
    "alpha = 0.05\n",
    "if p > alpha:\n",
    "\tprint('Samples are uncorrelated (fail to reject H0) p=%.3f' % p)\n",
    "else:\n",
    "\tprint('Samples are correlated (reject H0) p=%.3f' % p)"
   ]
  },
  {
   "cell_type": "code",
   "execution_count": null,
   "metadata": {},
   "outputs": [],
   "source": []
  }
 ],
 "metadata": {
  "accelerator": "GPU",
  "colab": {
   "name": "Kopie van Leafmodel_BPIC2017_accepted.ipynb",
   "provenance": []
  },
  "kernelspec": {
   "display_name": "Python 3",
   "language": "python",
   "name": "python3"
  },
  "language_info": {
   "codemirror_mode": {
    "name": "ipython",
    "version": 3
   },
   "file_extension": ".py",
   "mimetype": "text/x-python",
   "name": "python",
   "nbconvert_exporter": "python",
   "pygments_lexer": "ipython3",
   "version": "3.6.12"
  },
  "toc": {
   "base_numbering": 1,
   "nav_menu": {},
   "number_sections": true,
   "sideBar": true,
   "skip_h1_title": false,
   "title_cell": "Table of Contents",
   "title_sidebar": "Contents",
   "toc_cell": false,
   "toc_position": {
    "height": "590.66px",
    "left": "34.9931px",
    "top": "110.926px",
    "width": "165px"
   },
   "toc_section_display": true,
   "toc_window_display": true
  }
 },
 "nbformat": 4,
 "nbformat_minor": 1
}
