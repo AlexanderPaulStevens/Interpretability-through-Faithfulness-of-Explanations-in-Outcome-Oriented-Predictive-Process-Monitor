{
 "cells": [
  {
   "cell_type": "markdown",
   "metadata": {},
   "source": [
    "# Analyzing the Spectrum of Explainability in Outcome-Oriented Predictive Process Monitoring"
   ]
  },
  {
   "cell_type": "markdown",
   "metadata": {},
   "source": [
    "## BPIC2015_2_f2"
   ]
  },
  {
   "cell_type": "markdown",
   "metadata": {},
   "source": [
    "### data preprocessing"
   ]
  },
  {
   "cell_type": "markdown",
   "metadata": {
    "heading_collapsed": true
   },
   "source": [
    "#### importing libraries and terminology"
   ]
  },
  {
   "cell_type": "code",
   "execution_count": 15,
   "metadata": {
    "hidden": true
   },
   "outputs": [],
   "source": [
    "#import libraries"
   ]
  },
  {
   "cell_type": "code",
   "execution_count": 16,
   "metadata": {
    "hidden": true
   },
   "outputs": [
    {
     "name": "stderr",
     "output_type": "stream",
     "text": [
      "C:\\Users\\u0138175\\Anaconda3\\envs\\aix360\\lib\\site-packages\\tensorflow\\python\\framework\\dtypes.py:516: FutureWarning: Passing (type, 1) or '1type' as a synonym of type is deprecated; in a future version of numpy, it will be understood as (type, (1,)) / '(1,)type'.\n",
      "  _np_qint8 = np.dtype([(\"qint8\", np.int8, 1)])\n",
      "C:\\Users\\u0138175\\Anaconda3\\envs\\aix360\\lib\\site-packages\\tensorflow\\python\\framework\\dtypes.py:517: FutureWarning: Passing (type, 1) or '1type' as a synonym of type is deprecated; in a future version of numpy, it will be understood as (type, (1,)) / '(1,)type'.\n",
      "  _np_quint8 = np.dtype([(\"quint8\", np.uint8, 1)])\n",
      "C:\\Users\\u0138175\\Anaconda3\\envs\\aix360\\lib\\site-packages\\tensorflow\\python\\framework\\dtypes.py:518: FutureWarning: Passing (type, 1) or '1type' as a synonym of type is deprecated; in a future version of numpy, it will be understood as (type, (1,)) / '(1,)type'.\n",
      "  _np_qint16 = np.dtype([(\"qint16\", np.int16, 1)])\n",
      "C:\\Users\\u0138175\\Anaconda3\\envs\\aix360\\lib\\site-packages\\tensorflow\\python\\framework\\dtypes.py:519: FutureWarning: Passing (type, 1) or '1type' as a synonym of type is deprecated; in a future version of numpy, it will be understood as (type, (1,)) / '(1,)type'.\n",
      "  _np_quint16 = np.dtype([(\"quint16\", np.uint16, 1)])\n",
      "C:\\Users\\u0138175\\Anaconda3\\envs\\aix360\\lib\\site-packages\\tensorflow\\python\\framework\\dtypes.py:520: FutureWarning: Passing (type, 1) or '1type' as a synonym of type is deprecated; in a future version of numpy, it will be understood as (type, (1,)) / '(1,)type'.\n",
      "  _np_qint32 = np.dtype([(\"qint32\", np.int32, 1)])\n",
      "C:\\Users\\u0138175\\Anaconda3\\envs\\aix360\\lib\\site-packages\\tensorflow\\python\\framework\\dtypes.py:525: FutureWarning: Passing (type, 1) or '1type' as a synonym of type is deprecated; in a future version of numpy, it will be understood as (type, (1,)) / '(1,)type'.\n",
      "  np_resource = np.dtype([(\"resource\", np.ubyte, 1)])\n",
      "C:\\Users\\u0138175\\Anaconda3\\envs\\aix360\\lib\\site-packages\\tensorboard\\compat\\tensorflow_stub\\dtypes.py:541: FutureWarning: Passing (type, 1) or '1type' as a synonym of type is deprecated; in a future version of numpy, it will be understood as (type, (1,)) / '(1,)type'.\n",
      "  _np_qint8 = np.dtype([(\"qint8\", np.int8, 1)])\n",
      "C:\\Users\\u0138175\\Anaconda3\\envs\\aix360\\lib\\site-packages\\tensorboard\\compat\\tensorflow_stub\\dtypes.py:542: FutureWarning: Passing (type, 1) or '1type' as a synonym of type is deprecated; in a future version of numpy, it will be understood as (type, (1,)) / '(1,)type'.\n",
      "  _np_quint8 = np.dtype([(\"quint8\", np.uint8, 1)])\n",
      "C:\\Users\\u0138175\\Anaconda3\\envs\\aix360\\lib\\site-packages\\tensorboard\\compat\\tensorflow_stub\\dtypes.py:543: FutureWarning: Passing (type, 1) or '1type' as a synonym of type is deprecated; in a future version of numpy, it will be understood as (type, (1,)) / '(1,)type'.\n",
      "  _np_qint16 = np.dtype([(\"qint16\", np.int16, 1)])\n",
      "C:\\Users\\u0138175\\Anaconda3\\envs\\aix360\\lib\\site-packages\\tensorboard\\compat\\tensorflow_stub\\dtypes.py:544: FutureWarning: Passing (type, 1) or '1type' as a synonym of type is deprecated; in a future version of numpy, it will be understood as (type, (1,)) / '(1,)type'.\n",
      "  _np_quint16 = np.dtype([(\"quint16\", np.uint16, 1)])\n",
      "C:\\Users\\u0138175\\Anaconda3\\envs\\aix360\\lib\\site-packages\\tensorboard\\compat\\tensorflow_stub\\dtypes.py:545: FutureWarning: Passing (type, 1) or '1type' as a synonym of type is deprecated; in a future version of numpy, it will be understood as (type, (1,)) / '(1,)type'.\n",
      "  _np_qint32 = np.dtype([(\"qint32\", np.int32, 1)])\n",
      "C:\\Users\\u0138175\\Anaconda3\\envs\\aix360\\lib\\site-packages\\tensorboard\\compat\\tensorflow_stub\\dtypes.py:550: FutureWarning: Passing (type, 1) or '1type' as a synonym of type is deprecated; in a future version of numpy, it will be understood as (type, (1,)) / '(1,)type'.\n",
      "  np_resource = np.dtype([(\"resource\", np.ubyte, 1)])\n"
     ]
    }
   ],
   "source": [
    "import pandas as pd\n",
    "from pandas import Series\n",
    "import numpy as np\n",
    "import time\n",
    "import random\n",
    "import pickle\n",
    "\n",
    "from sklearn.preprocessing import StandardScaler\n",
    "#MinMaxScaler\n",
    "\n",
    "from sklearn.metrics import roc_auc_score\n",
    "from sklearn.pipeline import FeatureUnion\n",
    "from sklearn.preprocessing import OrdinalEncoder\n",
    "\n",
    "#user specified packages from Teinemaa\n",
    "import EncoderFactory\n",
    "from DatasetManager import DatasetManager\n",
    "\n",
    "\n",
    "\n",
    "#visualisation packages\n",
    "import graphviz\n",
    "from sklearn import tree\n",
    "from tabulate import tabulate\n",
    "import matplotlib.pyplot as plt\n",
    "import seaborn as sns\n",
    "plt.style.use('fivethirtyeight')\n",
    "\n",
    "#import shap\n",
    "import shap\n",
    "\n",
    "#models\n",
    "import xgboost as xgb\n",
    "from sklearn.tree import DecisionTreeClassifier\n",
    "from sklearn.linear_model import LogisticRegression\n",
    "\n",
    "#IBM package models\n",
    "from aix360.algorithms.rbm import FeatureBinarizer\n",
    "from aix360.algorithms.rbm import LogisticRuleRegression\n",
    "\n",
    "#LSTM\n",
    "import logging\n",
    "from collections import OrderedDict\n",
    "from collections import defaultdict\n",
    "\n",
    "import tensorflow as tf\n",
    "from tensorflow.keras.preprocessing.text import Tokenizer\n",
    "from tensorflow.keras.preprocessing.sequence import pad_sequences\n",
    "from tensorflow.keras.layers import Dense, Flatten, Embedding, LSTM, GRU, Dropout, Input, Reshape, Activation, Multiply, TimeDistributed, concatenate, BatchNormalization, Add\n",
    "from tensorflow.keras.models import Model\n",
    "from tensorflow.keras.models import Sequential\n",
    "from tensorflow.keras.optimizers import Nadam\n",
    "from tensorflow.keras.callbacks import EarlyStopping, ModelCheckpoint, ReduceLROnPlateau"
   ]
  },
  {
   "cell_type": "code",
   "execution_count": null,
   "metadata": {
    "hidden": true
   },
   "outputs": [],
   "source": []
  },
  {
   "cell_type": "code",
   "execution_count": 17,
   "metadata": {
    "hidden": true
   },
   "outputs": [],
   "source": [
    "#terminology"
   ]
  },
  {
   "cell_type": "code",
   "execution_count": 18,
   "metadata": {
    "hidden": true
   },
   "outputs": [],
   "source": [
    "params_dir = './params_dir'\n",
    "results_dir = './results' \n",
    "cls_encoding = 'agg'\n",
    "\n",
    "gap = 1\n",
    "n_iter = 1\n",
    "\n",
    "dataset_ref_to_datasets = {\n",
    "    \"bpic2011\": [\"bpic2011_f%s\"%formula for formula in range(1,5)],\n",
    "    \"bpic2015\": [\"bpic2015_%s_f2\"%(municipality) for municipality in range(1,6)],\n",
    "    \"insurance\": [\"insurance_activity\", \"insurance_followup\"],\n",
    "    \"sepsis_cases\": [\"sepsis_cases_1\", \"sepsis_cases_2\", \"sepsis_cases_4\"]\n",
    "}\n",
    "\n",
    "encoding_dict = {\n",
    "    \"laststate\": [\"static\", \"last\"],\n",
    "    \"agg\": [\"static\", \"agg\"],\n",
    "    \"index\": [\"static\", \"index\"],\n",
    "    \"combined\": [\"static\", \"last\", \"agg\"],\n",
    "    \"onehot\": [\"static\", \"onehot\"]\n",
    "}\n",
    "\n",
    "train_ratio = 0.8\n",
    "random_state = 22\n",
    "n_iter = 1"
   ]
  },
  {
   "cell_type": "code",
   "execution_count": null,
   "metadata": {
    "hidden": true
   },
   "outputs": [],
   "source": []
  },
  {
   "cell_type": "code",
   "execution_count": 19,
   "metadata": {
    "hidden": true
   },
   "outputs": [],
   "source": [
    "dataset_ref = 'bpic2015_2_f2'\n",
    "datasets = [dataset_ref] if dataset_ref not in dataset_ref_to_datasets else dataset_ref_to_datasets[dataset_ref]\n",
    "methods = encoding_dict[cls_encoding]"
   ]
  },
  {
   "cell_type": "code",
   "execution_count": null,
   "metadata": {
    "hidden": true
   },
   "outputs": [],
   "source": []
  },
  {
   "cell_type": "code",
   "execution_count": 20,
   "metadata": {
    "hidden": true
   },
   "outputs": [],
   "source": [
    "# print dataset name"
   ]
  },
  {
   "cell_type": "code",
   "execution_count": 21,
   "metadata": {
    "hidden": true
   },
   "outputs": [
    {
     "name": "stdout",
     "output_type": "stream",
     "text": [
      "Dataset: bpic2015_2_f2\n"
     ]
    }
   ],
   "source": [
    "for dataset_name in datasets:\n",
    "    print('Dataset:', dataset_name)"
   ]
  },
  {
   "cell_type": "code",
   "execution_count": null,
   "metadata": {
    "hidden": true
   },
   "outputs": [],
   "source": []
  },
  {
   "cell_type": "code",
   "execution_count": 22,
   "metadata": {
    "hidden": true
   },
   "outputs": [],
   "source": [
    "# read the data"
   ]
  },
  {
   "cell_type": "code",
   "execution_count": 23,
   "metadata": {
    "hidden": true
   },
   "outputs": [],
   "source": [
    "dataset_manager = DatasetManager(dataset_name)\n",
    "data = dataset_manager.read_dataset()\n",
    "cls_encoder_args = {'case_id_col': dataset_manager.case_id_col, \n",
    "                        'static_cat_cols': dataset_manager.static_cat_cols,\n",
    "                        'static_num_cols': dataset_manager.static_num_cols, \n",
    "                        'dynamic_cat_cols': dataset_manager.dynamic_cat_cols,\n",
    "                        'dynamic_num_cols': dataset_manager.dynamic_num_cols, \n",
    "                        'fillna': True}"
   ]
  },
  {
   "cell_type": "code",
   "execution_count": null,
   "metadata": {
    "hidden": true
   },
   "outputs": [],
   "source": []
  },
  {
   "cell_type": "code",
   "execution_count": 24,
   "metadata": {
    "hidden": true
   },
   "outputs": [],
   "source": [
    "# determine min and max (truncated) prefix lengths"
   ]
  },
  {
   "cell_type": "code",
   "execution_count": 25,
   "metadata": {
    "hidden": true
   },
   "outputs": [],
   "source": [
    "min_prefix_length = 1\n",
    "if \"traffic_fines\" in dataset_name:\n",
    "    max_prefix_length = 10\n",
    "elif \"bpic2017\" in dataset_name:\n",
    "    max_prefix_length = min(20, dataset_manager.get_pos_case_length_quantile(data, 0.90))\n",
    "else:\n",
    "    max_prefix_length = min(40, dataset_manager.get_pos_case_length_quantile(data, 0.90))"
   ]
  },
  {
   "cell_type": "code",
   "execution_count": null,
   "metadata": {
    "hidden": true
   },
   "outputs": [],
   "source": []
  },
  {
   "cell_type": "markdown",
   "metadata": {
    "heading_collapsed": true
   },
   "source": [
    "#### EDA"
   ]
  },
  {
   "cell_type": "code",
   "execution_count": 26,
   "metadata": {
    "hidden": true
   },
   "outputs": [],
   "source": [
    "#data types"
   ]
  },
  {
   "cell_type": "code",
   "execution_count": 27,
   "metadata": {
    "hidden": true
   },
   "outputs": [
    {
     "data": {
      "text/plain": [
       "Responsible_actor                                            object\n",
       "SUMleges                                                    float64\n",
       "Case ID                                                      object\n",
       "label                                                        object\n",
       "Aanleg (Uitvoeren werk of werkzaamheid)                     float64\n",
       "Bouw                                                        float64\n",
       "Brandveilig gebruik (melding)                               float64\n",
       "Brandveilig gebruik (vergunning)                            float64\n",
       "Gebiedsbescherming                                          float64\n",
       "Handelen in strijd met regels RO                            float64\n",
       "Inrit/Uitweg                                                float64\n",
       "Kap                                                         float64\n",
       "Milieu (melding)                                            float64\n",
       "Milieu (neutraal wijziging)                                 float64\n",
       "Milieu (omgevingsvergunning beperkte milieutoets)           float64\n",
       "Milieu (vergunning)                                         float64\n",
       "Monument                                                    float64\n",
       "Reclame                                                     float64\n",
       "Sloop                                                       float64\n",
       "Activity                                                     object\n",
       "monitoringResource                                           object\n",
       "question                                                     object\n",
       "org:resource                                                 object\n",
       "time:timestamp                                       datetime64[ns]\n",
       "timesincemidnight                                           float64\n",
       "month                                                       float64\n",
       "weekday                                                     float64\n",
       "hour                                                        float64\n",
       "timesincelastevent                                          float64\n",
       "timesincecasestart                                          float64\n",
       "event_nr                                                    float64\n",
       "open_cases                                                  float64\n",
       "dtype: object"
      ]
     },
     "execution_count": 27,
     "metadata": {},
     "output_type": "execute_result"
    }
   ],
   "source": [
    "data.dtypes"
   ]
  },
  {
   "cell_type": "code",
   "execution_count": 28,
   "metadata": {
    "hidden": true
   },
   "outputs": [],
   "source": [
    "#print first 5 rows of the data"
   ]
  },
  {
   "cell_type": "code",
   "execution_count": 29,
   "metadata": {
    "hidden": true,
    "scrolled": true
   },
   "outputs": [
    {
     "data": {
      "text/html": [
       "<div>\n",
       "<style scoped>\n",
       "    .dataframe tbody tr th:only-of-type {\n",
       "        vertical-align: middle;\n",
       "    }\n",
       "\n",
       "    .dataframe tbody tr th {\n",
       "        vertical-align: top;\n",
       "    }\n",
       "\n",
       "    .dataframe thead th {\n",
       "        text-align: right;\n",
       "    }\n",
       "</style>\n",
       "<table border=\"1\" class=\"dataframe\">\n",
       "  <thead>\n",
       "    <tr style=\"text-align: right;\">\n",
       "      <th></th>\n",
       "      <th>Responsible_actor</th>\n",
       "      <th>SUMleges</th>\n",
       "      <th>Case ID</th>\n",
       "      <th>label</th>\n",
       "      <th>Aanleg (Uitvoeren werk of werkzaamheid)</th>\n",
       "      <th>Bouw</th>\n",
       "      <th>Brandveilig gebruik (melding)</th>\n",
       "      <th>Brandveilig gebruik (vergunning)</th>\n",
       "      <th>Gebiedsbescherming</th>\n",
       "      <th>Handelen in strijd met regels RO</th>\n",
       "      <th>...</th>\n",
       "      <th>org:resource</th>\n",
       "      <th>time:timestamp</th>\n",
       "      <th>timesincemidnight</th>\n",
       "      <th>month</th>\n",
       "      <th>weekday</th>\n",
       "      <th>hour</th>\n",
       "      <th>timesincelastevent</th>\n",
       "      <th>timesincecasestart</th>\n",
       "      <th>event_nr</th>\n",
       "      <th>open_cases</th>\n",
       "    </tr>\n",
       "  </thead>\n",
       "  <tbody>\n",
       "    <tr>\n",
       "      <th>0</th>\n",
       "      <td>560458</td>\n",
       "      <td>0.0000</td>\n",
       "      <td>3871304</td>\n",
       "      <td>regular</td>\n",
       "      <td>0.0</td>\n",
       "      <td>0.0</td>\n",
       "      <td>0.0</td>\n",
       "      <td>0.0</td>\n",
       "      <td>0.0</td>\n",
       "      <td>0.0</td>\n",
       "      <td>...</td>\n",
       "      <td>560532</td>\n",
       "      <td>2010-06-28 22:00:00</td>\n",
       "      <td>1320.0</td>\n",
       "      <td>6.0</td>\n",
       "      <td>0.0</td>\n",
       "      <td>22.0</td>\n",
       "      <td>0.0</td>\n",
       "      <td>0.0</td>\n",
       "      <td>1.0</td>\n",
       "      <td>1.0</td>\n",
       "    </tr>\n",
       "    <tr>\n",
       "      <th>1</th>\n",
       "      <td>560458</td>\n",
       "      <td>84.3000</td>\n",
       "      <td>3461877</td>\n",
       "      <td>regular</td>\n",
       "      <td>0.0</td>\n",
       "      <td>0.0</td>\n",
       "      <td>0.0</td>\n",
       "      <td>0.0</td>\n",
       "      <td>0.0</td>\n",
       "      <td>0.0</td>\n",
       "      <td>...</td>\n",
       "      <td>560458</td>\n",
       "      <td>2010-10-07 22:00:00</td>\n",
       "      <td>1320.0</td>\n",
       "      <td>10.0</td>\n",
       "      <td>3.0</td>\n",
       "      <td>22.0</td>\n",
       "      <td>0.0</td>\n",
       "      <td>0.0</td>\n",
       "      <td>1.0</td>\n",
       "      <td>2.0</td>\n",
       "    </tr>\n",
       "    <tr>\n",
       "      <th>2</th>\n",
       "      <td>560458</td>\n",
       "      <td>1698.2235</td>\n",
       "      <td>3466211</td>\n",
       "      <td>regular</td>\n",
       "      <td>0.0</td>\n",
       "      <td>1.0</td>\n",
       "      <td>0.0</td>\n",
       "      <td>0.0</td>\n",
       "      <td>0.0</td>\n",
       "      <td>0.0</td>\n",
       "      <td>...</td>\n",
       "      <td>560530</td>\n",
       "      <td>2010-10-10 22:00:00</td>\n",
       "      <td>1320.0</td>\n",
       "      <td>10.0</td>\n",
       "      <td>6.0</td>\n",
       "      <td>22.0</td>\n",
       "      <td>0.0</td>\n",
       "      <td>0.0</td>\n",
       "      <td>1.0</td>\n",
       "      <td>4.0</td>\n",
       "    </tr>\n",
       "    <tr>\n",
       "      <th>3</th>\n",
       "      <td>560458</td>\n",
       "      <td>84.3000</td>\n",
       "      <td>3467931</td>\n",
       "      <td>regular</td>\n",
       "      <td>0.0</td>\n",
       "      <td>0.0</td>\n",
       "      <td>0.0</td>\n",
       "      <td>0.0</td>\n",
       "      <td>0.0</td>\n",
       "      <td>0.0</td>\n",
       "      <td>...</td>\n",
       "      <td>560530</td>\n",
       "      <td>2010-10-10 22:00:00</td>\n",
       "      <td>1320.0</td>\n",
       "      <td>10.0</td>\n",
       "      <td>6.0</td>\n",
       "      <td>22.0</td>\n",
       "      <td>0.0</td>\n",
       "      <td>0.0</td>\n",
       "      <td>1.0</td>\n",
       "      <td>4.0</td>\n",
       "    </tr>\n",
       "    <tr>\n",
       "      <th>4</th>\n",
       "      <td>560458</td>\n",
       "      <td>84.3000</td>\n",
       "      <td>3461877</td>\n",
       "      <td>regular</td>\n",
       "      <td>0.0</td>\n",
       "      <td>0.0</td>\n",
       "      <td>0.0</td>\n",
       "      <td>0.0</td>\n",
       "      <td>0.0</td>\n",
       "      <td>0.0</td>\n",
       "      <td>...</td>\n",
       "      <td>560458</td>\n",
       "      <td>2010-10-11 22:00:00</td>\n",
       "      <td>1320.0</td>\n",
       "      <td>10.0</td>\n",
       "      <td>0.0</td>\n",
       "      <td>22.0</td>\n",
       "      <td>5760.0</td>\n",
       "      <td>5760.0</td>\n",
       "      <td>2.0</td>\n",
       "      <td>5.0</td>\n",
       "    </tr>\n",
       "  </tbody>\n",
       "</table>\n",
       "<p>5 rows × 32 columns</p>\n",
       "</div>"
      ],
      "text/plain": [
       "  Responsible_actor   SUMleges  Case ID    label  \\\n",
       "0            560458     0.0000  3871304  regular   \n",
       "1            560458    84.3000  3461877  regular   \n",
       "2            560458  1698.2235  3466211  regular   \n",
       "3            560458    84.3000  3467931  regular   \n",
       "4            560458    84.3000  3461877  regular   \n",
       "\n",
       "   Aanleg (Uitvoeren werk of werkzaamheid)  Bouw  \\\n",
       "0                                      0.0   0.0   \n",
       "1                                      0.0   0.0   \n",
       "2                                      0.0   1.0   \n",
       "3                                      0.0   0.0   \n",
       "4                                      0.0   0.0   \n",
       "\n",
       "   Brandveilig gebruik (melding)  Brandveilig gebruik (vergunning)  \\\n",
       "0                            0.0                               0.0   \n",
       "1                            0.0                               0.0   \n",
       "2                            0.0                               0.0   \n",
       "3                            0.0                               0.0   \n",
       "4                            0.0                               0.0   \n",
       "\n",
       "   Gebiedsbescherming  Handelen in strijd met regels RO  ...  org:resource  \\\n",
       "0                 0.0                               0.0  ...        560532   \n",
       "1                 0.0                               0.0  ...        560458   \n",
       "2                 0.0                               0.0  ...        560530   \n",
       "3                 0.0                               0.0  ...        560530   \n",
       "4                 0.0                               0.0  ...        560458   \n",
       "\n",
       "       time:timestamp  timesincemidnight  month  weekday  hour  \\\n",
       "0 2010-06-28 22:00:00             1320.0    6.0      0.0  22.0   \n",
       "1 2010-10-07 22:00:00             1320.0   10.0      3.0  22.0   \n",
       "2 2010-10-10 22:00:00             1320.0   10.0      6.0  22.0   \n",
       "3 2010-10-10 22:00:00             1320.0   10.0      6.0  22.0   \n",
       "4 2010-10-11 22:00:00             1320.0   10.0      0.0  22.0   \n",
       "\n",
       "   timesincelastevent  timesincecasestart  event_nr open_cases  \n",
       "0                 0.0                 0.0       1.0        1.0  \n",
       "1                 0.0                 0.0       1.0        2.0  \n",
       "2                 0.0                 0.0       1.0        4.0  \n",
       "3                 0.0                 0.0       1.0        4.0  \n",
       "4              5760.0              5760.0       2.0        5.0  \n",
       "\n",
       "[5 rows x 32 columns]"
      ]
     },
     "execution_count": 29,
     "metadata": {},
     "output_type": "execute_result"
    }
   ],
   "source": [
    "data.head()"
   ]
  },
  {
   "cell_type": "code",
   "execution_count": 30,
   "metadata": {
    "hidden": true
   },
   "outputs": [],
   "source": [
    "import pylab as pl"
   ]
  },
  {
   "cell_type": "code",
   "execution_count": 31,
   "metadata": {
    "hidden": true
   },
   "outputs": [],
   "source": [
    "#histogram of the event numbers"
   ]
  },
  {
   "cell_type": "code",
   "execution_count": 32,
   "metadata": {
    "hidden": true
   },
   "outputs": [
    {
     "data": {
      "text/plain": [
       "<matplotlib.lines.Line2D at 0x275d965a160>"
      ]
     },
     "execution_count": 32,
     "metadata": {},
     "output_type": "execute_result"
    },
    {
     "data": {
      "image/png": "[encoded data removed]",
      "text/plain": [
       "<Figure size 864x576 with 1 Axes>"
      ]
     },
     "metadata": {},
     "output_type": "display_data"
    }
   ],
   "source": [
    "histo = data.hist(column='event_nr',bins=30, grid=False, figsize=(12,8), color='#86bf91', zorder=2, rwidth=0.9)\n",
    "pl.title(\"Histogram of event number\")\n",
    "pl.xlabel(\"length of case\")\n",
    "pl.ylabel(\"Cumulative count\")\n",
    "plt.axvline(x=40, ymin=0, ymax=1)"
   ]
  },
  {
   "cell_type": "code",
   "execution_count": 33,
   "metadata": {
    "hidden": true
   },
   "outputs": [],
   "source": [
    "#maximal length of an event"
   ]
  },
  {
   "cell_type": "code",
   "execution_count": 34,
   "metadata": {
    "hidden": true
   },
   "outputs": [
    {
     "data": {
      "text/plain": [
       "132.0"
      ]
     },
     "execution_count": 34,
     "metadata": {},
     "output_type": "execute_result"
    }
   ],
   "source": [
    "max_event = data['event_nr'].max()\n",
    "max_event"
   ]
  },
  {
   "cell_type": "code",
   "execution_count": null,
   "metadata": {
    "hidden": true
   },
   "outputs": [],
   "source": []
  },
  {
   "cell_type": "code",
   "execution_count": null,
   "metadata": {
    "hidden": true
   },
   "outputs": [],
   "source": []
  },
  {
   "cell_type": "markdown",
   "metadata": {
    "heading_collapsed": true
   },
   "source": [
    "#### data preprocessing"
   ]
  },
  {
   "cell_type": "code",
   "execution_count": 35,
   "metadata": {
    "hidden": true
   },
   "outputs": [],
   "source": [
    "# split into training and test\n",
    "train, test = dataset_manager.split_data_strict(data, train_ratio, split=\"temporal\")"
   ]
  },
  {
   "cell_type": "code",
   "execution_count": null,
   "metadata": {
    "hidden": true
   },
   "outputs": [],
   "source": []
  },
  {
   "cell_type": "code",
   "execution_count": 36,
   "metadata": {
    "hidden": true
   },
   "outputs": [],
   "source": [
    "#prefix generation of train and test data"
   ]
  },
  {
   "cell_type": "code",
   "execution_count": 37,
   "metadata": {
    "hidden": true
   },
   "outputs": [
    {
     "name": "stdout",
     "output_type": "stream",
     "text": [
      "prefixing started\n"
     ]
    }
   ],
   "source": [
    "print('prefixing started')\n",
    "dt_train_prefixes = dataset_manager.generate_prefix_data(train, min_prefix_length, max_prefix_length)\n",
    "dt_test_prefixes = dataset_manager.generate_prefix_data(test, min_prefix_length, max_prefix_length)"
   ]
  },
  {
   "cell_type": "code",
   "execution_count": 38,
   "metadata": {
    "hidden": true
   },
   "outputs": [],
   "source": [
    "dt_train_prefixes_original = dt_train_prefixes.copy()\n",
    "dt_test_prefixes_original = dt_test_prefixes.copy()"
   ]
  },
  {
   "cell_type": "code",
   "execution_count": 39,
   "metadata": {
    "hidden": true
   },
   "outputs": [],
   "source": [
    "#get the label of the train and test set\n",
    "test_y = dataset_manager.get_label_numeric(dt_test_prefixes)\n",
    "train_y = dataset_manager.get_label_numeric(dt_train_prefixes)   "
   ]
  },
  {
   "cell_type": "code",
   "execution_count": 40,
   "metadata": {
    "hidden": true
   },
   "outputs": [],
   "source": [
    "auc_totals = []\n",
    "preds_all = []\n",
    "test_y_all = []\n",
    "nr_events_all = []\n",
    "offline_total_times = []\n",
    "online_event_times = []"
   ]
  },
  {
   "cell_type": "code",
   "execution_count": 41,
   "metadata": {
    "hidden": true
   },
   "outputs": [],
   "source": [
    "nr_events_all.extend(list(dataset_manager.get_prefix_lengths(dt_test_prefixes)))  \n",
    "test_y_all.extend(test_y)"
   ]
  },
  {
   "cell_type": "markdown",
   "metadata": {
    "heading_collapsed": true
   },
   "source": [
    "#### feature combiner and columns"
   ]
  },
  {
   "cell_type": "code",
   "execution_count": 106,
   "metadata": {
    "hidden": true
   },
   "outputs": [],
   "source": [
    "feature_combiner = FeatureUnion([(method, EncoderFactory.get_encoder(method, **cls_encoder_args)) for method in methods])\n",
    "feature_combiner.fit(dt_train_prefixes, train_y)\n",
    "    \n",
    "#transform train dataset and add the column names back to the dataframe\n",
    "dt_train_named = feature_combiner.transform(dt_train_prefixes)\n",
    "dt_train_named = pd.DataFrame(dt_train_named)\n",
    "names= feature_combiner.get_feature_names()\n",
    "dt_train_named.columns = names"
   ]
  },
  {
   "cell_type": "code",
   "execution_count": 107,
   "metadata": {
    "hidden": true
   },
   "outputs": [],
   "source": [
    "#transform test dataset\n",
    "dt_test_named = feature_combiner.transform(dt_test_prefixes)\n",
    "dt_test_named = pd.DataFrame(dt_test_named)\n",
    "names= feature_combiner.get_feature_names()\n",
    "dt_test_named.columns = names"
   ]
  },
  {
   "cell_type": "code",
   "execution_count": null,
   "metadata": {
    "hidden": true
   },
   "outputs": [],
   "source": []
  },
  {
   "cell_type": "markdown",
   "metadata": {
    "heading_collapsed": true
   },
   "source": [
    "#### feature selection columns"
   ]
  },
  {
   "cell_type": "code",
   "execution_count": null,
   "metadata": {
    "hidden": true
   },
   "outputs": [],
   "source": []
  },
  {
   "cell_type": "markdown",
   "metadata": {
    "hidden": true
   },
   "source": [
    "aggregation columns"
   ]
  },
  {
   "cell_type": "code",
   "execution_count": 64,
   "metadata": {
    "hidden": true
   },
   "outputs": [],
   "source": [
    "#all columns\n",
    "columns_all = list(dt_train_named.columns)"
   ]
  },
  {
   "cell_type": "code",
   "execution_count": null,
   "metadata": {
    "hidden": true
   },
   "outputs": [],
   "source": []
  },
  {
   "cell_type": "code",
   "execution_count": 65,
   "metadata": {
    "hidden": true
   },
   "outputs": [],
   "source": [
    "#50 columns (10% PC)\n",
    "columns_PC10 =['agg__Activity_08_AWB45_020_2',\n",
    " 'static__Milieu (vergunning)',\n",
    " 'agg__question_28',\n",
    " 'agg__monitoringResource_4634935',\n",
    " 'agg__Activity_08_AWB45_025',\n",
    " 'agg__question_Uitgebreid',\n",
    " 'agg__Activity_08_AWB45_170',\n",
    " 'agg__Activity_01_HOOFD_330',\n",
    " 'agg__org:resource_560530',\n",
    " 'agg__org:resource_4634935',\n",
    " 'agg__Activity_01_HOOFD_193',\n",
    " 'agg__question_other',\n",
    " 'agg__Activity_08_AWB45_060',\n",
    " 'agg__Activity_01_HOOFD_191',\n",
    " 'agg__Activity_08_AWB45_051_0',\n",
    " 'agg__timesincelastevent_sum',\n",
    " 'agg__Activity_01_HOOFD_490_1',\n",
    " 'agg__Activity_01_HOOFD_250',\n",
    " 'agg__Activity_08_AWB45_090_2',\n",
    " 'static__Kap',\n",
    " 'static__Milieu (neutraal wijziging)',\n",
    " 'agg__Activity_08_AWB45_070_3',\n",
    " 'static__Gebiedsbescherming',\n",
    " 'agg__month_std',\n",
    " 'agg__timesincecasestart_std',\n",
    " 'agg__Activity_01_HOOFD_250_1',\n",
    " 'agg__question_42',\n",
    " 'agg__Activity_01_HOOFD_130',\n",
    " 'agg__Activity_01_HOOFD_250_2',\n",
    " 'agg__weekday_std',\n",
    " 'agg__Activity_08_OLO_100',\n",
    " 'agg__Activity_01_HOOFD_190_1',\n",
    " 'static__Responsible_actor_560530',\n",
    " 'agg__Activity_11_AH_II_010',\n",
    " 'agg__Activity_08_AWB45_050',\n",
    " 'agg__timesincecasestart_mean',\n",
    " 'agg__weekday_max',\n",
    " 'agg__timesincelastevent_max',\n",
    " 'agg__Activity_08_AWB45_090_1',\n",
    " 'agg__timesincelastevent_std',\n",
    " 'agg__Activity_08_AWB45_020_0',\n",
    " 'agg__timesincecasestart_sum',\n",
    " 'agg__open_cases_std',\n",
    " 'agg__timesincelastevent_mean',\n",
    " 'agg__Activity_01_HOOFD_190_2',\n",
    " 'static__Inrit/Uitweg',\n",
    " 'agg__Activity_01_HOOFD_470',\n",
    " 'agg__Activity_01_HOOFD_510_2',\n",
    " 'agg__month_min',\n",
    " 'agg__Activity_01_HOOFD_495']"
   ]
  },
  {
   "cell_type": "code",
   "execution_count": 66,
   "metadata": {
    "hidden": true
   },
   "outputs": [],
   "source": [
    "#22 columns (15% correlation)\n",
    "columns_PC15 = ['agg__Activity_08_AWB45_020_2',\n",
    " 'static__Milieu (vergunning)',\n",
    " 'agg__question_28',\n",
    " 'agg__monitoringResource_4634935',\n",
    " 'agg__Activity_08_AWB45_025',\n",
    " 'agg__question_Uitgebreid',\n",
    " 'agg__Activity_08_AWB45_170',\n",
    " 'agg__Activity_01_HOOFD_330',\n",
    " 'agg__org:resource_560530',\n",
    " 'agg__org:resource_4634935',\n",
    " 'agg__Activity_01_HOOFD_193',\n",
    " 'agg__question_other',\n",
    " 'agg__Activity_08_AWB45_060',\n",
    " 'agg__Activity_01_HOOFD_191',\n",
    " 'agg__Activity_08_AWB45_051_0',\n",
    " 'agg__timesincelastevent_sum',\n",
    " 'agg__Activity_01_HOOFD_490_1',\n",
    " 'agg__Activity_01_HOOFD_250',\n",
    " 'agg__Activity_08_AWB45_090_2',\n",
    " 'static__Kap',\n",
    " 'static__Milieu (neutraal wijziging)',\n",
    " 'agg__Activity_01_HOOFD_490_2']"
   ]
  },
  {
   "cell_type": "code",
   "execution_count": null,
   "metadata": {
    "hidden": true
   },
   "outputs": [],
   "source": []
  },
  {
   "cell_type": "code",
   "execution_count": 67,
   "metadata": {
    "hidden": true
   },
   "outputs": [],
   "source": [
    "#12 columns (20% correlation)\n",
    "columns_PC20 = ['agg__Activity_08_AWB45_020_2',\n",
    " 'static__Milieu (vergunning)',\n",
    " 'agg__question_28',\n",
    " 'agg__monitoringResource_4634935',\n",
    " 'agg__Activity_08_AWB45_025',\n",
    " 'agg__question_Uitgebreid',\n",
    " 'agg__Activity_08_AWB45_170',\n",
    " 'agg__Activity_01_HOOFD_330',\n",
    " 'agg__org:resource_560530',\n",
    " 'agg__org:resource_4634935',\n",
    " 'agg__Activity_01_HOOFD_193',\n",
    " 'agg__question_other']"
   ]
  },
  {
   "cell_type": "code",
   "execution_count": null,
   "metadata": {
    "hidden": true
   },
   "outputs": [],
   "source": []
  },
  {
   "cell_type": "markdown",
   "metadata": {
    "heading_collapsed": true
   },
   "source": [
    "#### values to change"
   ]
  },
  {
   "cell_type": "code",
   "execution_count": null,
   "metadata": {
    "hidden": true
   },
   "outputs": [],
   "source": []
  },
  {
   "cell_type": "code",
   "execution_count": 68,
   "metadata": {
    "hidden": true
   },
   "outputs": [],
   "source": [
    "#############################\n",
    "#######VALUES TO CHANGE######\n",
    "#############################"
   ]
  },
  {
   "cell_type": "code",
   "execution_count": 108,
   "metadata": {
    "hidden": true
   },
   "outputs": [],
   "source": [
    "columns = columns_all"
   ]
  },
  {
   "cell_type": "code",
   "execution_count": 109,
   "metadata": {
    "hidden": true
   },
   "outputs": [],
   "source": [
    "column_selection = 'all'"
   ]
  },
  {
   "cell_type": "code",
   "execution_count": null,
   "metadata": {
    "hidden": true
   },
   "outputs": [],
   "source": []
  },
  {
   "cell_type": "code",
   "execution_count": 110,
   "metadata": {
    "hidden": true
   },
   "outputs": [],
   "source": [
    "cls_method ='glrm'\n",
    "method_name = \"%s_%s\"%(column_selection, cls_encoding)"
   ]
  },
  {
   "cell_type": "code",
   "execution_count": 111,
   "metadata": {
    "hidden": true
   },
   "outputs": [],
   "source": [
    "dt_train_named = dt_train_named[columns]\n",
    "dt_test_named  = dt_test_named[columns]"
   ]
  },
  {
   "cell_type": "code",
   "execution_count": null,
   "metadata": {
    "hidden": true
   },
   "outputs": [],
   "source": []
  },
  {
   "cell_type": "code",
   "execution_count": 112,
   "metadata": {
    "hidden": true
   },
   "outputs": [],
   "source": [
    "if gap > 1:\n",
    "    outfile = os.path.join(results_dir, \"performance_results_%s_%s_%s_gap%s.csv\" % (cls_method, dataset_name, method_name, gap))\n",
    "else:\n",
    "    outfile = os.path.join(results_dir, \"performance_results_%s_%s_%s.csv\" % (cls_method, dataset_name, method_name))"
   ]
  },
  {
   "cell_type": "code",
   "execution_count": null,
   "metadata": {
    "hidden": true
   },
   "outputs": [],
   "source": []
  },
  {
   "cell_type": "code",
   "execution_count": 113,
   "metadata": {
    "hidden": true
   },
   "outputs": [],
   "source": [
    "# load optimal params"
   ]
  },
  {
   "cell_type": "code",
   "execution_count": 114,
   "metadata": {
    "hidden": true
   },
   "outputs": [
    {
     "name": "stdout",
     "output_type": "stream",
     "text": [
      "{'lambda0': 0.002506433922159593, 'lambda1': 0.002304030840029294}\n"
     ]
    }
   ],
   "source": [
    "optimal_params_filename = os.path.join(params_dir, \"optimal_params_%s_%s_%s.pickle\" % (cls_method, dataset_name, method_name))\n",
    "if not os.path.isfile(optimal_params_filename) or os.path.getsize(optimal_params_filename) <= 0:\n",
    "    print('problem')\n",
    "\n",
    "with open(optimal_params_filename, \"rb\") as fin:\n",
    "    args = pickle.load(fin)\n",
    "    print(args)"
   ]
  },
  {
   "cell_type": "code",
   "execution_count": null,
   "metadata": {
    "hidden": true
   },
   "outputs": [],
   "source": []
  },
  {
   "cell_type": "code",
   "execution_count": null,
   "metadata": {
    "hidden": true
   },
   "outputs": [],
   "source": []
  },
  {
   "cell_type": "markdown",
   "metadata": {
    "heading_collapsed": true
   },
   "source": [
    "### LLM"
   ]
  },
  {
   "cell_type": "markdown",
   "metadata": {
    "hidden": true
   },
   "source": [
    "#### model"
   ]
  },
  {
   "cell_type": "code",
   "execution_count": null,
   "metadata": {
    "hidden": true
   },
   "outputs": [],
   "source": []
  },
  {
   "cell_type": "code",
   "execution_count": 76,
   "metadata": {
    "hidden": true
   },
   "outputs": [],
   "source": [
    "current_args = args "
   ]
  },
  {
   "cell_type": "code",
   "execution_count": 77,
   "metadata": {
    "hidden": true
   },
   "outputs": [
    {
     "data": {
      "text/plain": [
       "{'max_depth': 1, 'min_samples_leaf': 310}"
      ]
     },
     "execution_count": 77,
     "metadata": {},
     "output_type": "execute_result"
    }
   ],
   "source": [
    "args"
   ]
  },
  {
   "cell_type": "code",
   "execution_count": 80,
   "metadata": {
    "hidden": true,
    "scrolled": true
   },
   "outputs": [],
   "source": [
    "#dt_train_named = dt_train_named[columns]\n",
    "#first, create,train and fit a DecisionTreeClassifier\n",
    "cls = DecisionTreeClassifier(criterion= 'entropy', \n",
    "                                 max_depth= args['max_depth'], \n",
    "                                 min_samples_leaf= args['min_samples_leaf'], \n",
    "                                 random_state = random_state)\n",
    "cls.fit(dt_train_named,train_y)\n",
    "dt_test_named = dt_test_named[columns]\n",
    "    \n",
    "#add an extra column with the number of the leave node\n",
    "#these can be seen as the homogeneuous segments (buckets)\n",
    "dt_train_named['cluster'] = cls.apply(dt_train_named)\n",
    "dt_test_named['cluster'] = cls.apply(dt_test_named)\n",
    "cluster_number = list(dt_test_named['cluster'] )\n",
    "train_y_concat = pd.DataFrame(train_y)\n",
    "train_y_concat = train_y_concat.rename(columns={train_y_concat.columns[0]:'label'})\n",
    "dt_train_named = pd.concat([dt_train_named,train_y_concat], axis=1)\n",
    "test_y_concat  = pd.DataFrame(test_y)\n",
    "test_y_concat  = test_y_concat.rename(columns={test_y_concat.columns[0]:'label'})\n",
    "dt_test_named = pd.concat([dt_test_named, test_y_concat], axis=1)\n",
    "    \n",
    "#list of leaves that contain test data \n",
    "leaves = list((dt_test_named['cluster'].unique()))\n",
    "a = np.array(cluster_number)\n",
    "b = np.array(nr_events_all)\n",
    "\n",
    "#reorder the event numbers\n",
    "event_list = []\n",
    "for i in leaves:\n",
    "    event_list.extend(b[a==i].tolist())"
   ]
  },
  {
   "cell_type": "code",
   "execution_count": 81,
   "metadata": {
    "hidden": true
   },
   "outputs": [
    {
     "data": {
      "text/plain": [
       "[1, 2]"
      ]
     },
     "execution_count": 81,
     "metadata": {},
     "output_type": "execute_result"
    }
   ],
   "source": [
    "leaves"
   ]
  },
  {
   "cell_type": "code",
   "execution_count": 82,
   "metadata": {
    "hidden": true
   },
   "outputs": [
    {
     "name": "stdout",
     "output_type": "stream",
     "text": [
      "model after DT started\n",
      "| length test data     |  5372 |\n",
      "| length training data | 22221 |\n",
      "0.8512255836937279\n",
      "results are up\n"
     ]
    }
   ],
   "source": [
    "classifiers = []\n",
    "aucs = []\n",
    "auc_totals = []\n",
    "preds_all = []\n",
    "test_y_all = []\n",
    "print('model after DT started')\n",
    "avg_runtime = []\n",
    "start = time.time()\n",
    "for i in leaves:  \n",
    "    #only take the data from the leave, seperate the label from the independent features\n",
    "    data_train_x = dt_train_named[dt_train_named['cluster']==i].copy()\n",
    "    data_train_y = data_train_x['label'].copy()\n",
    "    \n",
    "    data_test_x  = dt_test_named[dt_test_named['cluster']==i].copy()\n",
    "    data_test_y  = data_test_x['label'].copy()\n",
    "        \n",
    "    #drop the columns\n",
    "    data_train_x = data_train_x.drop('label', axis=1)\n",
    "    data_train_x = data_train_x.drop('cluster', axis=1)\n",
    "    data_test_x = data_test_x.drop('label', axis=1)\n",
    "    data_test_x = data_test_x.drop('cluster', axis=1)\n",
    "        \n",
    "    \n",
    "    #if there is only one label in the training data, no need to create a leaf model\n",
    "    if len(set(data_train_y))<2:\n",
    "        pred = [data_train_y.iloc[0]]*len(data_test_y)\n",
    "        preds_all.extend(pred)\n",
    "        test_y_all.extend(data_test_y)\n",
    "        classifiers.append('only one training label')\n",
    "        try:\n",
    "            auc = roc_auc_score(data_test_y,preds)\n",
    "            aucs.append(auc)\n",
    "        except:\n",
    "            #perfect classifcation so an AUC of 1\n",
    "            auc=1\n",
    "            aucs.append(auc)\n",
    "                \n",
    "    else:  \n",
    "        #print length of test and training data of the leaf node\n",
    "        l = [[\"length test data\", len(data_test_x)], [\"length training data\", len(dt_train_named)]]\n",
    "        table = tabulate(l, tablefmt='orgtbl')\n",
    "        print(table)\n",
    "        test_y_all.extend(data_test_y)\n",
    "            \n",
    "        if cls_method == 'llm':\n",
    "                scaler = StandardScaler()\n",
    "                data_train_x2= scaler.fit_transform(data_train_x)\n",
    "                data_test_x2= scaler.transform(data_test_x)\n",
    "                data_train_x = pd.DataFrame(data_train_x2, columns = data_train_x.columns)\n",
    "                data_test_x = pd.DataFrame(data_test_x2, columns = data_test_x.columns)\n",
    "                preds_pos_label_idx = np.where(cls.classes_ == 1)[0][0]\n",
    "                logreg = LogisticRegression(max_iter= 10000000, \n",
    "                                            solver='saga', \n",
    "                                            penalty= 'elasticnet',\n",
    "                                            l1_ratio = 0.9,\n",
    "                                            n_jobs =-1)     \n",
    "                logreg.fit(data_train_x, data_train_y)\n",
    "                \n",
    "                pred = logreg.predict_proba(data_test_x)\n",
    "                pred = pred[:,preds_pos_label_idx]\n",
    "                odds = np.exp(logreg.coef_[0])\n",
    "                odds = np.exp(logreg.coef_[0])\n",
    "                logmodel = pd.DataFrame(odds, pd.DataFrame(data_train_x).columns, columns=['coef']).sort_values(by='coef', ascending=False)\n",
    "                coefs = {\"coef\": [\"coef_%s\"%i]}\n",
    "                coef = coefs['coef'][0]\n",
    "                coefhelp = logmodel\n",
    "                exec(coef + \"=coefhelp\")\n",
    "                        \n",
    "                #this seperation is solely to be able to calculate the AUC for every leaf node model\n",
    "                if len(set(data_test_y))>1:\n",
    "                    auc = roc_auc_score(data_test_y, pred)\n",
    "                    print(auc)\n",
    "                    aucs.append(auc)\n",
    "                    preds_all.extend(pred)\n",
    "                    classifiers.append('leaf model')                    \n",
    "                            \n",
    "                elif len(set(data_test_y))==1:\n",
    "                    auc = 1\n",
    "                    aucs.append(auc)\n",
    "                    preds_all.extend(pred)\n",
    "                    classifiers.append('leaf model')\n",
    "                    \n",
    "total_time = time.time() - start\n",
    "avg_runtime.append(total_time/ (len(dt_train_named)+len(dt_test_named)))\n",
    "\n",
    "auc_total = roc_auc_score(test_y_all, preds_all)\n",
    "    \n",
    "    \n",
    "\n",
    "print(\"results are up\")"
   ]
  },
  {
   "cell_type": "code",
   "execution_count": 83,
   "metadata": {
    "hidden": true
   },
   "outputs": [],
   "source": [
    "cf = []\n",
    "for i in leaves:\n",
    "    coefficients = \"coef_%s\"%i\n",
    "    cf.append(coefficients)"
   ]
  },
  {
   "cell_type": "code",
   "execution_count": 84,
   "metadata": {
    "hidden": true
   },
   "outputs": [
    {
     "data": {
      "text/plain": [
       "['coef_1', 'coef_2']"
      ]
     },
     "execution_count": 84,
     "metadata": {},
     "output_type": "execute_result"
    }
   ],
   "source": [
    "cf"
   ]
  },
  {
   "cell_type": "code",
   "execution_count": 85,
   "metadata": {
    "hidden": true
   },
   "outputs": [],
   "source": [
    "with open(outfile, 'w') as fout:\n",
    "        fout.write(\"%s;%s;%s;%s;%s;%s\\n\"%(\"dataset\", \"method\", \"cls\", \"nr_events\", \"metric\", \"score\"))\n",
    "        fout.write(\"%s;%s;%s;%s;%s;%s\\n\"%(dataset_name, method_name, cls_method,-1, \"runtime_total\", total_time))\n",
    "        fout.write(\"%s;%s;%s;%s;%s;%s\\n\"%(dataset_name, method_name, cls_method,-1, \"runtime_avg\", avg_runtime[0]))  \n",
    "        dt_results = pd.DataFrame({\"actual\": test_y_all, \"predicted\": preds_all, \"nr_events\": event_list})\n",
    "        for nr_events, group in dt_results.groupby(\"nr_events\"):\n",
    "            if len(set(group.actual)) < 2:\n",
    "                fout.write(\"%s;%s;%s;%s;%s;%s;%s\\n\"%(dataset_name, method_name, cls_method, nr_events,-1, \"auc\", np.nan))\n",
    "            else:\n",
    "                fout.write(\"%s;%s;%s;%s;%s;%s;%s\\n\"%(dataset_name, method_name, cls_method, nr_events,-1, \"auc\", roc_auc_score(group.actual, group.predicted)))\n",
    "        fout.write(\"%s;%s;%s;%s;%s;%s\\n\"%(dataset_name, method_name, cls_method,-1, \"auc\", roc_auc_score(dt_results.actual, dt_results.predicted)))\n",
    "        fout.write(\"%s\\n\"%(aucs))\n",
    "        fout.write(\"%s\\n\"%(coef_1))"
   ]
  },
  {
   "cell_type": "code",
   "execution_count": 86,
   "metadata": {
    "hidden": true
   },
   "outputs": [
    {
     "data": {
      "text/plain": [
       "'PC15_agg'"
      ]
     },
     "execution_count": 86,
     "metadata": {},
     "output_type": "execute_result"
    }
   ],
   "source": [
    "method_name"
   ]
  },
  {
   "cell_type": "code",
   "execution_count": 87,
   "metadata": {
    "hidden": true
   },
   "outputs": [
    {
     "data": {
      "text/plain": [
       "0.9159843849460405"
      ]
     },
     "execution_count": 87,
     "metadata": {},
     "output_type": "execute_result"
    }
   ],
   "source": [
    "auc_total"
   ]
  },
  {
   "cell_type": "markdown",
   "metadata": {
    "hidden": true
   },
   "source": [
    "aucs"
   ]
  },
  {
   "cell_type": "code",
   "execution_count": null,
   "metadata": {
    "hidden": true
   },
   "outputs": [],
   "source": [
    "leaves"
   ]
  },
  {
   "cell_type": "code",
   "execution_count": null,
   "metadata": {
    "hidden": true
   },
   "outputs": [],
   "source": [
    "classifiers"
   ]
  },
  {
   "cell_type": "code",
   "execution_count": null,
   "metadata": {
    "hidden": true
   },
   "outputs": [],
   "source": [
    "#plot the decison tree\n",
    "# DOT data\n",
    "dot_data = tree.export_graphviz(cls, out_file=None, \n",
    "                                feature_names=dt_train_named[columns].columns,  \n",
    "                                class_names=['regular','deviant'],\n",
    "                                filled=True)"
   ]
  },
  {
   "cell_type": "code",
   "execution_count": null,
   "metadata": {
    "hidden": true
   },
   "outputs": [],
   "source": [
    "# Draw graph\n",
    "\n",
    "graph = graphviz.Source(dot_data, format=\"png\") \n",
    "graph.render(\"llm_agg_bpic2015_2_f2_DT.png\")"
   ]
  },
  {
   "cell_type": "code",
   "execution_count": null,
   "metadata": {
    "hidden": true
   },
   "outputs": [],
   "source": [
    "#textual representation of the DT\n",
    "text_representation = tree.export_text(cls)\n",
    "print(text_representation)"
   ]
  },
  {
   "cell_type": "code",
   "execution_count": null,
   "metadata": {
    "hidden": true
   },
   "outputs": [],
   "source": [
    "#define decision rules per leaf node\n",
    "\n",
    "n_nodes = cls.tree_.node_count\n",
    "children_left = cls.tree_.children_left\n",
    "children_right = cls.tree_.children_right\n",
    "feature = cls.tree_.feature\n",
    "threshold = cls.tree_.threshold\n",
    "\n",
    "def find_path(node_numb, path, x):\n",
    "        path.append(node_numb)\n",
    "        if node_numb == x:\n",
    "            return True\n",
    "        left = False\n",
    "        right = False\n",
    "        if (children_left[node_numb] !=-1):\n",
    "            left = find_path(children_left[node_numb], path, x)\n",
    "        if (children_right[node_numb] !=-1):\n",
    "            right = find_path(children_right[node_numb], path, x)\n",
    "        if left or right :\n",
    "            return True\n",
    "        path.remove(node_numb)\n",
    "        return False\n",
    "def get_rule(path, column_names):\n",
    "    mask = ''\n",
    "    for index, node in enumerate(path):\n",
    "        #We check if we are not in the leaf\n",
    "        if index!=len(path)-1:\n",
    "            # Do we go under or over the threshold ?\n",
    "            if (children_left[node] == path[index+1]):\n",
    "                mask += \"(df['{}']<= {}) \\t \".format(column_names[feature[node]], threshold[node])\n",
    "            else:\n",
    "                mask += \"(df['{}']> {}) \\t \".format(column_names[feature[node]], threshold[node])\n",
    "    # We insert the & at the right places\n",
    "    mask = mask.replace(\"\\t\", \"&\", mask.count(\"\\t\") - 1)\n",
    "    mask = mask.replace(\"\\t\", \"\")\n",
    "    return mask"
   ]
  },
  {
   "cell_type": "code",
   "execution_count": null,
   "metadata": {
    "hidden": true
   },
   "outputs": [],
   "source": [
    "#for all the leave nodes:\n",
    "\n",
    "# Leave node\n",
    "leave_id = cls.apply(dt_train_named[columns])\n",
    "paths ={}\n",
    "for leaf in np.unique(leave_id):\n",
    "    path_leaf = []\n",
    "    find_path(0, path_leaf, leaf)\n",
    "    paths[leaf] = np.unique(np.sort(path_leaf))\n",
    "rules1 = {}\n",
    "for key in paths:\n",
    "    rules1[key] = get_rule(paths[key], dt_train_named.columns)\n",
    "\n",
    "rules1"
   ]
  },
  {
   "cell_type": "code",
   "execution_count": null,
   "metadata": {
    "hidden": true
   },
   "outputs": [],
   "source": []
  },
  {
   "cell_type": "code",
   "execution_count": null,
   "metadata": {
    "hidden": true
   },
   "outputs": [],
   "source": []
  },
  {
   "cell_type": "code",
   "execution_count": null,
   "metadata": {
    "hidden": true
   },
   "outputs": [],
   "source": [
    "coef_1"
   ]
  },
  {
   "cell_type": "code",
   "execution_count": null,
   "metadata": {
    "hidden": true
   },
   "outputs": [],
   "source": []
  },
  {
   "cell_type": "markdown",
   "metadata": {
    "heading_collapsed": true
   },
   "source": [
    "### GLRM"
   ]
  },
  {
   "cell_type": "code",
   "execution_count": 115,
   "metadata": {
    "hidden": true
   },
   "outputs": [
    {
     "name": "stdout",
     "output_type": "stream",
     "text": [
      "results are up\n"
     ]
    },
    {
     "name": "stderr",
     "output_type": "stream",
     "text": [
      "The max_iter was reached which means the coef_ did not converge\n"
     ]
    }
   ],
   "source": [
    "classifiers = []\n",
    "aucs = []\n",
    "auc_totals = []\n",
    "preds_all = []\n",
    "test_y_all = []\n",
    "nr_events_all = []\n",
    "avg_runtime = []\n",
    "start = time.time()\n",
    "dt_train_named = dt_train_named[columns]\n",
    "dt_test_named = dt_test_named[columns]\n",
    "nr_events_all.extend(list(dataset_manager.get_prefix_lengths(dt_test_prefixes)))\n",
    "len_testdata = len(dt_test_named)\n",
    "len_traindata = len(dt_train_named)\n",
    "test_y_all.extend(test_y)\n",
    "  \n",
    "    #Featurebinarizer\n",
    "\"We assume that all features Xj have been binarized to take values in {0, 1}. Categorical and numerical features were binarized\" \n",
    "\"using sample deciles as thresholds for numerical features.\"\n",
    "                \n",
    "\"For categorical features, this is achieved through the usual “one-hot” coding into indicators Xj = x for all categories\"\n",
    "\"x as well as their negations Xj != x  (From GLRM, Dennis Wei)\"\n",
    "\n",
    "\"==> The categorical features have already been onehotencoded by Teinemaa. Therefore, the negations will not be added as features.\"\n",
    "\"This should not cause any problems as one of the parameters of the featurebinarizer allows you to exclude these negations\"\n",
    "        \n",
    "\"Numerical features are binarized through bi-directional comparisons to a set of thresholds, e.g., Xj ≤ 1, Xj ≤ 2.3 and Xj > 1, Xj > 2.3\"\n",
    "\"ordinal features can optionally be standardized\"\n",
    "            \n",
    "\"Then what does it do next?\"\n",
    "\"Once the column generation algorithm terminates, we solve the log-likelihood problem (4) one last time to de-bias the solution.\"\n",
    "\"In this final run we restrict conjunctions to the ones with β±k > 10−5 in the last round and we drop the regularization term in the objective.\"\n",
    "fb = FeatureBinarizer(negations=False, returnOrd=True, threshStr=False, numThresh=10 )\n",
    "'threshStr= False :Convert thresholds on ordinal features to strings'\n",
    "'returnOrd= True: return standardized ordinal features'\n",
    "'negations= False: do not compute negations of categorical features'\n",
    "'numTresh: raising this number will improve the performance'\n",
    "dt_train_named, dfTrainStd = fb.fit_transform(dt_train_named)\n",
    "dt_test_named, dfTestStd = fb.transform(dt_test_named)\n",
    "'lambda0 = 0.001  : Regularization - fixed cost of each rule'\n",
    "'lambda1 = 0.00005: Regularization - additional cost of each literal in rule'\n",
    "'iterMax= pow(1000,1000): Column generation - maximum number of iterations, intentionally very high numberoes not add much to runtime'           \n",
    "cls= LogisticRuleRegression(lambda0=args['lambda0'], lambda1=args['lambda1'], iterMax= 10000)   \n",
    "    # Train, print, and evaluate model\n",
    "cls.fit(dt_train_named, pd.Series(train_y))\n",
    "\n",
    "                \n",
    "pred = cls.predict_proba(dt_test_named)\n",
    "preds_all.extend(pred)      \n",
    "\n",
    "total_time = time.time() - start\n",
    "avg_runtime.append(total_time/ (len_traindata+len_testdata))\n",
    "auc_total = roc_auc_score(test_y_all, preds_all)\n",
    "   \n",
    "print(\"results are up\")"
   ]
  },
  {
   "cell_type": "code",
   "execution_count": 124,
   "metadata": {
    "hidden": true
   },
   "outputs": [],
   "source": [
    "with open(outfile, 'w') as fout:\n",
    "        fout.write(\"%s;%s;%s;%s;%s;%s\\n\"%(\"dataset\", \"method\", \"cls\", \"nr_events\", \"metric\", \"score\"))\n",
    "        fout.write(\"%s;%s;%s;%s;%s;%s\\n\"%(dataset_name, method_name, cls_method,-1, \"runtime_total\", total_time))\n",
    "        fout.write(\"%s;%s;%s;%s;%s;%s\\n\"%(dataset_name, method_name, cls_method,-1, \"runtime_avg\", avg_runtime[0]))  \n",
    "        dt_results = pd.DataFrame({\"actual\": test_y_all, \"predicted\": preds_all, \"nr_events\": nr_events_all})\n",
    "        for nr_events, group in dt_results.groupby(\"nr_events\"):\n",
    "            if len(set(group.actual)) < 2:\n",
    "                fout.write(\"%s;%s;%s;%s;%s;%s;%s\\n\"%(dataset_name, method_name, cls_method, nr_events,-1, \"auc\", np.nan))\n",
    "            else:\n",
    "                fout.write(\"%s;%s;%s;%s;%s;%s;%s\\n\"%(dataset_name, method_name, cls_method, nr_events,-1, \"auc\", roc_auc_score(group.actual, group.predicted)))\n",
    "        fout.write(\"%s;%s;%s;%s;%s;%s\\n\"%(dataset_name, method_name, cls_method,-1, \"auc\", roc_auc_score(dt_results.actual, dt_results.predicted)))\n",
    "        fout.write(\"%s\\n\"%(explanations))"
   ]
  },
  {
   "cell_type": "code",
   "execution_count": 116,
   "metadata": {
    "hidden": true
   },
   "outputs": [
    {
     "data": {
      "text/plain": [
       "5789"
      ]
     },
     "execution_count": 116,
     "metadata": {},
     "output_type": "execute_result"
    }
   ],
   "source": [
    "len(nr_events_all)"
   ]
  },
  {
   "cell_type": "code",
   "execution_count": 117,
   "metadata": {
    "hidden": true
   },
   "outputs": [
    {
     "data": {
      "text/plain": [
       "0.9565277139766704"
      ]
     },
     "execution_count": 117,
     "metadata": {},
     "output_type": "execute_result"
    }
   ],
   "source": [
    "auc_total"
   ]
  },
  {
   "cell_type": "code",
   "execution_count": 122,
   "metadata": {
    "hidden": true
   },
   "outputs": [],
   "source": [
    "explanations = cls.explain()"
   ]
  },
  {
   "cell_type": "code",
   "execution_count": 119,
   "metadata": {
    "hidden": true
   },
   "outputs": [],
   "source": [
    "explanations = cls.explain()"
   ]
  },
  {
   "cell_type": "code",
   "execution_count": 120,
   "metadata": {
    "hidden": true
   },
   "outputs": [
    {
     "name": "stdout",
     "output_type": "stream",
     "text": [
      "(intercept)\n",
      "agg__Activity_08_AWB45_010  \n",
      "agg__Activity_08_AWB45_020_2 <= 0.00\n",
      "agg__Activity_08_AWB45_020_2 <= 0.00 AND agg__org:resource_4634935 <= 0.00\n",
      "agg__Activity_01_HOOFD_260 <= 0.00 AND agg__org:resource_560530 <= 9.00 AND agg__open_cases_std <= 11.38\n",
      "agg__Activity_01_HOOFD_195  \n",
      "static__Milieu (vergunning)  \n",
      "static__Kap  \n",
      "static__SUMleges <= 0.00\n",
      "agg__Activity_08_AWB45_020_2 <= 0.00 AND agg__monitoringResource_4634935 <= 1.00\n",
      "static__SUMleges <= 792.42 AND agg__Activity_08_AWB45_020_2 <= 0.00\n",
      "agg__timesincecasestart_mean <= 27527.86\n",
      "agg__org:resource_560532 <= 5.00\n",
      "static__Bouw  \n",
      "agg__question_EMPTY <= 9.00\n",
      "agg__Activity_08_AWB45_020_2 <= 0.00 AND agg__monitoringResource_560519 <= 0.00\n",
      "agg__event_nr_max <= 23.00\n",
      "agg__timesincecasestart_mean <= 19024.56\n",
      "agg__monitoringResource_560458 <= 0.00\n",
      "agg__org:resource_560530 <= 0.00\n",
      "agg__weekday_max <= 2.00\n",
      "static__SUMleges <= 2051.19 AND agg__Activity_08_AWB45_020_2 <= 0.00\n",
      "agg__monitoringResource_560458 <= 4.00\n",
      "agg__Activity_01_HOOFD_200 <= 0.00\n",
      "agg__timesincecasestart_sum <= 220320.00\n",
      "agg__Activity_08_AWB45_020_2 <= 0.00 AND agg__monitoringResource_4634935 <= 0.00\n",
      "agg__question_EMPTY <= 7.00\n",
      "agg__Activity_05_EIND_010   AND agg__Activity_08_AWB45_020_2 <= 0.00\n",
      "agg__Activity_01_HOOFD_030_2 <= 0.00\n",
      "agg__Activity_01_HOOFD_015   AND agg__Activity_08_AWB45_020_2 <= 0.00\n",
      "agg__timesincecasestart_sum <= 399616.82\n",
      "agg__Activity_08_AWB45_020_2 <= 0.00 AND agg__weekday_mean <= 2.77\n"
     ]
    }
   ],
   "source": [
    "for i in range(0,len(explanations)):\n",
    "    print(explanations['rule'].iloc[i])"
   ]
  },
  {
   "cell_type": "code",
   "execution_count": 121,
   "metadata": {
    "hidden": true
   },
   "outputs": [
    {
     "name": "stdout",
     "output_type": "stream",
     "text": [
      "5.279367362814574\n",
      "18.041489490323823\n",
      "-16.1145763595609\n",
      "-9.209880952855576\n",
      "4.9900001404078695\n",
      "-4.8664147996827785\n",
      "3.996777724161332\n",
      "-2.6715074003182235\n",
      "2.527223790673218\n",
      "-2.3205815143183086\n",
      "-2.259323446600872\n",
      "1.91649182400554\n",
      "1.815943984503405\n",
      "1.3903380223708544\n",
      "1.374563783401942\n",
      "-1.1900420595943897\n",
      "1.1734461449199363\n",
      "1.1007546683145464\n",
      "1.0925088437945285\n",
      "1.0881859843252006\n",
      "-1.025037856706845\n",
      "-0.38721194242563145\n",
      "-0.38229969770103395\n",
      "0.37243625135299174\n",
      "-0.2907464599403768\n",
      "0.26792874854221765\n",
      "0.23994889535779862\n",
      "-0.19093891921939257\n",
      "-0.11266135083524163\n",
      "-0.1028970426734841\n",
      "0.051834184432032804\n",
      "-0.018014259581105845\n"
     ]
    }
   ],
   "source": [
    "for i in range(0,len(explanations)):\n",
    "    print(explanations['coefficient'].iloc[i])"
   ]
  },
  {
   "cell_type": "code",
   "execution_count": null,
   "metadata": {
    "hidden": true
   },
   "outputs": [],
   "source": []
  },
  {
   "cell_type": "code",
   "execution_count": null,
   "metadata": {
    "hidden": true
   },
   "outputs": [],
   "source": []
  },
  {
   "cell_type": "code",
   "execution_count": null,
   "metadata": {
    "hidden": true
   },
   "outputs": [],
   "source": []
  },
  {
   "cell_type": "code",
   "execution_count": null,
   "metadata": {
    "hidden": true
   },
   "outputs": [],
   "source": []
  },
  {
   "cell_type": "markdown",
   "metadata": {
    "heading_collapsed": true
   },
   "source": [
    "### XGBoost"
   ]
  },
  {
   "cell_type": "markdown",
   "metadata": {
    "hidden": true
   },
   "source": [
    "###### model"
   ]
  },
  {
   "cell_type": "code",
   "execution_count": 102,
   "metadata": {
    "hidden": true
   },
   "outputs": [],
   "source": [
    "current_args= args"
   ]
  },
  {
   "cell_type": "code",
   "execution_count": 103,
   "metadata": {
    "hidden": true
   },
   "outputs": [
    {
     "name": "stdout",
     "output_type": "stream",
     "text": [
      "results are up\n"
     ]
    }
   ],
   "source": [
    "classifiers = []\n",
    "aucs = []\n",
    "auc_totals = []\n",
    "preds_all = []\n",
    "test_y_all = []\n",
    "avg_runtime = []\n",
    "nr_events_all = []\n",
    "start = time.time()\n",
    "#dt_train_named = dt_train_named[columns]\n",
    "#dt_test_named = dt_test_named[columns]\n",
    "nr_events_all.extend(list(dataset_manager.get_prefix_lengths(dt_test_prefixes)))\n",
    "len_testdata = len(dt_test_named)\n",
    "len_traindata = len(dt_train_named)\n",
    "test_y_all.extend(test_y)\n",
    "\n",
    "\n",
    "cls = xgb.XGBClassifier(objective='binary:logistic',\n",
    "                                                n_estimators=500,\n",
    "                                                learning_rate= current_args['learning_rate'],\n",
    "                                                subsample=current_args['subsample'],\n",
    "                                                max_depth=int(current_args['max_depth']),\n",
    "                                                colsample_bytree=current_args['colsample_bytree'],\n",
    "                                                min_child_weight=int(current_args['min_child_weight']),\n",
    "                                                seed=random_state)\n",
    "cls.fit(dt_train_named, train_y)\n",
    "preds_pos_label_idx = np.where(cls.classes_ == 1)[0][0]\n",
    "pred = cls.predict_proba(dt_test_named)[:,preds_pos_label_idx]\n",
    "    \n",
    "preds_all.extend(pred)\n",
    "\n",
    "    \n",
    "total_time = time.time() - start\n",
    "avg_runtime.append(total_time/ (len_traindata+len_testdata))\n",
    "auc_total = roc_auc_score(test_y_all, preds_all)\n",
    "   \n",
    "print(\"results are up\")\n",
    "        \n",
    "with open(outfile, 'w') as fout:\n",
    "        fout.write(\"%s;%s;%s;%s;%s;%s\\n\"%(\"dataset\", \"method\", \"cls\", \"nr_events\", \"metric\", \"score\"))\n",
    "        fout.write(\"%s;%s;%s;%s;%s;%s\\n\"%(dataset_name, method_name, cls_method,-1, \"runtime_total\", total_time))\n",
    "        fout.write(\"%s;%s;%s;%s;%s;%s\\n\"%(dataset_name, method_name, cls_method,-1, \"runtime_avg\", avg_runtime[0]))  \n",
    "        dt_results = pd.DataFrame({\"actual\": test_y_all, \"predicted\": preds_all, \"nr_events\": nr_events_all})\n",
    "        for nr_events, group in dt_results.groupby(\"nr_events\"):\n",
    "            if len(set(group.actual)) < 2:\n",
    "                fout.write(\"%s;%s;%s;%s;%s;%s;%s\\n\"%(dataset_name, method_name, cls_method, nr_events,-1, \"auc\", np.nan))\n",
    "            else:\n",
    "                fout.write(\"%s;%s;%s;%s;%s;%s;%s\\n\"%(dataset_name, method_name, cls_method, nr_events,-1, \"auc\", roc_auc_score(group.actual, group.predicted)))\n",
    "        fout.write(\"%s;%s;%s;%s;%s;%s\\n\"%(dataset_name, method_name, cls_method,-1, \"auc\", roc_auc_score(dt_results.actual, dt_results.predicted)))"
   ]
  },
  {
   "cell_type": "code",
   "execution_count": 104,
   "metadata": {
    "hidden": true
   },
   "outputs": [
    {
     "data": {
      "text/plain": [
       "0.9288031498036557"
      ]
     },
     "execution_count": 104,
     "metadata": {},
     "output_type": "execute_result"
    }
   ],
   "source": [
    "auc_total"
   ]
  },
  {
   "cell_type": "code",
   "execution_count": null,
   "metadata": {
    "hidden": true
   },
   "outputs": [],
   "source": [
    "len(columns)"
   ]
  },
  {
   "cell_type": "code",
   "execution_count": null,
   "metadata": {
    "hidden": true
   },
   "outputs": [],
   "source": [
    "shap_values = shap.TreeExplainer(cls).shap_values(dt_train_named)\n",
    "shap.summary_plot(shap_values, dt_train_named, plot_type=\"bar\", max_display=12)"
   ]
  },
  {
   "cell_type": "code",
   "execution_count": null,
   "metadata": {
    "hidden": true
   },
   "outputs": [],
   "source": [
    "vals= np.abs(shap_values).mean(0)\n",
    "feature_importance = pd.DataFrame(list(zip(dt_train_named.columns,vals)),columns=['col_name','feature_importance_vals'])\n",
    "feature_importance.sort_values(by=['feature_importance_vals'],ascending=False,inplace=True)\n",
    "feature_importance.head(12)"
   ]
  },
  {
   "cell_type": "code",
   "execution_count": null,
   "metadata": {
    "hidden": true
   },
   "outputs": [],
   "source": [
    "cols = list(feature_importance['col_name'][0:22])"
   ]
  },
  {
   "cell_type": "code",
   "execution_count": null,
   "metadata": {
    "hidden": true
   },
   "outputs": [],
   "source": [
    "cols"
   ]
  },
  {
   "cell_type": "code",
   "execution_count": null,
   "metadata": {
    "hidden": true
   },
   "outputs": [],
   "source": [
    "for i in cols:\n",
    "    print(i)"
   ]
  },
  {
   "cell_type": "code",
   "execution_count": null,
   "metadata": {
    "hidden": true
   },
   "outputs": [],
   "source": [
    "shap.summary_plot(shap_values, dt_train_named[columns])"
   ]
  },
  {
   "cell_type": "code",
   "execution_count": null,
   "metadata": {
    "hidden": true
   },
   "outputs": [],
   "source": [
    "def ABS_SHAP(df_shap,df):\n",
    "    #import matplotlib as plt\n",
    "    # Make a copy of the input data\n",
    "    shap_v = pd.DataFrame(df_shap)\n",
    "    feature_list = df.columns\n",
    "    shap_v.columns = feature_list\n",
    "    df_v = df.copy().reset_index().drop('index',axis=1)\n",
    "    \n",
    "    # Determine the correlation in order to plot with different colors\n",
    "    corr_list = list()\n",
    "    for i in feature_list:\n",
    "        b = np.corrcoef(shap_v[i],df_v[i])[1][0]\n",
    "        corr_list.append(b)\n",
    "    corr_df = pd.concat([pd.Series(feature_list),pd.Series(corr_list)],axis=1).fillna(0)\n",
    "    # Make a data frame. Column 1 is the feature, and Column 2 is the correlation coefficient\n",
    "    corr_df.columns  = ['Variable','Corr']\n",
    "    corr_df['Sign'] = np.where(corr_df['Corr']>0,'red','blue')\n",
    "    \n",
    "    # Plot it\n",
    "    shap_abs = np.abs(shap_v)\n",
    "    k=pd.DataFrame(shap_abs.mean()).reset_index()\n",
    "    k.columns = ['Variable','SHAP_abs']\n",
    "    k2 = k.merge(corr_df,left_on = 'Variable',right_on='Variable',how='inner')\n",
    "    k2 = k2.sort_values(by='SHAP_abs',ascending = True)\n",
    "    colorlist = k2['Sign']\n",
    "    ax = k2.plot.barh(x='Variable',y='SHAP_abs',color = colorlist, figsize=(5,6),legend=False)\n",
    "    ax.set_xlabel(\"SHAP Value (Red = Positive Impact)\")\n",
    "    \n",
    "ABS_SHAP(shap_values,dt_train_named[columns]) "
   ]
  },
  {
   "cell_type": "code",
   "execution_count": null,
   "metadata": {
    "hidden": true
   },
   "outputs": [],
   "source": []
  },
  {
   "cell_type": "code",
   "execution_count": null,
   "metadata": {
    "hidden": true
   },
   "outputs": [],
   "source": []
  },
  {
   "cell_type": "code",
   "execution_count": null,
   "metadata": {
    "hidden": true
   },
   "outputs": [],
   "source": []
  }
 ],
 "metadata": {
  "kernelspec": {
   "display_name": "Python 3",
   "language": "python",
   "name": "python3"
  },
  "language_info": {
   "codemirror_mode": {
    "name": "ipython",
    "version": 3
   },
   "file_extension": ".py",
   "mimetype": "text/x-python",
   "name": "python",
   "nbconvert_exporter": "python",
   "pygments_lexer": "ipython3",
   "version": "3.6.12"
  },
  "toc": {
   "base_numbering": 1,
   "nav_menu": {},
   "number_sections": true,
   "sideBar": true,
   "skip_h1_title": false,
   "title_cell": "Table of Contents",
   "title_sidebar": "Contents",
   "toc_cell": false,
   "toc_position": {
    "height": "590.66px",
    "left": "34.9931px",
    "top": "110.926px",
    "width": "164.98px"
   },
   "toc_section_display": true,
   "toc_window_display": true
  }
 },
 "nbformat": 4,
 "nbformat_minor": 4
}
